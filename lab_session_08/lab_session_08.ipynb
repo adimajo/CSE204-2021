{
 "cells": [
  {
   "cell_type": "markdown",
   "metadata": {},
   "source": [
    "Before you turn this problem in, make sure everything runs as expected. First, **restart the kernel** (in the menubar, select Kernel$\\rightarrow$Restart) and then **run all cells** (in the menubar, select Cell$\\rightarrow$Run All).\n",
    "\n",
    "Make sure you fill in any place that says `YOUR CODE HERE` or \"YOUR ANSWER HERE\", as well as your name and collaborators below:"
   ]
  },
  {
   "cell_type": "code",
   "execution_count": null,
   "metadata": {},
   "outputs": [],
   "source": [
    "NAME = \"\"\n",
    "COLLABORATORS = \"\""
   ]
  },
  {
   "cell_type": "markdown",
   "metadata": {},
   "source": [
    "---"
   ]
  },
  {
   "cell_type": "markdown",
   "metadata": {
    "colab_type": "text",
    "deletable": false,
    "editable": false,
    "id": "1KwUkkSB8_mG",
    "nbgrader": {
     "cell_type": "markdown",
     "checksum": "6b9440dde2468c64d012bb0e7a531bc6",
     "grade": false,
     "grade_id": "cell-e9d9c8bdde5b0bfb",
     "locked": true,
     "schema_version": 3,
     "solution": false,
     "task": false
    }
   },
   "source": [
    "# CSE204 - Introduction to Machine Learning - Lab Session 8: Classification of the CIFAR-10 dataset using CNNs\n",
    "\n",
    "<img src=\"https://raw.githubusercontent.com/adimajo/CSE204-2021/master/data/logo.jpg\" style=\"float: left; width: 15%\" />\n",
    "\n",
    "[CSE204-2021](https://moodle.polytechnique.fr/course/view.php?id=12838) Lab session #08\n",
    "\n",
    "J.B. Scoggins - Adrien Ehrhardt"
   ]
  },
  {
   "cell_type": "markdown",
   "metadata": {
    "deletable": false,
    "editable": false,
    "nbgrader": {
     "cell_type": "markdown",
     "checksum": "f02210a5d71ca2d5398c19ca8083dc16",
     "grade": false,
     "grade_id": "cell-604c8e2a06fad93c",
     "locked": true,
     "schema_version": 3,
     "solution": false,
     "task": false
    }
   },
   "source": [
    "The [CIFAR-10 dataset](https://www.cs.toronto.edu/~kriz/cifar.html) provides 60000 32x32-pixel images, classified into 10 categories.  The figure below provides a random sample of some images in each category.\n",
    "\n",
    "![](https://github.com/jbscoggi/teaching/blob/master/Polytechnique/CSE204/artwork/cifar_images.png?raw=1)\n",
    "\n",
    "During this session, you will learn how to build a Convolutional Neural Network (CNN), which (when trained) will be able to automatically classify new images into one of these categories.  We will make use of the [Keras library](https://www.tensorflow.org/guide/keras) which provides a high-level interface to TensorFlow, which you have already seen.\n",
    "\n",
    "## Introduction to Keras\n",
    "\n",
    "Keras is a high-level API to build and train deep learning models. It's used for fast prototyping, advanced research, and production, with three key advantages:\n",
    "\n",
    "- __User friendly__: Keras has a simple, consistent interface optimized for common use cases. It provides clear and actionable feedback for user errors.\n",
    "- __Modular and composable__: Keras models are made by connecting configurable building blocks together, with few restrictions.\n",
    "- __Easy to extend__: Write custom building blocks to express new ideas for research. Create new layers, loss functions, and develop state-of-the-art models.\n",
    "\n",
    "In Keras, models are built by assembling multiple layers.  Suppose we want to create a new multilayer perceptron model to categorize 128-feature data into 10 labeled categories.  The Keras code could look like:\n",
    "\n",
    "```python\n",
    "# Create a sequential model\n",
    "model = tf.keras.Sequential()\n",
    "# Adds a densely-connected layer with 64 units to the model\n",
    "model.add(layers.Dense(64, activation='relu'), input_shape=[128])\n",
    "# Add another\n",
    "model.add(layers.Dense(32, activation='relu'))\n",
    "# Add a softmax layer with 10 output units\n",
    "model.add(layers.Dense(10, activation='softmax'))\n",
    "```\n",
    "\n",
    "The `input_shape` argument must be given for the first layer in the model, however all other layers will automatically determine the input shape based on the previous layer in the model.  Note that the code above is substantially simpler than the corresponding TensorFlow code.  This is particularly useful for building convolutional or other types of layers, as we will see.\n",
    "\n",
    "Once built, a model's learning can be configured with the `compile()` function\n",
    "\n",
    "```python\n",
    "model.compile(\n",
    "    loss='categorical_crossentropy', \n",
    "    optimizer=tf.train.AdamOptimizer(0.001), \n",
    "    metrics=['accuracy'])\n",
    "```\n",
    "\n",
    "In this case, a cross-entropy loss function is used with the ADAM optimization algorithm.  The `metrics` argument allows the model to keep track of a number of [training metrics](https://www.tensorflow.org/api_docs/python/tf/keras/metrics) during training.\n",
    "\n",
    "Once configured, training is performed using the `fit()` function.\n",
    "\n",
    "```python\n",
    "model.fit(data, labels, epochs=10, batch_size=32)\n",
    "```\n",
    "\n",
    "The function takes an array-like (could be numpy array) of data and the corresponding target values, and performs the optimization of the learnable parameters in the model.  See the documentation for the [fit()](https://www.tensorflow.org/api_docs/python/tf/keras/models/Model#fit) function for more details.\n",
    "\n",
    "Once trained, the model can be used to predict, using the `predict()` function. \n",
    "\n",
    "```python\n",
    "prediction = model.predict(new_data)\n",
    "```\n",
    "  \n",
    "## Tasks\n",
    "Begin by importing the necessary modules."
   ]
  },
  {
   "cell_type": "code",
   "execution_count": null,
   "metadata": {
    "colab": {},
    "colab_type": "code",
    "deletable": false,
    "editable": false,
    "id": "SO3zr_ZP8_mI",
    "nbgrader": {
     "cell_type": "code",
     "checksum": "eb979b9a6d81f4fa5cad0c938e0bffa1",
     "grade": false,
     "grade_id": "cell-7e885051ffd05fe9",
     "locked": true,
     "schema_version": 3,
     "solution": false,
     "task": false
    }
   },
   "outputs": [],
   "source": [
    "import numpy as np\n",
    "import pandas as pd\n",
    "import sklearn.metrics as metrics\n",
    "import tensorflow as tf\n",
    "from tensorflow import keras\n",
    "import matplotlib.pyplot as plt\n",
    "from tensorflow.keras.layers import Dense, Flatten, Activation\n",
    "from tensorflow.keras.layers import Conv2D, MaxPooling2D\n",
    "from tensorflow.keras.layers import Dropout, BatchNormalization\n",
    "from tensorflow.keras.optimizers import SGD"
   ]
  },
  {
   "cell_type": "markdown",
   "metadata": {
    "colab_type": "text",
    "deletable": false,
    "editable": false,
    "id": "3F9ew2xG8_mP",
    "nbgrader": {
     "cell_type": "markdown",
     "checksum": "458963fc8edcfc5b54a99f3d787027c4",
     "grade": false,
     "grade_id": "cell-de45a86f731b71b9",
     "locked": true,
     "schema_version": 3,
     "solution": false,
     "task": false
    }
   },
   "source": [
    "### Understand the dataset\n",
    "\n",
    "Understanding your dataset is the first prerequisit to training any model. The CIFAR-10 dataset is provided directly from Keras. Implement the function `load_cifar_data` below to:\n",
    "- Download the dataset. See [`tf.keras.datasets`](https://keras.io/datasets/) for how to download the data, and what format it is provided.  Note that the dataset is already divided into a training set of 50000 images, and a test set of 10000.\n",
    "- Verify that the shape of the image and target arrays are what you expect.\n",
    "- Create a list of `labels` corresponding to the 10 categories.  This will be used to convert the 0-9 digits in the target arrays to string labels. The categories are labeled as follows\n",
    "  0. airplane\n",
    "  1. automobile\n",
    "  2. bird\n",
    "  3. cat\n",
    "  4. deer\n",
    "  5. dog\n",
    "  6. frog\n",
    "  7. horse\n",
    "  8. ship\n",
    "  9. truck\n",
    "- Normalize the image data from [0,255] to be [0,1].  Normalizing improves model training.  (to test this, you can comment out the normalization later)\n",
    "- Lastly, convert the target arrays to one-hot encodings.  Hint: checkout the [`tf.keras.utils.to_categorical()`](https://www.tensorflow.org/api_docs/python/tf/keras/utils/to_categorical)"
   ]
  },
  {
   "cell_type": "code",
   "execution_count": null,
   "metadata": {
    "colab": {},
    "colab_type": "code",
    "deletable": false,
    "id": "ZPrBb3168_mU",
    "nbgrader": {
     "cell_type": "code",
     "checksum": "6cdd1c31f800fb492e6bef7a44c201af",
     "grade": false,
     "grade_id": "cell-ec7266ee72d2f46b",
     "locked": false,
     "schema_version": 3,
     "solution": true,
     "task": false
    }
   },
   "outputs": [],
   "source": [
    "def load_cifar_data():\n",
    "    \"\"\"\n",
    "    Loads the CIFAR-10 dataset using Keras and preprocess for training: \n",
    "        - one-hot encoding;\n",
    "        - normalization;\n",
    "        - labels (list of strings associated to the one-hot encoding of `y`).\n",
    "    \"\"\"\n",
    "    # YOUR CODE HERE\n",
    "    raise NotImplementedError()\n",
    "    return x_train, y_train, x_test, y_test, labels"
   ]
  },
  {
   "cell_type": "code",
   "execution_count": null,
   "metadata": {
    "deletable": false,
    "editable": false,
    "nbgrader": {
     "cell_type": "code",
     "checksum": "cb660a83054d050d56693176e6218af3",
     "grade": true,
     "grade_id": "cell-5008595c2476583f",
     "locked": true,
     "points": 1,
     "schema_version": 3,
     "solution": false,
     "task": false
    }
   },
   "outputs": [],
   "source": [
    "x_train, y_train, x_test, y_test, labels = load_cifar_data()\n",
    "assert x_train.shape == (50000, 32, 32, 3)\n",
    "assert 0 <= x_train[0][0][0][0] <= 1"
   ]
  },
  {
   "cell_type": "code",
   "execution_count": null,
   "metadata": {
    "deletable": false,
    "editable": false,
    "nbgrader": {
     "cell_type": "code",
     "checksum": "a5808740886e858b6bb356bda7ee12ab",
     "grade": true,
     "grade_id": "cell-890524ecf71635e1",
     "locked": true,
     "points": 1,
     "schema_version": 3,
     "solution": false,
     "task": false
    }
   },
   "outputs": [],
   "source": []
  },
  {
   "cell_type": "markdown",
   "metadata": {
    "deletable": false,
    "editable": false,
    "nbgrader": {
     "cell_type": "markdown",
     "checksum": "269b7b55773f2a10fa4ea1e002c7b06b",
     "grade": false,
     "grade_id": "cell-212311102443bba1",
     "locked": true,
     "schema_version": 3,
     "solution": false,
     "task": false
    }
   },
   "source": [
    "Implement the function `show_first_n_images_in_categories` below to visualize some images in each category using the `imshow()` function in `matplotlib.pyplot`. Can you recreate the figure at the top of today's lab? Hint: the it was created using the first 8 images belonging to each category in the training data."
   ]
  },
  {
   "cell_type": "code",
   "execution_count": null,
   "metadata": {
    "deletable": false,
    "nbgrader": {
     "cell_type": "code",
     "checksum": "9a11c3bb80c6b057cc6d39be2901f900",
     "grade": false,
     "grade_id": "cell-d69cddf65aa51bf7",
     "locked": false,
     "schema_version": 3,
     "solution": true,
     "task": false
    }
   },
   "outputs": [],
   "source": [
    "# Visualize the dataset\n",
    "def show_first_n_images_in_categories(n: int, images: np.array, categories: np.array,\n",
    "                                      labels: np.array, file_name: str = None):\n",
    "    \"\"\"Plots the first n images in each category from the image data.\n",
    "    \n",
    "    :param int n: number of images per category to plot\n",
    "    :param numpy.array images: images as numerical data (x_*)\n",
    "    :param numpy.array categories: the categories of each image in `images`\n",
    "    :param numpy.array labels: the labels of categories 0 .. 9    \n",
    "    :param str file_name: print figure to file (optional)\n",
    "    \"\"\"\n",
    "    f, axes = plt.subplots(n, 10, figsize=(11, 8))\n",
    "    # YOUR CODE HERE\n",
    "    raise NotImplementedError()"
   ]
  },
  {
   "cell_type": "code",
   "execution_count": null,
   "metadata": {
    "deletable": false,
    "editable": false,
    "nbgrader": {
     "cell_type": "code",
     "checksum": "49ef938a7311c3cd39db89a656644b47",
     "grade": true,
     "grade_id": "cell-0cc173459e25096d",
     "locked": true,
     "points": 2,
     "schema_version": 3,
     "solution": false,
     "task": false
    }
   },
   "outputs": [],
   "source": [
    "show_first_n_images_in_categories(8, x_train, y_train, labels)"
   ]
  },
  {
   "cell_type": "markdown",
   "metadata": {
    "colab_type": "text",
    "deletable": false,
    "editable": false,
    "id": "PsCeYamv8_mY",
    "nbgrader": {
     "cell_type": "markdown",
     "checksum": "a8ed5e2f86bd5777bebaf5b30635b195",
     "grade": false,
     "grade_id": "cell-5808a9d64e168a22",
     "locked": true,
     "schema_version": 3,
     "solution": false,
     "task": false
    }
   },
   "source": [
    "### First naive model\n",
    "\n",
    "In order to better understand the importance of CNNs, it is instructive to first see how well a naive dense network, as the one we've done in the previous lab, performs on the dataset.\n",
    "\n",
    "- Create a sequential model with 4 `Dense` hidden layers of 2048, 1024, 512, and 256 nodes each, with ReLU activation, and a linear output layer of 10 nodes.  Note that you will need to use the `Flatten` layer first in order to convert the 3D (x, y, rgb) image data into 1D. How is the resulting vector ordered with respect to its original 3D structure?\n",
    "- Compile the model with a `categorical_crossentropy` loss, using the [SGD optimizer](https://keras.io/api/optimizers/sgd/), including the `accuracy` metric.\n",
    "\n",
    "*Note*: this is similar to [lab_session_07](https://adimajo.github.io/CSE204-2021/lab_session_07/lab_session_07.html)."
   ]
  },
  {
   "cell_type": "markdown",
   "metadata": {
    "deletable": false,
    "editable": false,
    "nbgrader": {
     "cell_type": "markdown",
     "checksum": "3265cfc320f9404adf06e0a972241c67",
     "grade": false,
     "grade_id": "cell-9ae95a9a9f2ae5e3",
     "locked": true,
     "schema_version": 3,
     "solution": false,
     "task": false
    }
   },
   "source": [
    "#### SGD algorithm (recall from [lab_session_06](https://adimajo.github.io/CSE204-2021/lab_session_06/lab_session_06.html))\n",
    "\n",
    "Until now, we used (the \"classical\" or \"batch\") gradient descent, i.e. we averaged (or summed) the gradient of the loss w.r.t. each point in the dataset and then performed an update step, e.g.\n",
    "\n",
    "$$\\theta^{(t + 1)} = \\theta^{(t)} - \\eta \\sum_{i=1}^n \\nabla_{\\theta^{(t)}}\\ell_i.$$\n",
    "\n",
    "Whenever $n$ is very large, this can become a problem. Alternatively, one could do:\n",
    "\n",
    "$$\\theta^{(t + 1)} = \\theta^{(t)} - \\eta \\nabla_{\\theta^{(t)}} \\ell_i,$$\n",
    "\n",
    "where $i$ is sampled randomly without replacement from $\\{1, \\dots, n\\}$. Now $\\theta^{(t)}$ changes \"more often\" so this can yield instabilities... such that \"mini-batch(es)\" might be needed: instead of using all the training data, or a single data point, we split the data into smaller subsets (e.g. 32 samples)."
   ]
  },
  {
   "cell_type": "code",
   "execution_count": null,
   "metadata": {
    "colab": {},
    "colab_type": "code",
    "deletable": false,
    "id": "y77TwOfJ8_mZ",
    "nbgrader": {
     "cell_type": "code",
     "checksum": "f28ebeffa59943a694238701d68d080e",
     "grade": false,
     "grade_id": "cell-a0ccef54e79d4305",
     "locked": false,
     "schema_version": 3,
     "solution": true,
     "task": false
    }
   },
   "outputs": [],
   "source": [
    "def dense_model(input_shape, num_classes):\n",
    "    \"\"\"\n",
    "    Returns a compiled keras Sequential model\n",
    "    \n",
    "    :param tuple input_shape: shape of ONE example as passed to the first layer\n",
    "    :param int num_classes: number of output classes as passed to the last layer\n",
    "    \"\"\"\n",
    "    # model = ...  # <- TO UNCOMMENT AND COMPLETE\n",
    "    # YOUR CODE HERE\n",
    "    raise NotImplementedError()\n",
    "    # model.compile(...)  # <- TO UNCOMMENT AND COMPLETE\n",
    "    # YOUR CODE HERE\n",
    "    raise NotImplementedError()\n",
    "    return model"
   ]
  },
  {
   "cell_type": "code",
   "execution_count": null,
   "metadata": {
    "deletable": false,
    "editable": false,
    "nbgrader": {
     "cell_type": "code",
     "checksum": "274774d8d635fc3b42135bb30d8259c3",
     "grade": false,
     "grade_id": "cell-2cdcbf380226cf02",
     "locked": true,
     "schema_version": 3,
     "solution": false,
     "task": false
    }
   },
   "outputs": [],
   "source": [
    "model = dense_model(x_train.shape[1:], 10)"
   ]
  },
  {
   "cell_type": "code",
   "execution_count": null,
   "metadata": {
    "deletable": false,
    "editable": false,
    "nbgrader": {
     "cell_type": "code",
     "checksum": "e19731ba68af58a88008f737696c6d94",
     "grade": true,
     "grade_id": "cell-933e502528014bfc",
     "locked": true,
     "points": 1,
     "schema_version": 3,
     "solution": false,
     "task": false
    }
   },
   "outputs": [],
   "source": [
    "assert len(model.layers) >= 6\n",
    "assert 'flatten' in model.layers[0].name.lower()\n",
    "assert model.optimizer._name == 'SGD'"
   ]
  },
  {
   "cell_type": "code",
   "execution_count": null,
   "metadata": {
    "deletable": false,
    "editable": false,
    "nbgrader": {
     "cell_type": "code",
     "checksum": "51516fb70fafee7029b82de709e9dcb7",
     "grade": true,
     "grade_id": "cell-f9162ef3aa0e26cc",
     "locked": true,
     "points": 1,
     "schema_version": 3,
     "solution": false,
     "task": false
    }
   },
   "outputs": [],
   "source": []
  },
  {
   "cell_type": "markdown",
   "metadata": {
    "deletable": false,
    "editable": false,
    "nbgrader": {
     "cell_type": "markdown",
     "checksum": "3ce3cacc843e83aa96db995674333f74",
     "grade": false,
     "grade_id": "cell-3ce7673d79f64f50",
     "locked": true,
     "schema_version": 3,
     "solution": false,
     "task": false
    }
   },
   "source": [
    "- Compute by hand the total number of trainable parameters (weights and biases) in the model (you can add an image in a new cell using Edit > Insert New Image; provide some detail...)."
   ]
  },
  {
   "cell_type": "markdown",
   "metadata": {
    "deletable": false,
    "nbgrader": {
     "cell_type": "markdown",
     "checksum": "4dfe3610d43cee836b551bf24b614def",
     "grade": true,
     "grade_id": "cell-4150d975416573c4",
     "locked": false,
     "points": 1,
     "schema_version": 3,
     "solution": true,
     "task": false
    }
   },
   "source": [
    "YOUR ANSWER HERE"
   ]
  },
  {
   "cell_type": "markdown",
   "metadata": {
    "deletable": false,
    "editable": false,
    "nbgrader": {
     "cell_type": "markdown",
     "checksum": "ee83c01069304644c558c5c80f93d20e",
     "grade": false,
     "grade_id": "cell-0576e5a3c3f2e1a8",
     "locked": true,
     "schema_version": 3,
     "solution": false,
     "task": false
    }
   },
   "source": [
    "- Use the `summary()` function on model to get a text summary of the model.  Did you compute the number of parameters correctly?"
   ]
  },
  {
   "cell_type": "code",
   "execution_count": null,
   "metadata": {
    "deletable": false,
    "editable": false,
    "nbgrader": {
     "cell_type": "code",
     "checksum": "77a2e0bd7018731b8bdc554087dfb1ed",
     "grade": false,
     "grade_id": "cell-6c728fd41d77b7cf",
     "locked": true,
     "schema_version": 3,
     "solution": false,
     "task": false
    }
   },
   "outputs": [],
   "source": [
    "model.summary()"
   ]
  },
  {
   "cell_type": "markdown",
   "metadata": {
    "deletable": false,
    "editable": false,
    "nbgrader": {
     "cell_type": "markdown",
     "checksum": "4d916a6254afc0521030af58a1f15623",
     "grade": false,
     "grade_id": "cell-43b2327a559ea0a1",
     "locked": true,
     "schema_version": 3,
     "solution": false,
     "task": false
    }
   },
   "source": [
    "- Train the model:\n",
    "  - Start with a small batch size of 32 samples and train the model for 10 epochs;\n",
    "  - Use early stopping on the validation accuracy with a patience of 2.\n",
    "\n",
    "*[Early stopping](https://keras.io/api/callbacks/early_stopping/):* stop before reaching the specified number of epochs if given criteria are met, e.g. if a level of improvement during the last epoch(s) has not been reached.\n",
    "\n",
    "*Patience:* number of epochs where the given criteria have not been matched, but we \"pay to view\".\n",
    "\n",
    "*[Keras callbacks](https://keras.io/api/callbacks/)*: functions evaluated at the end of each epoch, e.g. an early stopping rule, or some monitoring / saving function, ..."
   ]
  },
  {
   "cell_type": "code",
   "execution_count": null,
   "metadata": {
    "deletable": false,
    "nbgrader": {
     "cell_type": "code",
     "checksum": "5493f1a3a2d372a5f3ed41f6a6854f00",
     "grade": false,
     "grade_id": "cell-cfcdbdb7c09412d9",
     "locked": false,
     "schema_version": 3,
     "solution": true,
     "task": false
    }
   },
   "outputs": [],
   "source": [
    "def train_model(model, x: np.array, y: np.array,\n",
    "                x_test: np.array, y_test: np.array,\n",
    "                batch_size: int = 32, epochs: int = 10, file_name: str = None):\n",
    "    \"\"\"\n",
    "    Trains the model on the given data.\n",
    "\n",
    "    :param keras.sequential model: the instanciated model to train\n",
    "    :param numpy.array x: the training data\n",
    "    :param numpy.array y: the true values\n",
    "    :param numpy.array x_test: the test data\n",
    "    :param numpy.array y_test: the true test values\n",
    "    :param int batch_size: \n",
    "    :param int epochs: \n",
    "    \"\"\"\n",
    "    # ...\n",
    "    # model.fit(...)  # <- TO UNCOMMENT AND COMPLETE\n",
    "    # YOUR CODE HERE\n",
    "    raise NotImplementedError()"
   ]
  },
  {
   "cell_type": "code",
   "execution_count": null,
   "metadata": {},
   "outputs": [],
   "source": [
    "# Uncomment: Computationally heavy\n",
    "# train_model(model, x_train, y_train, x_test, y_test)"
   ]
  },
  {
   "cell_type": "code",
   "execution_count": null,
   "metadata": {
    "deletable": false,
    "editable": false,
    "nbgrader": {
     "cell_type": "code",
     "checksum": "2841e151075103850fa03b0f3622c3c4",
     "grade": true,
     "grade_id": "cell-f51b59db86707d32",
     "locked": true,
     "points": 1,
     "schema_version": 3,
     "solution": false,
     "task": false
    }
   },
   "outputs": [],
   "source": []
  },
  {
   "cell_type": "markdown",
   "metadata": {
    "deletable": false,
    "editable": false,
    "nbgrader": {
     "cell_type": "markdown",
     "checksum": "43d8d8a912289d6103e7a3e4f403fc09",
     "grade": false,
     "grade_id": "cell-8efb8d342f5cd030",
     "locked": true,
     "schema_version": 3,
     "solution": false,
     "task": false
    }
   },
   "source": [
    "- How does the model perform? Is it any better than a random guess? \n",
    "- Try changing the batch size to see if there is any improvement.\n",
    "- Try adding batch normalization after each hidden layer.  Any better?\n",
    "\n",
    "Discuss in the cell(s) below."
   ]
  },
  {
   "cell_type": "markdown",
   "metadata": {
    "deletable": false,
    "nbgrader": {
     "cell_type": "markdown",
     "checksum": "aa6b5b7cafa8c66e3d887a0dcd1fa8e7",
     "grade": true,
     "grade_id": "cell-5195e94b3e71a646",
     "locked": false,
     "points": 2,
     "schema_version": 3,
     "solution": true,
     "task": false
    }
   },
   "source": [
    "YOUR ANSWER HERE"
   ]
  },
  {
   "cell_type": "markdown",
   "metadata": {
    "colab_type": "text",
    "deletable": false,
    "editable": false,
    "id": "VvfclibF8_me",
    "nbgrader": {
     "cell_type": "markdown",
     "checksum": "55d50e330e249907720ac1d602ff8efd",
     "grade": false,
     "grade_id": "cell-fedb257c77a93d0a",
     "locked": true,
     "schema_version": 3,
     "solution": false,
     "task": false
    }
   },
   "source": [
    "### Convolutional Net\n",
    "\n",
    "Convolutional neural networks (see this week's slides) allow us to do drastically better on this dataset (and many image classification problems in general). In this task, you will build your first convolutional network and see how it performs.\n",
    "\n",
    "- Create a new model with the following layers\n",
    "  - 3x3 2D convolution with zero padding (same), 32 filters\n",
    "  - ReLU activation\n",
    "  - 3,3 2D convolution, no padding, 32 filters\n",
    "  - ReLU activation\n",
    "  - Max pooling with size (2,2)\n",
    "  - 3x3 2D convolution, no padding, 64 filters\n",
    "  - ReLU activation\n",
    "  - 3x3 2D convolution, no padding, 64 filters\n",
    "  - ReLU activation\n",
    "  - Max pooling with size (2,2)\n",
    "  - Flatten\n",
    "  - Dense layer with 512 nodes, ReLU activation\n",
    "  - Softmax output layer with 10 nodes\n",
    "- Compile the network with same optimizer and metrics as the dense network. "
   ]
  },
  {
   "cell_type": "code",
   "execution_count": null,
   "metadata": {
    "colab": {},
    "colab_type": "code",
    "deletable": false,
    "id": "hczfh5fO8_mf",
    "nbgrader": {
     "cell_type": "code",
     "checksum": "bdf8b26536cf8faced422843c936687e",
     "grade": false,
     "grade_id": "cell-fea804af641a7390",
     "locked": false,
     "schema_version": 3,
     "solution": true,
     "task": false
    }
   },
   "outputs": [],
   "source": [
    "def cnn_model(input_shape: tuple, num_classes: int):\n",
    "    \"\"\"\n",
    "    Returns a compiled keras Conv2D model\n",
    "    \n",
    "    :param tuple input_shape: shape of ONE example as passed to the first layer\n",
    "    :param int num_classes: number of output classes as passed to the last layer\n",
    "    \"\"\"\n",
    "    # model = ...\n",
    "    # YOUR CODE HERE\n",
    "    raise NotImplementedError()\n",
    "    # model.compile(...)\n",
    "    # YOUR CODE HERE\n",
    "    raise NotImplementedError()\n",
    "    return(model)"
   ]
  },
  {
   "cell_type": "code",
   "execution_count": null,
   "metadata": {
    "deletable": false,
    "editable": false,
    "nbgrader": {
     "cell_type": "code",
     "checksum": "334ac0c7f67dbb529db2e7698eb38ef2",
     "grade": true,
     "grade_id": "cell-508df777737ef378",
     "locked": true,
     "points": 1,
     "schema_version": 3,
     "solution": false,
     "task": false
    }
   },
   "outputs": [],
   "source": [
    "model = cnn_model(x_train.shape[1:], 10)\n",
    "assert len(model.layers) >= 13"
   ]
  },
  {
   "cell_type": "code",
   "execution_count": null,
   "metadata": {
    "deletable": false,
    "editable": false,
    "nbgrader": {
     "cell_type": "code",
     "checksum": "b243bdb2bf26dcfba5892dbf3ef69c4b",
     "grade": true,
     "grade_id": "cell-25f38b0eed0320dd",
     "locked": true,
     "points": 1,
     "schema_version": 3,
     "solution": false,
     "task": false
    }
   },
   "outputs": [],
   "source": []
  },
  {
   "cell_type": "markdown",
   "metadata": {
    "deletable": false,
    "editable": false,
    "nbgrader": {
     "cell_type": "markdown",
     "checksum": "d46b64ccda63358b1e2d29de3335c3ac",
     "grade": false,
     "grade_id": "cell-f74a14bfbae9b8a7",
     "locked": true,
     "schema_version": 3,
     "solution": false,
     "task": false
    }
   },
   "source": [
    "- Compute by hand the number of trainable parameters in this network.  Are there more or less than the more simple dense network? Why? (Give some details; use the markdown cell below OR add a new cell add an image using Edit > Insert Image)."
   ]
  },
  {
   "cell_type": "markdown",
   "metadata": {
    "deletable": false,
    "nbgrader": {
     "cell_type": "markdown",
     "checksum": "64e0372e1fe9db3d9d1cf02f3dd5de51",
     "grade": true,
     "grade_id": "cell-11bdd882aa00b248",
     "locked": false,
     "points": 1,
     "schema_version": 3,
     "solution": true,
     "task": false
    }
   },
   "source": [
    "YOUR ANSWER HERE"
   ]
  },
  {
   "cell_type": "markdown",
   "metadata": {
    "deletable": false,
    "editable": false,
    "nbgrader": {
     "cell_type": "markdown",
     "checksum": "dfba8b221caa90de75f5a7fc287f57e2",
     "grade": false,
     "grade_id": "cell-66e48ea413418b76",
     "locked": true,
     "schema_version": 3,
     "solution": false,
     "task": false
    }
   },
   "source": [
    "Confirm with `summary()`."
   ]
  },
  {
   "cell_type": "code",
   "execution_count": null,
   "metadata": {
    "deletable": false,
    "editable": false,
    "nbgrader": {
     "cell_type": "code",
     "checksum": "5e83a11f5e4d0a0bbec845c340a43862",
     "grade": false,
     "grade_id": "cell-4e2960996f6c497a",
     "locked": true,
     "schema_version": 3,
     "solution": false,
     "task": false
    }
   },
   "outputs": [],
   "source": [
    "model.summary()"
   ]
  },
  {
   "cell_type": "markdown",
   "metadata": {},
   "source": [
    "- Use the same training procedure as before for 10 epochs and batch size of 32.\n",
    "- How does the validation accuracy change with each epoch?\n",
    "- Increase the batch size to 64 and retrain.  Better or worse?  Try 128 as well.  How does increasing the batch size improve the training?\n",
    "- Note how the validation accuracy begins to decrease at some point, while the training accuracy continues to increase.  What is this phenomena called?  Try adding 3 dropout layers to the model, one before each max pooling layer and one before the last layer, using a dropout ratio of 0.25.  Does this improve over-fitting?\n",
    "- Play with batch normalization.  For example, add batch normalization layers after each dropout layer.  Do you notice a faster increase in the model improvement? Why?\n",
    "\n",
    "Discuss in the cell(s) below."
   ]
  },
  {
   "cell_type": "code",
   "execution_count": null,
   "metadata": {},
   "outputs": [],
   "source": [
    "# Uncomment: computationally heavy\n",
    "# train_model(model, x_train, y_train, x_test, y_test)"
   ]
  },
  {
   "cell_type": "code",
   "execution_count": null,
   "metadata": {
    "deletable": false,
    "nbgrader": {
     "cell_type": "code",
     "checksum": "701c7f7f28135fb05eda3e881b474c73",
     "grade": true,
     "grade_id": "cell-3e0e28399236ee29",
     "locked": false,
     "points": 1,
     "schema_version": 3,
     "solution": true,
     "task": false
    }
   },
   "outputs": [],
   "source": [
    "# YOUR CODE HERE\n",
    "raise NotImplementedError()"
   ]
  },
  {
   "cell_type": "markdown",
   "metadata": {
    "deletable": false,
    "nbgrader": {
     "cell_type": "markdown",
     "checksum": "a49c0337b7af17d2400672f0335526a0",
     "grade": true,
     "grade_id": "cell-c2bcd521f14012a5",
     "locked": false,
     "points": 1,
     "schema_version": 3,
     "solution": true,
     "task": false
    }
   },
   "source": [
    "YOUR ANSWER HERE"
   ]
  },
  {
   "attachments": {
    "cnn_predictions.png": {
     "image/png": "[encoded data removed]"
    }
   },
   "cell_type": "markdown",
   "metadata": {
    "colab_type": "text",
    "deletable": false,
    "editable": false,
    "id": "QygWsiUp8_mj",
    "nbgrader": {
     "cell_type": "markdown",
     "checksum": "f02ab3b00c20a572f0a37c81d1599399",
     "grade": false,
     "grade_id": "cell-3b7edf87b24fb30c",
     "locked": true,
     "schema_version": 3,
     "solution": false,
     "task": false
    }
   },
   "source": [
    "### Make some predictions\n",
    "\n",
    "Assuming all went well during the previous tasks, you can now predict the category of a new image!  Here are a few examples of predictions:\n",
    "\n",
    "![cnn_predictions.png](attachment:cnn_predictions.png)\n",
    "\n",
    "- Use `predict` on your trained model to test its prediction on a few example images.  You can use images taken from the test dataset, as these were not used to train your model. *Hint*: it can be convenient to use the `save` and `load_model` functions from Keras if you plan on working back and forth on the lab, i.e. you can save the model after training it, and then decide to load from from the file instead of building a new one on successive runs.\n",
    "- Using `imshow`, subplots and `barh` from `matplotlib.pyplot`, try to recreate the image above for a few example images."
   ]
  },
  {
   "cell_type": "code",
   "execution_count": null,
   "metadata": {
    "colab": {},
    "colab_type": "code",
    "deletable": false,
    "id": "aO7ex6v68_mk",
    "nbgrader": {
     "cell_type": "code",
     "checksum": "0b106cfb7f6a2d58217143acfaa89a71",
     "grade": false,
     "grade_id": "cell-c4a83c675143a3e2",
     "locked": false,
     "schema_version": 3,
     "solution": true,
     "task": false
    }
   },
   "outputs": [],
   "source": [
    "def predict(model, x: np.array, labels: list, file_name: str = None):\n",
    "    \"\"\"\n",
    "    Plots the figures for which we want to predict the class alongside\n",
    "    the predicted probabilities of each class.\n",
    "\n",
    "    :param model: Keras model\n",
    "    :param numpy.array x: a few test points to predict\n",
    "    :param list labels: the list of labels associated with classes 0, ..., 9\n",
    "    :param str file_name: (optional) filename to save the plot\n",
    "    \"\"\"\n",
    "    # YOUR CODE HERE\n",
    "    raise NotImplementedError()"
   ]
  },
  {
   "cell_type": "code",
   "execution_count": null,
   "metadata": {
    "deletable": false,
    "nbgrader": {
     "cell_type": "code",
     "checksum": "3a4e11db2958358722ed219889883d5d",
     "grade": true,
     "grade_id": "cell-8053769a7012c500",
     "locked": false,
     "points": 2,
     "schema_version": 3,
     "solution": true,
     "task": false
    }
   },
   "outputs": [],
   "source": [
    "# YOUR CODE HERE\n",
    "raise NotImplementedError()"
   ]
  },
  {
   "cell_type": "markdown",
   "metadata": {
    "colab_type": "text",
    "deletable": false,
    "editable": false,
    "id": "2S1bkXZF8_mm",
    "nbgrader": {
     "cell_type": "markdown",
     "checksum": "13b8909b203482a4f727b5169e60db90",
     "grade": false,
     "grade_id": "cell-afeff2eb67999bb0",
     "locked": true,
     "schema_version": 3,
     "solution": false,
     "task": false
    }
   },
   "source": [
    "- Create a _confusion matrix_. A confusion matrix is often used in supervised learning to understand how well (or not) each category is being classified.  Each element (i,j) in the confusion matrix represents for each true (actual) class i the predicted class j.  Consider the following 10 predictions for a 2 category model predicting male or female.\n",
    "\n",
    "| example     | true category  | predicted category  |\n",
    "|-------------|----------------|---------------------|\n",
    "| 1           | male           | male                |\n",
    "| 2           | female         | male                |\n",
    "| 3           | female         | female              |\n",
    "| 4           | male           | male                |\n",
    "| 5           | male           | female              |\n",
    "| 6           | male           | male                |\n",
    "| 7           | female         | female              |\n",
    "| 8           | male           | female              |\n",
    "| 9           | female         | female              |\n",
    "| 10          | female         | female              |\n",
    "\n",
    "Based on the above data, the model is accurate 70% of the time.  The confusion matrix is\n",
    "\n",
    "|                    | _predicted_ male | _predicted_ female |\n",
    "|--------------------|------------------|--------------------|\n",
    "| _actual_ male      | 3                | 2                  |\n",
    "| _actual_ female    | 1                | 4                  |\n",
    "\n",
    "The confusion matrix gives us more information than a simple accuracy measurement.  In this case, we see that the class female has a higher accuracy over male. Create the confusion matrix **as a Pandas DataFrame** on the CIFAR-10 dataset using the test data, with **\"actual {label}\"** as rows and **\"predicted {label}\"** as columns.  What does it tell you about the relationships between each class? Comment in the cell(s) below."
   ]
  },
  {
   "cell_type": "code",
   "execution_count": null,
   "metadata": {
    "colab": {},
    "colab_type": "code",
    "deletable": false,
    "id": "pw_2A36S8_mn",
    "nbgrader": {
     "cell_type": "code",
     "checksum": "cbdf20289130bc41d5537bc9c495ad49",
     "grade": false,
     "grade_id": "cell-80a631a88016e228",
     "locked": false,
     "schema_version": 3,
     "solution": true,
     "task": false
    }
   },
   "outputs": [],
   "source": [
    "def confusion_matrix(model, x_test: np.array, y_test: np.array, labels: list) -> pd.DataFrame:\n",
    "    \"\"\"\n",
    "    Predict on x_test using model\n",
    "    Use sklearn.metrics.confusion_matrix to get the matrix\n",
    "    Prettify the result\n",
    "\n",
    "    :param model: keras model\n",
    "    :param numpy.array x: a few test points to predict\n",
    "    :param numpy.array x: true values associated with x_test\n",
    "    :param list labels: list of names of labels\n",
    "    \"\"\"\n",
    "    # df = ...  # <- TO UNCOMMENT AND COMPLETE\n",
    "    # YOUR CODE HERE\n",
    "    raise NotImplementedError()\n",
    "    # making the table look fancy\n",
    "    df.style.set_properties(**{'width':'6em', 'text-align':'center'}).set_table_styles([dict(selector=\"th\", props=[('text-align', 'center')])])\n",
    "    return df"
   ]
  },
  {
   "cell_type": "code",
   "execution_count": null,
   "metadata": {
    "deletable": false,
    "editable": false,
    "nbgrader": {
     "cell_type": "code",
     "checksum": "36e86044e82380d8bcdad45a1f316731",
     "grade": true,
     "grade_id": "cell-0946cef9cfe2451c",
     "locked": true,
     "points": 2,
     "schema_version": 3,
     "solution": false,
     "task": false
    }
   },
   "outputs": [],
   "source": [
    "conf_matrix = confusion_matrix(model, x_test, y_test, labels)"
   ]
  },
  {
   "cell_type": "code",
   "execution_count": null,
   "metadata": {
    "deletable": false,
    "editable": false,
    "nbgrader": {
     "cell_type": "code",
     "checksum": "44b939e27c47d31a33a5fba0cdc21da2",
     "grade": true,
     "grade_id": "cell-304b79b00747a8c2",
     "locked": true,
     "points": 0,
     "schema_version": 3,
     "solution": false,
     "task": false
    }
   },
   "outputs": [],
   "source": [
    "conf_matrix"
   ]
  },
  {
   "cell_type": "markdown",
   "metadata": {
    "deletable": false,
    "editable": false,
    "nbgrader": {
     "cell_type": "markdown",
     "checksum": "19f0866652b5ebd0cdbfb3cc3f2b67d2",
     "grade": false,
     "grade_id": "cell-6db62dfe8edbcb8d",
     "locked": true,
     "schema_version": 3,
     "solution": false,
     "task": false
    }
   },
   "source": [
    "### F1 Score"
   ]
  },
  {
   "cell_type": "markdown",
   "metadata": {
    "deletable": false,
    "editable": false,
    "nbgrader": {
     "cell_type": "markdown",
     "checksum": "5d0f5cbabf21be19efd812d547aa0441",
     "grade": false,
     "grade_id": "cell-31c22fc569e2dccd",
     "locked": true,
     "schema_version": 3,
     "solution": false,
     "task": false
    }
   },
   "source": [
    "Quoting Wikipedia: \"Precision (also called positive predictive value) is the fraction of relevant instances among the retrieved instances, while recall (also known as sensitivity) is the fraction of relevant instances that were retrieved. Both precision and recall are therefore based on relevance.\"\n",
    "\n",
    "In our example, precision for the airplane class is the number of true airplanes classified as such by our model divided by number of airplanes our model predicted. In other words, the diagonal elements divided by the sum over the whole column. Recall is the number of true airplanes classified as such by our model divided by the number of actual airplanes. In other words, the diagonal elements divided by the sum over the whole row.\n",
    "\n",
    "In general, **one wants both metrics to be high**. In an extreme case, if we predict only airplanes, all relevant airplanes will be among the predicted, yielding a recall of 1, but a poor precision. On the other end of the spectrum, if we're good at predicting only a particular type of airplane which appears in the dataset as an airplane, and predict no other airplanes, precision will be high, but recall quite poor.\n",
    "\n",
    "Subsequently, the F1 score is traditionally used to sum up both metrics as their harmonic mean:\n",
    "\n",
    "$$\\text{F1} = \\dfrac{2 * \\text{precision} * \\text{recall}}{\\text{precision} + \\text{recall}}.$$\n",
    "\n",
    "This metric can be computed for each class. They can then be averaged. The simple average is called a **macro** F1 score. A **weighted** average takes into account the proportion of samples in each class in the training dataset to weight each F1 score.\n",
    "\n",
    "Implement the F1 score below."
   ]
  },
  {
   "cell_type": "code",
   "execution_count": null,
   "metadata": {
    "deletable": false,
    "nbgrader": {
     "cell_type": "code",
     "checksum": "a32608a881b39def33b387581221d894",
     "grade": false,
     "grade_id": "cell-83c4d814c5bda28c",
     "locked": false,
     "schema_version": 3,
     "solution": true,
     "task": false
    }
   },
   "outputs": [],
   "source": [
    "def f1_score(conf_matrix: pd.DataFrame):\n",
    "    \"\"\"\n",
    "    Compute f1_score of each category, macro and weighted f1\n",
    "\n",
    "    :param pandas.DataFrame conf_matrix: a confidence matrix (as given by confusion_matrix)\n",
    "    \"\"\"\n",
    "    # YOUR CODE HERE\n",
    "    raise NotImplementedError()\n",
    "    return f1_scores, macro_f1, weighted_f1"
   ]
  },
  {
   "cell_type": "code",
   "execution_count": null,
   "metadata": {
    "deletable": false,
    "editable": false,
    "nbgrader": {
     "cell_type": "code",
     "checksum": "df975b8d0a852e907197c4f0bbcd8d6d",
     "grade": true,
     "grade_id": "cell-cc1db85d60d098e4",
     "locked": true,
     "points": 1,
     "schema_version": 3,
     "solution": false,
     "task": false
    }
   },
   "outputs": [],
   "source": [
    "f1_scores, macro_f1, weighted_f1 = f1_score(conf_matrix)\n",
    "print(\"F1 Macro:\", macro_f1)\n",
    "print(\"F1 Weighted:\", weighted_f1)"
   ]
  },
  {
   "cell_type": "markdown",
   "metadata": {
    "colab_type": "text",
    "deletable": false,
    "editable": false,
    "id": "Faf-wA3N8_mp",
    "nbgrader": {
     "cell_type": "markdown",
     "checksum": "9896b940f8ce683aefcaf6496e9b2407",
     "grade": false,
     "grade_id": "cell-55ea6ff02c3ade36",
     "locked": true,
     "schema_version": 3,
     "solution": false,
     "task": false
    }
   },
   "source": [
    "## Further exercises (Bonus)\n",
    "\n",
    "- Try training on [additional datasets available with Keras](https://keras.io/api/datasets/). For example, the MNIST data (hand-written digits) will require virtually no code changes to train.\n",
    "- Play with different CNN architectures. Can you beat the performance of the net used in this lab?"
   ]
  }
 ],
 "metadata": {
  "colab": {
   "name": "Copie de Lab8.ipynb",
   "provenance": [
    {
     "file_id": "https://github.com/jbscoggi/teaching/blob/master/Polytechnique/CSE204/Lab8.ipynb",
     "timestamp": 1576227396884
    }
   ]
  },
  "kernelspec": {
   "display_name": "CSE204",
   "language": "python",
   "name": "cse204"
  },
  "language_info": {
   "codemirror_mode": {
    "name": "ipython",
    "version": 3
   },
   "file_extension": ".py",
   "mimetype": "text/x-python",
   "name": "python",
   "nbconvert_exporter": "python",
   "pygments_lexer": "ipython3",
   "version": "3.8.12"
  }
 },
 "nbformat": 4,
 "nbformat_minor": 4
}
