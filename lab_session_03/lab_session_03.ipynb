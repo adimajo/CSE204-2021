{
 "cells": [
  {
   "cell_type": "markdown",
   "metadata": {},
   "source": [
    "Before you turn this problem in, make sure everything runs as expected. First, **restart the kernel** (in the menubar, select Kernel$\\rightarrow$Restart) and then **run all cells** (in the menubar, select Cell$\\rightarrow$Run All).\n",
    "\n",
    "Make sure you fill in any place that says `YOUR CODE HERE` or \"YOUR ANSWER HERE\", as well as your name and collaborators below:"
   ]
  },
  {
   "cell_type": "code",
   "execution_count": null,
   "metadata": {},
   "outputs": [],
   "source": [
    "NAME = \"\"\n",
    "COLLABORATORS = \"\""
   ]
  },
  {
   "cell_type": "markdown",
   "metadata": {},
   "source": [
    "---"
   ]
  },
  {
   "cell_type": "markdown",
   "metadata": {
    "deletable": false,
    "editable": false,
    "nbgrader": {
     "cell_type": "markdown",
     "checksum": "52d47acc1e3642fa14c0aac05255ba33",
     "grade": false,
     "grade_id": "cell-016ee4458dc3052a",
     "locked": true,
     "schema_version": 3,
     "solution": false,
     "task": false
    },
    "tags": [
     "meta",
     "toc_en"
    ]
   },
   "source": [
    "# CSE204 - Introduction to Machine Learning - Lab Session 3: k-Nearest Neighbors & Logistic Regression\n",
    "\n",
    "<img src=\"https://raw.githubusercontent.com/adimajo/CSE204-2021/master/data/logo.jpg\" style=\"float: left; width: 15%\" />\n",
    "\n",
    "[CSE204-2021](https://moodle.polytechnique.fr/course/view.php?id=12838) Lab session #03\n",
    "\n",
    "Jérémie DECOCK - Adrien EHRHARDT"
   ]
  },
  {
   "cell_type": "markdown",
   "metadata": {
    "deletable": false,
    "editable": false,
    "nbgrader": {
     "cell_type": "markdown",
     "checksum": "f36d38cc0b591b27de793e77059b027c",
     "grade": false,
     "grade_id": "cell-598c8d362eed3951",
     "locked": true,
     "schema_version": 3,
     "solution": false,
     "task": false
    }
   },
   "source": [
    "## Objectives\n",
    "\n",
    "- Implement the *(k)-Nearest Neighbor(s)* algorithm\n",
    "- Use it to solve classification and regression problems\n",
    "- Define the decision boundaries\n",
    "- Explain the weaknesses of this algorithm\n",
    "- Implement Logistic Regression"
   ]
  },
  {
   "cell_type": "markdown",
   "metadata": {
    "deletable": false,
    "editable": false,
    "nbgrader": {
     "cell_type": "markdown",
     "checksum": "24a26bec819370685d09327fd3ad949f",
     "grade": false,
     "grade_id": "cell-08302126bd4f9851",
     "locked": true,
     "schema_version": 3,
     "solution": false,
     "task": false
    }
   },
   "source": [
    "## Imports and tool functions"
   ]
  },
  {
   "cell_type": "code",
   "execution_count": null,
   "metadata": {
    "deletable": false,
    "editable": false,
    "nbgrader": {
     "cell_type": "code",
     "checksum": "561f6d228474d12d583f7da388e02f30",
     "grade": false,
     "grade_id": "cell-63b1b9dd8415d471",
     "locked": true,
     "schema_version": 3,
     "solution": false,
     "task": false
    }
   },
   "outputs": [],
   "source": [
    "import numpy as np\n",
    "import matplotlib.pyplot as plt\n",
    "from matplotlib.colors import ListedColormap\n",
    "import pandas as pd\n",
    "import sklearn.neighbors\n",
    "from sklearn.utils import shuffle\n",
    "from scipy.spatial import Voronoi, voronoi_plot_2d"
   ]
  },
  {
   "cell_type": "code",
   "execution_count": null,
   "metadata": {
    "deletable": false,
    "editable": false,
    "nbgrader": {
     "cell_type": "code",
     "checksum": "6c7ac89d06c990bd66de69d3f02ef5c6",
     "grade": false,
     "grade_id": "cell-75363bce53640b3c",
     "locked": true,
     "schema_version": 3,
     "solution": false,
     "task": false
    }
   },
   "outputs": [],
   "source": [
    "def gen_2d_classification_samples(n_samples: int = 20, nclass: int = 3) -> pd.DataFrame:\n",
    "    \"\"\"\n",
    "    Generates 2-dimensional samples which belong to either 2 or 3 classes\n",
    "\n",
    "    :param int n_samples: number of samples to draw per class\n",
    "    :param int nclass: number of classes the samples belong to (either 2 or 3)\n",
    "    :returns: dataframe containing X (2 coordinates x1, x2) and y (as int!)\n",
    "    \"\"\"\n",
    "    cov = np.diag([2., 2.])\n",
    "\n",
    "    x1 = np.random.multivariate_normal(mean=[0., 0.], cov=cov, size=n_samples)\n",
    "    y1 = np.full(n_samples, 1, dtype=int)\n",
    "\n",
    "    x2 = np.random.multivariate_normal(mean=[4., 0.], cov=cov, size=n_samples)\n",
    "    y2 = np.full(n_samples, 2, dtype=int)\n",
    "\n",
    "    x3 = np.random.multivariate_normal(mean=[2., 4.], cov=cov, size=n_samples)\n",
    "    y3 = np.full(n_samples, 3, dtype=int)\n",
    "\n",
    "    if nclass == 3:\n",
    "        X = np.concatenate([x1, x2, x3])\n",
    "        y = np.concatenate([y1, y2, y3])\n",
    "    elif nclass == 2:\n",
    "        X = np.concatenate([x1, x2])\n",
    "        y = np.concatenate([y1, y2])\n",
    "    else:\n",
    "        raise ValueError(\"Only 2 or 3 classes\")\n",
    "\n",
    "    df = pd.DataFrame(X, columns=['x1', 'x2'])\n",
    "    df['y'] = y\n",
    "\n",
    "    df = shuffle(df).reset_index(drop=True)\n",
    "    \n",
    "    return df"
   ]
  },
  {
   "cell_type": "code",
   "execution_count": null,
   "metadata": {
    "deletable": false,
    "editable": false,
    "nbgrader": {
     "cell_type": "code",
     "checksum": "39100ecb581b82c151a729fa2e9e0844",
     "grade": false,
     "grade_id": "cell-bac96755e7e26f9c",
     "locked": true,
     "schema_version": 3,
     "solution": false,
     "task": false
    }
   },
   "outputs": [],
   "source": [
    "def gen_and_plot_1d_regression_samples(n_samples : int = 40):\n",
    "    \"\"\"\n",
    "    Generates 1-dimensional regression samples\n",
    "\n",
    "    :param int n_samples: number of samples to draw\n",
    "    :returns: dataframe containing X (1 coordinate x) and y\n",
    "    \"\"\"\n",
    "    x = np.random.uniform(low=-10., high=10., size=n_samples)\n",
    "    # This is y = 2x + 3 + epsilon, similar to lab_session_02\n",
    "    y = 2. * x + 3. + np.random.normal(scale=3., size=x.shape)\n",
    "\n",
    "    df = pd.DataFrame(np.array([x, y]).T, columns=['x', 'y'])\n",
    "    df.plot.scatter(x='x', y='y');\n",
    "    return df"
   ]
  },
  {
   "cell_type": "code",
   "execution_count": null,
   "metadata": {
    "deletable": false,
    "editable": false,
    "nbgrader": {
     "cell_type": "code",
     "checksum": "3eef22feeab51cd52fbd73c8a943a5d7",
     "grade": false,
     "grade_id": "cell-9237e4a7e49f9b6e",
     "locked": true,
     "schema_version": 3,
     "solution": false,
     "task": false
    }
   },
   "outputs": [],
   "source": [
    "cmap_light = ListedColormap(['#FFAAAA', '#AAFFAA', '#AAAAFF'])\n",
    "cmap_bold = ListedColormap(['#FF0000', '#00FF00', '#0000FF'])\n",
    "\n",
    "def plot_2d_classification_samples(dataframe: pd.DataFrame, model=None, voronoi: bool = False):\n",
    "    \"\"\"\n",
    "    Plots the 2D classification problem, possibly with the results of a given model and the Voronoi cells.\n",
    "    \"\"\"\n",
    "    plt.figure(figsize=(8, 8))\n",
    "    df = dataframe  # make an alias so as not to modify dataframe\n",
    "    \n",
    "    ERROR_MSG1 = \"The `dataframe` parameter should be a Pandas DataFrame having the following columns: ['x1', 'x2', 'y']\"\n",
    "    assert df.columns.values.tolist() == ['x1', 'x2', 'y'], ERROR_MSG1\n",
    "    \n",
    "    ERROR_MSG2 = \"The `dataframe` parameter should be a Pandas DataFrame having the following labels (in column 'y'): [1, 2, 3]\"\n",
    "    labels = pd.unique(df.y).tolist()\n",
    "    labels.sort()\n",
    "    assert labels == [1, 2, 3] or labels == [1, 3] or labels == [1, 2], ERROR_MSG2\n",
    "\n",
    "    if model is not None:\n",
    "        if voronoi:\n",
    "            # Compute the Voronoi cells            \n",
    "            vor = Voronoi(df[['x1', 'x2']])\n",
    "\n",
    "            # Plot the Voronoi diagram\n",
    "            fig = voronoi_plot_2d(vor, show_vertices=False, show_points=False);\n",
    "            fig.set_size_inches(8, 8);\n",
    "        \n",
    "        # Compute the model's decision boundaries\n",
    "        h = .02  # step size in the mesh\n",
    "        x_min, x_max = df.x1.min() - 1, df.x1.max() + 1\n",
    "        y_min, y_max = df.x2.min() - 1, df.x2.max() + 1\n",
    "        xx, yy = np.meshgrid(np.arange(x_min, x_max, h),\n",
    "                             np.arange(y_min, y_max, h))\n",
    "        Z = model.predict(np.c_[xx.ravel(), yy.ravel()])\n",
    "        Z = Z.reshape(xx.shape)\n",
    "        \n",
    "        # Plot the model's decision boundaries\n",
    "        plt.pcolormesh(xx, yy, Z, cmap=cmap_light, alpha=0.5)\n",
    "\n",
    "    # Plot also the training points\n",
    "    plt.scatter(df.x1, df.x2, c=df.y, cmap=cmap_bold, edgecolor='k', s=30)\n",
    "    plt.xlabel(r\"$x_1$\", fontsize=16)\n",
    "    plt.ylabel(r\"$x_2$\", fontsize=16)"
   ]
  },
  {
   "cell_type": "markdown",
   "metadata": {
    "deletable": false,
    "editable": false,
    "nbgrader": {
     "cell_type": "markdown",
     "checksum": "878616333963d9e5daa04ef9f0f32b12",
     "grade": false,
     "grade_id": "cell-8a207a748c7acf58",
     "locked": true,
     "schema_version": 3,
     "solution": false,
     "task": false
    }
   },
   "source": [
    "## Nearest Neighbor algorithm"
   ]
  },
  {
   "cell_type": "markdown",
   "metadata": {
    "deletable": false,
    "editable": false,
    "nbgrader": {
     "cell_type": "markdown",
     "checksum": "da45c7c3ff5a2d1ec69d1b090e792006",
     "grade": false,
     "grade_id": "cell-ceaca5dd14cf6d38",
     "locked": true,
     "schema_version": 3,
     "solution": false,
     "task": false
    }
   },
   "source": [
    "Today you will implement one of the simplest (but quite powerful) machine learning algorithm: the *Nearest Neighbor* algorithm and its extension the *k-Nearest Neighbors* algorithm (or *kNN*). Both can be used for classification and regression tasks.\n",
    "\n",
    "(We'll also cover Logistic Regression in the last parts of the lab - exactly the reverse of the lectures.)\n",
    "\n",
    "Considering a dataset $\\mathcal{D}=\\{(\\boldsymbol{x}_i, y_i)_{i=1,\\dots,n}\\}$ of $n$ labeled examples, the *Nearest Neighbor* model assigns an input vector $\\boldsymbol{x}$ (of dimension $p$) to the label $y_{{\\arg\\!\\min}_{i=1,\\dots, n}d(x, x_i)}$ of its closest neighbor in $\\mathcal{D}$.\n",
    "\n",
    "The closest neighbor is defined w.r.t. a distance function $d$. This can be any metric measure, but the *Minkowski distance* (especially the classical Euclidian distance $d_2$) is the most common choice. It is defined as follows:\n",
    "\n",
    "$$d_q: \\mathbb{R}^p \\times \\mathbb{R}^p \\to \\mathbb{R}$$\n",
    "\n",
    "$$d_q(\\boldsymbol{u}, \\boldsymbol{v}) = ||\\boldsymbol{u} - \\boldsymbol{v}||_q = \\left( \\sum_{j=1}^p |u_j - v_j|^q \\right)^{1/q}$$\n",
    "\n",
    "When $q=2$, $d_q$ is the *Euclidian distance*\n",
    "\n",
    "$$d_2(\\boldsymbol{u}, \\boldsymbol{v}) = \\sqrt{\\sum_{j=1}^{p} (u_j - v_j)^2}$$\n",
    "\n",
    "When $q=1$, $d_q$ is the *Manhattan distance*\n",
    "\n",
    "$$d_1(\\boldsymbol{u}, \\boldsymbol{v}) = \\sum_{j=1}^{p} |u_j - v_j|$$\n",
    "\n",
    "When $q=\\infty$, $d_q$ is the  *Tchebychev distance*\n",
    "\n",
    "$$d_{\\infty}(\\boldsymbol{u}, \\boldsymbol{v}) = \\max_{j=1,\\dots,p} |u_j - v_j|$$"
   ]
  },
  {
   "cell_type": "markdown",
   "metadata": {
    "deletable": false,
    "editable": false,
    "nbgrader": {
     "cell_type": "markdown",
     "checksum": "62c9164292df27a85508a1eeb9e478f0",
     "grade": false,
     "grade_id": "cell-d684a12aad5144eb",
     "locked": true,
     "schema_version": 3,
     "solution": false,
     "task": false
    }
   },
   "source": [
    "### Exercise 1"
   ]
  },
  {
   "cell_type": "markdown",
   "metadata": {
    "deletable": false,
    "editable": false,
    "nbgrader": {
     "cell_type": "markdown",
     "checksum": "31559b4635e8ab1a7788324bf9630591",
     "grade": false,
     "grade_id": "cell-02c0234085e3d9d7",
     "locked": true,
     "schema_version": 3,
     "solution": false,
     "task": false
    }
   },
   "source": [
    "We consider the following dataset (where `x1` and `x2` are examples' features and where `y` represents the examples' labels):"
   ]
  },
  {
   "cell_type": "code",
   "execution_count": null,
   "metadata": {
    "deletable": false,
    "editable": false,
    "nbgrader": {
     "cell_type": "code",
     "checksum": "f9d8f63f1bc2cce1802c1c8fbb14b7e9",
     "grade": false,
     "grade_id": "cell-5539eeb5cc8c4774",
     "locked": true,
     "schema_version": 3,
     "solution": false,
     "task": false
    }
   },
   "outputs": [],
   "source": [
    "data = [[0, 0, 1],\n",
    "        [0, 1, 1],\n",
    "        [1, 1, 2],\n",
    "        [1, 0, 3]]\n",
    "\n",
    "df = pd.DataFrame(data, columns=['x1', 'x2', 'y'])\n",
    "df"
   ]
  },
  {
   "cell_type": "code",
   "execution_count": null,
   "metadata": {
    "deletable": false,
    "editable": false,
    "nbgrader": {
     "cell_type": "code",
     "checksum": "a49dd7496f9922861204cdbc5d633cb1",
     "grade": false,
     "grade_id": "cell-6d5a970be7af5637",
     "locked": true,
     "schema_version": 3,
     "solution": false,
     "task": false
    }
   },
   "outputs": [],
   "source": [
    "plot_2d_classification_samples(df)"
   ]
  },
  {
   "cell_type": "markdown",
   "metadata": {
    "deletable": false,
    "editable": false,
    "nbgrader": {
     "cell_type": "markdown",
     "checksum": "9e27ffd77744d1adb56a1c5089f72c99",
     "grade": false,
     "grade_id": "cell-284a7f1af26d5ec5",
     "locked": true,
     "schema_version": 3,
     "solution": false,
     "task": false
    }
   },
   "source": [
    "#### Question 1"
   ]
  },
  {
   "cell_type": "markdown",
   "metadata": {
    "deletable": false,
    "editable": false,
    "nbgrader": {
     "cell_type": "markdown",
     "checksum": "9efdb431b9c57af6b077370dc34f6ab3",
     "grade": false,
     "grade_id": "cell-3da8dba022fc7986",
     "locked": true,
     "schema_version": 3,
     "solution": false,
     "task": false
    }
   },
   "source": [
    "Which label (red/1, green/2, blue/3) will be predicted by the Nearest Neighbor algorithm for the point $x = \\pmatrix{0 \\\\ 0.5}$ ?"
   ]
  },
  {
   "cell_type": "markdown",
   "metadata": {
    "deletable": false,
    "nbgrader": {
     "cell_type": "markdown",
     "checksum": "d7a80dbd24d16f005751c3524d7ff44c",
     "grade": true,
     "grade_id": "cell-28c004615b24572f",
     "locked": false,
     "points": 1,
     "schema_version": 3,
     "solution": true,
     "task": false
    }
   },
   "source": [
    "YOUR ANSWER HERE"
   ]
  },
  {
   "cell_type": "markdown",
   "metadata": {
    "deletable": false,
    "editable": false,
    "nbgrader": {
     "cell_type": "markdown",
     "checksum": "d3e28c2f31a876d34d488c29666044ed",
     "grade": false,
     "grade_id": "cell-17c43ca0a3fc80fa",
     "locked": true,
     "schema_version": 3,
     "solution": false,
     "task": false
    }
   },
   "source": [
    "#### Question 2"
   ]
  },
  {
   "cell_type": "markdown",
   "metadata": {
    "deletable": false,
    "editable": false,
    "nbgrader": {
     "cell_type": "markdown",
     "checksum": "e764ddcffd01a804cd24e60b58076c92",
     "grade": false,
     "grade_id": "cell-41e07f9d2f590876",
     "locked": true,
     "schema_version": 3,
     "solution": false,
     "task": false
    }
   },
   "source": [
    "If you have $n$ examples in $p$ dimensions in the dataset, what is the training error of the Nearest Neighbor algorithm (in classification)? Why?"
   ]
  },
  {
   "cell_type": "markdown",
   "metadata": {
    "deletable": false,
    "nbgrader": {
     "cell_type": "markdown",
     "checksum": "aa9b9d92c9d82e31318b493509a2da44",
     "grade": true,
     "grade_id": "cell-b1a7c31abaa64061",
     "locked": false,
     "points": 1,
     "schema_version": 3,
     "solution": true,
     "task": false
    }
   },
   "source": [
    "YOUR ANSWER HERE"
   ]
  },
  {
   "cell_type": "markdown",
   "metadata": {
    "deletable": false,
    "editable": false,
    "nbgrader": {
     "cell_type": "markdown",
     "checksum": "8192bbc8edefc9d7dc5cc10d453b2e25",
     "grade": false,
     "grade_id": "cell-1f6f6a3951f12dc6",
     "locked": true,
     "schema_version": 3,
     "solution": false,
     "task": false
    }
   },
   "source": [
    "### Exercise 2"
   ]
  },
  {
   "cell_type": "markdown",
   "metadata": {
    "deletable": false,
    "editable": false,
    "nbgrader": {
     "cell_type": "markdown",
     "checksum": "9e665b6d9d826ccbdf30a73af3dbd491",
     "grade": false,
     "grade_id": "cell-e9bcfd0ab3326493",
     "locked": true,
     "schema_version": 3,
     "solution": false,
     "task": false
    }
   },
   "source": [
    "Consider this new dataset (where `volume (mL)` and `caffeine (g)` are the examples' features and where `drink` is their label):"
   ]
  },
  {
   "cell_type": "code",
   "execution_count": null,
   "metadata": {
    "deletable": false,
    "editable": false,
    "nbgrader": {
     "cell_type": "code",
     "checksum": "65138f72cb3ac81883e5ba96783c16d6",
     "grade": false,
     "grade_id": "cell-ba3ac476b10db9e8",
     "locked": true,
     "schema_version": 3,
     "solution": false,
     "task": false
    }
   },
   "outputs": [],
   "source": [
    "data = [[250, 0.025, 'tea'],\n",
    "        [100, 0.01,  'tea'],\n",
    "        [125, 0.05,  'coffee'],\n",
    "        [250, 0.1,   'coffee']]\n",
    "\n",
    "df = pd.DataFrame(data, columns=['volume (mL)', 'caffeine (g)', 'drink'])\n",
    "df"
   ]
  },
  {
   "cell_type": "markdown",
   "metadata": {
    "deletable": false,
    "editable": false,
    "nbgrader": {
     "cell_type": "markdown",
     "checksum": "3bf5ff6f1e49c2d7ac90708d47807ee7",
     "grade": false,
     "grade_id": "cell-05ca02fdaa0bacb4",
     "locked": true,
     "schema_version": 3,
     "solution": false,
     "task": false
    }
   },
   "source": [
    "#### Question 1"
   ]
  },
  {
   "cell_type": "markdown",
   "metadata": {
    "deletable": false,
    "editable": false,
    "nbgrader": {
     "cell_type": "markdown",
     "checksum": "1b78afc0eaecf7ad47e214caa45096e0",
     "grade": false,
     "grade_id": "cell-e11637fc6d27e894",
     "locked": true,
     "schema_version": 3,
     "solution": false,
     "task": false
    }
   },
   "source": [
    "Use the Nearest Neighbor method to predict the label of a 125mL drink having 0.015g of caffeine, by intuition, calculation, and / or with some code (up to you, with some justification)."
   ]
  },
  {
   "cell_type": "markdown",
   "metadata": {
    "deletable": false,
    "nbgrader": {
     "cell_type": "markdown",
     "checksum": "2cc2876c5c1cabd4f414603a54d6cc7d",
     "grade": true,
     "grade_id": "cell-b03ca3146a0cd525",
     "locked": false,
     "points": 1,
     "schema_version": 3,
     "solution": true,
     "task": false
    }
   },
   "source": [
    "YOUR ANSWER HERE"
   ]
  },
  {
   "cell_type": "code",
   "execution_count": null,
   "metadata": {
    "deletable": false,
    "nbgrader": {
     "cell_type": "code",
     "checksum": "abbfa7ee12f902e58b8fa994293d3b4d",
     "grade": true,
     "grade_id": "cell-b12072a3c159f694",
     "locked": false,
     "points": 0,
     "schema_version": 3,
     "solution": true,
     "task": false
    }
   },
   "outputs": [],
   "source": [
    "# Optional: provide some code to prove your answer.\n",
    "# YOUR CODE HERE\n",
    "raise NotImplementedError()"
   ]
  },
  {
   "cell_type": "markdown",
   "metadata": {
    "deletable": false,
    "editable": false,
    "nbgrader": {
     "cell_type": "markdown",
     "checksum": "dafd5f94eef607e133edbe6adca7e7db",
     "grade": false,
     "grade_id": "cell-9f4713058ba3dd75",
     "locked": true,
     "schema_version": 3,
     "solution": false,
     "task": false
    }
   },
   "source": [
    "#### Question 2"
   ]
  },
  {
   "cell_type": "markdown",
   "metadata": {
    "deletable": false,
    "editable": false,
    "nbgrader": {
     "cell_type": "markdown",
     "checksum": "b2fb666b36a7a938c22ffd988e482155",
     "grade": false,
     "grade_id": "cell-c73f537f8d0b8d35",
     "locked": true,
     "schema_version": 3,
     "solution": false,
     "task": false
    }
   },
   "source": [
    "What is wrong with this prediction? How to solve this problem?"
   ]
  },
  {
   "cell_type": "markdown",
   "metadata": {
    "deletable": false,
    "nbgrader": {
     "cell_type": "markdown",
     "checksum": "062651d5e8549676ddd51c294b584c85",
     "grade": true,
     "grade_id": "cell-f653ab43f5caab8d",
     "locked": false,
     "points": 1,
     "schema_version": 3,
     "solution": true,
     "task": false
    }
   },
   "source": [
    "YOUR ANSWER HERE"
   ]
  },
  {
   "cell_type": "markdown",
   "metadata": {
    "deletable": false,
    "editable": false,
    "nbgrader": {
     "cell_type": "markdown",
     "checksum": "6d5ab65d4a2c371677c0040477aee846",
     "grade": false,
     "grade_id": "cell-6d84fe4703f5f297",
     "locked": true,
     "schema_version": 3,
     "solution": false,
     "task": false
    }
   },
   "source": [
    "## Nearest Neighbor method with Scikit Learn\n",
    "\n",
    "Let's play with the Scikit Learn implementation of the Nearest Neighbor algorithm.\n",
    "The official documentation is there: https://scikit-learn.org/stable/modules/neighbors.html"
   ]
  },
  {
   "cell_type": "markdown",
   "metadata": {
    "deletable": false,
    "editable": false,
    "nbgrader": {
     "cell_type": "markdown",
     "checksum": "245d0011da2490ba6c83fdefbe685ec3",
     "grade": false,
     "grade_id": "cell-f0252460418008ae",
     "locked": true,
     "schema_version": 3,
     "solution": false,
     "task": false
    }
   },
   "source": [
    "### Classification"
   ]
  },
  {
   "cell_type": "markdown",
   "metadata": {
    "deletable": false,
    "editable": false,
    "nbgrader": {
     "cell_type": "markdown",
     "checksum": "6c3f2c5f74d7bcd23edf69ebf64b519e",
     "grade": false,
     "grade_id": "cell-867ec5107fd6ffdd",
     "locked": true,
     "schema_version": 3,
     "solution": false,
     "task": false
    }
   },
   "source": [
    "We begin with a \"toy\" **classification problem**.\n",
    "\n",
    "Use the `gen_2d_classification_samples()` function (defined above) to generate a dataset."
   ]
  },
  {
   "cell_type": "code",
   "execution_count": null,
   "metadata": {
    "deletable": false,
    "editable": false,
    "nbgrader": {
     "cell_type": "code",
     "checksum": "7c6bc83740653069ea7a940d0fa8b92a",
     "grade": false,
     "grade_id": "cell-d24faf84a0a70efe",
     "locked": true,
     "schema_version": 3,
     "solution": false,
     "task": false
    }
   },
   "outputs": [],
   "source": [
    "df = gen_2d_classification_samples(n_samples=20)\n",
    "df.head()"
   ]
  },
  {
   "cell_type": "markdown",
   "metadata": {
    "deletable": false,
    "editable": false,
    "nbgrader": {
     "cell_type": "markdown",
     "checksum": "32df2d17f702c031a727a622f75cbd4a",
     "grade": false,
     "grade_id": "cell-3ff7aee85c93c084",
     "locked": true,
     "schema_version": 3,
     "solution": false,
     "task": false
    }
   },
   "source": [
    "Here, examples are defined in $\\mathbb{R}^2$ (features are stored in columns `x1` and `x2`).\n",
    "Examples' labels are defined in the `y` column. This is similar to Exercise 1.\n",
    "\n",
    "The `y` column contains three possible labels: `1`, `2` and `3` respectively represented by the red, green and blue colors in the following figure."
   ]
  },
  {
   "cell_type": "code",
   "execution_count": null,
   "metadata": {
    "deletable": false,
    "editable": false,
    "nbgrader": {
     "cell_type": "code",
     "checksum": "5d59679c191228ee27e60a215ed08a2a",
     "grade": false,
     "grade_id": "cell-0036ae2303f73710",
     "locked": true,
     "schema_version": 3,
     "solution": false,
     "task": false
    }
   },
   "outputs": [],
   "source": [
    "plot_2d_classification_samples(df)"
   ]
  },
  {
   "cell_type": "markdown",
   "metadata": {
    "deletable": false,
    "editable": false,
    "nbgrader": {
     "cell_type": "markdown",
     "checksum": "79ea0f943e3108b6b26bdaab5963a8b3",
     "grade": false,
     "grade_id": "cell-d121d4f059178cd6",
     "locked": true,
     "schema_version": 3,
     "solution": false,
     "task": false
    }
   },
   "source": [
    "Thus this toy problem is a multiclass classification problem."
   ]
  },
  {
   "cell_type": "markdown",
   "metadata": {
    "deletable": false,
    "editable": false,
    "nbgrader": {
     "cell_type": "markdown",
     "checksum": "26e4eca98c23b17fc1da4404819ef3f5",
     "grade": false,
     "grade_id": "cell-3f8711afd6b5415e",
     "locked": true,
     "schema_version": 3,
     "solution": false,
     "task": false
    }
   },
   "source": [
    "Once the dataset is ready, let's make the classifier and train it with the following code:"
   ]
  },
  {
   "cell_type": "code",
   "execution_count": null,
   "metadata": {
    "deletable": false,
    "editable": false,
    "nbgrader": {
     "cell_type": "code",
     "checksum": "e82e97f0a670f3e98d8fa3af549cb220",
     "grade": false,
     "grade_id": "cell-a3ac431dac7cb135",
     "locked": true,
     "schema_version": 3,
     "solution": false,
     "task": false
    }
   },
   "outputs": [],
   "source": [
    "model = sklearn.neighbors.KNeighborsClassifier(n_neighbors=1)  # 1-NN as a special case of k-NN"
   ]
  },
  {
   "cell_type": "code",
   "execution_count": null,
   "metadata": {
    "deletable": false,
    "editable": false,
    "nbgrader": {
     "cell_type": "code",
     "checksum": "9823c1ac3d9192a813bc530967104fba",
     "grade": false,
     "grade_id": "cell-4a02136aa4ba916d",
     "locked": true,
     "schema_version": 3,
     "solution": false,
     "task": false
    }
   },
   "outputs": [],
   "source": [
    "model.fit(X=df[['x1', 'x2']], y=df['y'])"
   ]
  },
  {
   "cell_type": "markdown",
   "metadata": {
    "deletable": false,
    "editable": false,
    "nbgrader": {
     "cell_type": "markdown",
     "checksum": "e5534e1420f02d86062cc81657e95b52",
     "grade": false,
     "grade_id": "cell-7f48c25be7ecab35",
     "locked": true,
     "schema_version": 3,
     "solution": false,
     "task": false
    }
   },
   "source": [
    "### Exercise 3"
   ]
  },
  {
   "cell_type": "markdown",
   "metadata": {
    "deletable": false,
    "editable": false,
    "nbgrader": {
     "cell_type": "markdown",
     "checksum": "ffec16941acdb92df17733d30d1e46a2",
     "grade": false,
     "grade_id": "cell-29962a92ec11e2c6",
     "locked": true,
     "schema_version": 3,
     "solution": false,
     "task": false
    }
   },
   "source": [
    "#### Question 1"
   ]
  },
  {
   "cell_type": "markdown",
   "metadata": {
    "deletable": false,
    "editable": false,
    "nbgrader": {
     "cell_type": "markdown",
     "checksum": "d6f46cc7fafbe16ff49d342de0371b60",
     "grade": false,
     "grade_id": "cell-d48fdb53e319498e",
     "locked": true,
     "schema_version": 3,
     "solution": false,
     "task": false
    }
   },
   "source": [
    "Use the `model.predict()` function to guess the class of the following points:\n",
    "\n",
    "$$x_{p1} = \\pmatrix{-2 \\\\ 2}, x_{p2} = \\pmatrix{2 \\\\ 6}, x_{p3} = \\pmatrix{6 \\\\ 0}$$\n",
    "\n",
    "Store the result in `model_predictions`."
   ]
  },
  {
   "cell_type": "code",
   "execution_count": null,
   "metadata": {
    "deletable": false,
    "nbgrader": {
     "cell_type": "code",
     "checksum": "2900d8cfc3f5a5f983090a71e7fafb07",
     "grade": false,
     "grade_id": "cell-735399ef31c1c00e",
     "locked": false,
     "schema_version": 3,
     "solution": true,
     "task": false
    }
   },
   "outputs": [],
   "source": [
    "# model_predictions = ...\n",
    "# YOUR CODE HERE\n",
    "raise NotImplementedError()"
   ]
  },
  {
   "cell_type": "code",
   "execution_count": null,
   "metadata": {
    "deletable": false,
    "editable": false,
    "nbgrader": {
     "cell_type": "code",
     "checksum": "b239bfd8fa5c79f6fa40159f6bee4dc6",
     "grade": true,
     "grade_id": "cell-3f74ff6bfc8cdd74",
     "locked": true,
     "points": 1,
     "schema_version": 3,
     "solution": false,
     "task": false
    }
   },
   "outputs": [],
   "source": []
  },
  {
   "cell_type": "markdown",
   "metadata": {
    "deletable": false,
    "editable": false,
    "nbgrader": {
     "cell_type": "markdown",
     "checksum": "4627883a4c032a92c01f60d00b22ed15",
     "grade": false,
     "grade_id": "cell-665fe1bf8a31ae7e",
     "locked": true,
     "schema_version": 3,
     "solution": false,
     "task": false
    }
   },
   "source": [
    "#### Question 2"
   ]
  },
  {
   "cell_type": "markdown",
   "metadata": {
    "deletable": false,
    "editable": false,
    "nbgrader": {
     "cell_type": "markdown",
     "checksum": "98b411e47f67f8c9c080dd72e02ee3f3",
     "grade": false,
     "grade_id": "cell-65df83d2170a07cd",
     "locked": true,
     "schema_version": 3,
     "solution": false,
     "task": false
    }
   },
   "source": [
    "Is the training step (`model.fit()` function) longer to execute than the prediction step (`model.predict()` function)? Why?\n",
    "\n",
    "*An intuitive answer is expected; you don't have to time any code execution.*"
   ]
  },
  {
   "cell_type": "markdown",
   "metadata": {
    "deletable": false,
    "nbgrader": {
     "cell_type": "markdown",
     "checksum": "717a9af1a18a4ac42e92f822b534556b",
     "grade": true,
     "grade_id": "cell-70b0e91bc14f33c5",
     "locked": false,
     "points": 1,
     "schema_version": 3,
     "solution": true,
     "task": false
    }
   },
   "source": [
    "YOUR ANSWER HERE"
   ]
  },
  {
   "cell_type": "markdown",
   "metadata": {
    "deletable": false,
    "editable": false,
    "nbgrader": {
     "cell_type": "markdown",
     "checksum": "8ca7722adef485603b36571c65a4f0e6",
     "grade": false,
     "grade_id": "cell-542380c0ec6b0afe",
     "locked": true,
     "schema_version": 3,
     "solution": false,
     "task": false
    }
   },
   "source": [
    "#### Question 3"
   ]
  },
  {
   "cell_type": "markdown",
   "metadata": {
    "deletable": false,
    "editable": false,
    "nbgrader": {
     "cell_type": "markdown",
     "checksum": "9a7479fe7a06fb4bdb8a8d8a79894b33",
     "grade": false,
     "grade_id": "cell-d9c551a1d712c987",
     "locked": true,
     "schema_version": 3,
     "solution": false,
     "task": false
    }
   },
   "source": [
    "The next cell shows the decision boundary of the model. Explain what is a decision boundary in classification."
   ]
  },
  {
   "cell_type": "code",
   "execution_count": null,
   "metadata": {
    "deletable": false,
    "editable": false,
    "nbgrader": {
     "cell_type": "code",
     "checksum": "0c5fa097548a09f8ee3569cc150e5656",
     "grade": false,
     "grade_id": "cell-e7d68cfa33807b75",
     "locked": true,
     "schema_version": 3,
     "solution": false,
     "task": false
    }
   },
   "outputs": [],
   "source": [
    "plot_2d_classification_samples(df, model=model)"
   ]
  },
  {
   "cell_type": "markdown",
   "metadata": {
    "deletable": false,
    "nbgrader": {
     "cell_type": "markdown",
     "checksum": "d992d076fc9fc642a71e87ae4abf0cb4",
     "grade": true,
     "grade_id": "cell-87768e416ae85d93",
     "locked": false,
     "points": 1,
     "schema_version": 3,
     "solution": true,
     "task": false
    }
   },
   "source": [
    "YOUR ANSWER HERE"
   ]
  },
  {
   "cell_type": "markdown",
   "metadata": {
    "deletable": false,
    "editable": false,
    "nbgrader": {
     "cell_type": "markdown",
     "checksum": "04fb4d34b77f1d2fbf5816c67317a12a",
     "grade": false,
     "grade_id": "cell-ae5f2c174bf4134a",
     "locked": true,
     "schema_version": 3,
     "solution": false,
     "task": false
    }
   },
   "source": [
    "#### Question 4"
   ]
  },
  {
   "cell_type": "markdown",
   "metadata": {
    "deletable": false,
    "editable": false,
    "nbgrader": {
     "cell_type": "markdown",
     "checksum": "e41fa7c43d8674f8b851a4caf39ddbb9",
     "grade": false,
     "grade_id": "cell-16d51ac4f5481297",
     "locked": true,
     "schema_version": 3,
     "solution": false,
     "task": false
    }
   },
   "source": [
    "The next cell generates the *Voronoï diagram* of the dataset. The Voronoï diagram makes a partition of the feature space $\\mathcal{X}$.\n",
    "Each partition is a *cell*. What do cells represent?\n",
    "What does this figure illustrate about the Nearest Neighbor method?"
   ]
  },
  {
   "cell_type": "code",
   "execution_count": null,
   "metadata": {
    "deletable": false,
    "editable": false,
    "nbgrader": {
     "cell_type": "code",
     "checksum": "2a21de96c0e3fff8032d4e9afc32ec10",
     "grade": false,
     "grade_id": "cell-cf603bc2010ec3a3",
     "locked": true,
     "schema_version": 3,
     "solution": false,
     "task": false
    }
   },
   "outputs": [],
   "source": [
    "plot_2d_classification_samples(df, model=model, voronoi=True);"
   ]
  },
  {
   "cell_type": "markdown",
   "metadata": {
    "deletable": false,
    "nbgrader": {
     "cell_type": "markdown",
     "checksum": "1133787e8fd6bf6773f871db853e02b2",
     "grade": true,
     "grade_id": "cell-a9f3540f0b070ca6",
     "locked": false,
     "points": 1,
     "schema_version": 3,
     "solution": true,
     "task": false
    }
   },
   "source": [
    "YOUR ANSWER HERE"
   ]
  },
  {
   "cell_type": "markdown",
   "metadata": {
    "deletable": false,
    "editable": false,
    "nbgrader": {
     "cell_type": "markdown",
     "checksum": "c388da6e4f604075624d8b9499c0349e",
     "grade": false,
     "grade_id": "cell-e9ff08164cd1ce2f",
     "locked": true,
     "schema_version": 3,
     "solution": false,
     "task": false
    }
   },
   "source": [
    "### Regression"
   ]
  },
  {
   "cell_type": "markdown",
   "metadata": {
    "deletable": false,
    "editable": false,
    "nbgrader": {
     "cell_type": "markdown",
     "checksum": "4580e0f9153e4b4f87f0ddea5c6d366d",
     "grade": false,
     "grade_id": "cell-a774cafffa6c10dd",
     "locked": true,
     "schema_version": 3,
     "solution": false,
     "task": false
    }
   },
   "source": [
    "After the \"toy\" classification problem, let's work on a toy **regression problem**.\n",
    "\n",
    "The next cell generates a dataset (where 'x' is the feature and 'y' the label to predict)."
   ]
  },
  {
   "cell_type": "code",
   "execution_count": null,
   "metadata": {
    "deletable": false,
    "editable": false,
    "nbgrader": {
     "cell_type": "code",
     "checksum": "95d09c322dc2515371306ef864b166f2",
     "grade": false,
     "grade_id": "cell-85bbd276d7fc94c9",
     "locked": true,
     "schema_version": 3,
     "solution": false,
     "task": false
    }
   },
   "outputs": [],
   "source": [
    "df = gen_and_plot_1d_regression_samples()"
   ]
  },
  {
   "cell_type": "markdown",
   "metadata": {
    "deletable": false,
    "editable": false,
    "nbgrader": {
     "cell_type": "markdown",
     "checksum": "51a545a95b644b64f9ff9722b4ef191f",
     "grade": false,
     "grade_id": "cell-60f6a2ebadbdedd4",
     "locked": true,
     "schema_version": 3,
     "solution": false,
     "task": false
    }
   },
   "source": [
    "Once the dataset is ready, let's make the regressor and train it with the following code:"
   ]
  },
  {
   "cell_type": "code",
   "execution_count": null,
   "metadata": {
    "deletable": false,
    "editable": false,
    "nbgrader": {
     "cell_type": "code",
     "checksum": "ca267b10b3a854097f675b825b316f87",
     "grade": false,
     "grade_id": "cell-287446ff89ada048",
     "locked": true,
     "schema_version": 3,
     "solution": false,
     "task": false
    }
   },
   "outputs": [],
   "source": [
    "model = sklearn.neighbors.KNeighborsRegressor(n_neighbors=1)"
   ]
  },
  {
   "cell_type": "code",
   "execution_count": null,
   "metadata": {
    "deletable": false,
    "editable": false,
    "nbgrader": {
     "cell_type": "code",
     "checksum": "e46a4bdda3010f7fd817e443ba5a731a",
     "grade": false,
     "grade_id": "cell-686a17bcfa348dca",
     "locked": true,
     "schema_version": 3,
     "solution": false,
     "task": false
    }
   },
   "outputs": [],
   "source": [
    "model.fit(df[['x']], df['y'])"
   ]
  },
  {
   "cell_type": "markdown",
   "metadata": {
    "deletable": false,
    "editable": false,
    "nbgrader": {
     "cell_type": "markdown",
     "checksum": "7b8a23784ec87ad4397e02f91093d403",
     "grade": false,
     "grade_id": "cell-a117614dac4cb5b5",
     "locked": true,
     "schema_version": 3,
     "solution": false,
     "task": false
    }
   },
   "source": [
    "### Exercise 4"
   ]
  },
  {
   "cell_type": "markdown",
   "metadata": {
    "deletable": false,
    "editable": false,
    "nbgrader": {
     "cell_type": "markdown",
     "checksum": "2069dd14a9811cfd2d1eb3075a845127",
     "grade": false,
     "grade_id": "cell-9dbebd964c84d52a",
     "locked": true,
     "schema_version": 3,
     "solution": false,
     "task": false
    }
   },
   "source": [
    "Use the `model.predict()` function to guess the class of the following points:\n",
    "\n",
    "$$x_{p1} = \\pmatrix{-2}, x_{p2} = \\pmatrix{2}, x_{p3} = \\pmatrix{6}$$\n",
    "\n",
    "Store it in `model_predictions_bis`."
   ]
  },
  {
   "cell_type": "code",
   "execution_count": null,
   "metadata": {
    "deletable": false,
    "nbgrader": {
     "cell_type": "code",
     "checksum": "46f364b6ee421ef8ebfe1e6e7bd2ed9f",
     "grade": false,
     "grade_id": "cell-3720c9fe4c26a559",
     "locked": false,
     "schema_version": 3,
     "solution": true,
     "task": false
    }
   },
   "outputs": [],
   "source": [
    "# model_predictions_bis = ...\n",
    "# YOUR CODE HERE\n",
    "raise NotImplementedError()"
   ]
  },
  {
   "cell_type": "code",
   "execution_count": null,
   "metadata": {
    "deletable": false,
    "editable": false,
    "nbgrader": {
     "cell_type": "code",
     "checksum": "b9c397b09a1807f5267018aed95033b3",
     "grade": true,
     "grade_id": "cell-47c3077482c5f28a",
     "locked": true,
     "points": 1,
     "schema_version": 3,
     "solution": false,
     "task": false
    }
   },
   "outputs": [],
   "source": []
  },
  {
   "cell_type": "markdown",
   "metadata": {
    "deletable": false,
    "editable": false,
    "nbgrader": {
     "cell_type": "markdown",
     "checksum": "7d001e30450f2a8aed9a594ebd4c4466",
     "grade": false,
     "grade_id": "cell-5adbb1c7bb0d1bab",
     "locked": true,
     "schema_version": 3,
     "solution": false,
     "task": false
    }
   },
   "source": [
    "### Plot the model's decision function"
   ]
  },
  {
   "cell_type": "code",
   "execution_count": null,
   "metadata": {
    "deletable": false,
    "editable": false,
    "nbgrader": {
     "cell_type": "code",
     "checksum": "7c9670ebc345282bb36bc7a175f79f07",
     "grade": false,
     "grade_id": "cell-90dd9833a9369717",
     "locked": true,
     "schema_version": 3,
     "solution": false,
     "task": false
    }
   },
   "outputs": [],
   "source": [
    "x_pred = np.arange(-10, 10, 0.1).reshape(-1, 1)\n",
    "y_pred = model.predict(x_pred)\n",
    "\n",
    "df_pred = pd.DataFrame(np.array([x_pred.flatten(), y_pred.flatten()]).T, columns=['x', 'y'])\n",
    "\n",
    "ax = df.plot.scatter(x='x', y='y')\n",
    "df_pred.plot(x='x', y='y', style='r--', ax=ax);"
   ]
  },
  {
   "cell_type": "markdown",
   "metadata": {
    "deletable": false,
    "editable": false,
    "nbgrader": {
     "cell_type": "markdown",
     "checksum": "af6de7594832ebed2eba8fe3dd746b17",
     "grade": false,
     "grade_id": "cell-90e628bd78839bf5",
     "locked": true,
     "schema_version": 3,
     "solution": false,
     "task": false
    }
   },
   "source": [
    "### Exercise 5\n",
    "\n",
    "Do you think this model *generalizes* well (by generalization, we mean performance on unseen - test - examples drawn from the same distribution as the seen - training - examples; recall what happened with polynomial regression with a high degree)? Why?"
   ]
  },
  {
   "cell_type": "markdown",
   "metadata": {
    "deletable": false,
    "nbgrader": {
     "cell_type": "markdown",
     "checksum": "a7bbb8fbfa517e164ea6504c70fee18d",
     "grade": true,
     "grade_id": "cell-41d4c540007020dc",
     "locked": false,
     "points": 1,
     "schema_version": 3,
     "solution": true,
     "task": false
    }
   },
   "source": [
    "YOUR ANSWER HERE"
   ]
  },
  {
   "cell_type": "markdown",
   "metadata": {
    "deletable": false,
    "editable": false,
    "nbgrader": {
     "cell_type": "markdown",
     "checksum": "cdf91b3e81276d5e64a2aa34bc6cba88",
     "grade": false,
     "grade_id": "cell-f2b3403a1f5d1ee9",
     "locked": true,
     "schema_version": 3,
     "solution": false,
     "task": false
    }
   },
   "source": [
    "## k-Nearest Neighbors algorithm"
   ]
  },
  {
   "cell_type": "markdown",
   "metadata": {
    "deletable": false,
    "editable": false,
    "nbgrader": {
     "cell_type": "markdown",
     "checksum": "61a2c367da7aa6effa48f8fb99135543",
     "grade": false,
     "grade_id": "cell-42a1d3264976993b",
     "locked": true,
     "schema_version": 3,
     "solution": false,
     "task": false
    }
   },
   "source": [
    "The *Nearest Neighbor* method is very sensitive to noise: if an example in $\\mathcal{D}$ is wrongly labeled or positioned, all points in its Voronoï cell will be wrong too. The *k Neareast Neighbor* fix this weakness by considering for each prediction the label of several neighbors instead of just one.\n",
    "\n",
    "Considering a dataset $\\mathcal{D}=\\{(\\boldsymbol{x}_i, y_i)_{i=1,\\dots,n}\\}$ of $n$ labeled examples and a meta / hyper parameter $k \\in \\mathbb{N}*$, the *$k$ Nearest Neighbors* model assigns an input vector $\\boldsymbol{x}$ to the label $y$ (defined below) of its $k$ closest neighbor in $\\mathcal{D}$.\n",
    "Let's write $\\mathcal{N}_k(\\boldsymbol{x})$ the set of the $k$ nearest neighbors of $\\boldsymbol{x}$ in $\\mathcal{D}$.\n",
    "\n",
    "- For classification problems, the label assigned to $\\boldsymbol{x}$ is the **most represented label** among the nearest neighbors (majority vote)\n",
    "$$f(\\boldsymbol{x}) = {\\arg\\!\\max}_c \\sum_{i: x_i \\in \\mathcal{N}_k(\\boldsymbol{x})} \\delta(y_i, c)$$\n",
    "\n",
    "- For regression problems, the label assigned to $\\boldsymbol{x}$ is computed based on the **mean** of the labels of its nearest neighbors $\\mathcal{N}_k(\\boldsymbol{x})$\n",
    "$$f(\\boldsymbol{x}) = \\frac{1}{k} \\sum_{i: x_i \\in \\mathcal{N}_k(\\boldsymbol{x})} y_i$$"
   ]
  },
  {
   "cell_type": "markdown",
   "metadata": {
    "deletable": false,
    "editable": false,
    "nbgrader": {
     "cell_type": "markdown",
     "checksum": "2e81960c61bfab19e6e73149bacb91e8",
     "grade": false,
     "grade_id": "cell-5eb2581cae2760bd",
     "locked": true,
     "schema_version": 3,
     "solution": false,
     "task": false
    }
   },
   "source": [
    "### Exercise 6"
   ]
  },
  {
   "cell_type": "markdown",
   "metadata": {
    "deletable": false,
    "editable": false,
    "nbgrader": {
     "cell_type": "markdown",
     "checksum": "c982e53f1899a33e0ab842c16905a73a",
     "grade": false,
     "grade_id": "cell-6545640cd5b7163f",
     "locked": true,
     "schema_version": 3,
     "solution": false,
     "task": false
    }
   },
   "source": [
    "We consider the following dataset (where `x1` and `x2` are the example features and where `y` is the example label):"
   ]
  },
  {
   "cell_type": "code",
   "execution_count": null,
   "metadata": {
    "deletable": false,
    "editable": false,
    "nbgrader": {
     "cell_type": "code",
     "checksum": "3e5de4cb313c6c19a560dfd21fe0423a",
     "grade": false,
     "grade_id": "cell-b5d26e5d9614042e",
     "locked": true,
     "schema_version": 3,
     "solution": false,
     "task": false
    }
   },
   "outputs": [],
   "source": [
    "data = [[1, 2, '+'],\n",
    "        [2, 1, '+'],\n",
    "        [2, 2, '-'],\n",
    "        [2, 3, '+'],\n",
    "        [3, 1, '-'],\n",
    "        [3, 2, '+']]\n",
    "\n",
    "df = pd.DataFrame(data, columns=['x1', 'x2', 'y'])\n",
    "df"
   ]
  },
  {
   "cell_type": "markdown",
   "metadata": {
    "deletable": false,
    "editable": false,
    "nbgrader": {
     "cell_type": "markdown",
     "checksum": "1f063c5dc09ba77c1fed1a2bcb105d40",
     "grade": false,
     "grade_id": "cell-4f9410912c5897e0",
     "locked": true,
     "schema_version": 3,
     "solution": false,
     "task": false
    }
   },
   "source": [
    "#### Question 1"
   ]
  },
  {
   "cell_type": "markdown",
   "metadata": {
    "deletable": false,
    "editable": false,
    "nbgrader": {
     "cell_type": "markdown",
     "checksum": "63edfaaaa15ce107472746dddca50299",
     "grade": false,
     "grade_id": "cell-75c5d4679e64a253",
     "locked": true,
     "schema_version": 3,
     "solution": false,
     "task": false
    }
   },
   "source": [
    "Draw this dataset (it is OK to draw it on a sheet of paper: empty the code cell, add a Markdown cell and upload your picture; you can also make use of `df.plot`)."
   ]
  },
  {
   "cell_type": "code",
   "execution_count": null,
   "metadata": {
    "deletable": false,
    "nbgrader": {
     "cell_type": "code",
     "checksum": "1eb8fb7d45d1dbb65cf981a5a6635a4c",
     "grade": true,
     "grade_id": "cell-fd27b17814e1925e",
     "locked": false,
     "points": 1,
     "schema_version": 3,
     "solution": true,
     "task": false
    }
   },
   "outputs": [],
   "source": [
    "# YOUR CODE HERE\n",
    "raise NotImplementedError()"
   ]
  },
  {
   "cell_type": "markdown",
   "metadata": {
    "deletable": false,
    "editable": false,
    "nbgrader": {
     "cell_type": "markdown",
     "checksum": "4360c8c452c6092f2f8da48488319513",
     "grade": false,
     "grade_id": "cell-f296836ef0ffa6c9",
     "locked": true,
     "schema_version": 3,
     "solution": false,
     "task": false
    }
   },
   "source": [
    "#### Question 2"
   ]
  },
  {
   "cell_type": "markdown",
   "metadata": {
    "deletable": false,
    "editable": false,
    "nbgrader": {
     "cell_type": "markdown",
     "checksum": "584f5e4665e49942d465f220a7646075",
     "grade": false,
     "grade_id": "cell-928724723d262d2e",
     "locked": true,
     "schema_version": 3,
     "solution": false,
     "task": false
    }
   },
   "source": [
    "Draw the decision boundary of a Nearest Neighbor model (i.e. 1NN - also OK on a sheet of paper).\n",
    "\n",
    "You may need to convert `y` to an integer type and make good use of `KNeighborsClassifier` (see Exercise 2)."
   ]
  },
  {
   "cell_type": "code",
   "execution_count": null,
   "metadata": {
    "deletable": false,
    "nbgrader": {
     "cell_type": "code",
     "checksum": "c6d9ec5f7d4b262234924428e590707b",
     "grade": true,
     "grade_id": "cell-0ac6789676ca7805",
     "locked": false,
     "points": 1,
     "schema_version": 3,
     "solution": true,
     "task": false
    }
   },
   "outputs": [],
   "source": [
    "# YOUR CODE HERE\n",
    "raise NotImplementedError()"
   ]
  },
  {
   "cell_type": "markdown",
   "metadata": {
    "deletable": false,
    "editable": false,
    "nbgrader": {
     "cell_type": "markdown",
     "checksum": "8c63f7ba3a13326fc6f8298fd5affacd",
     "grade": false,
     "grade_id": "cell-830738dc3483be27",
     "locked": true,
     "schema_version": 3,
     "solution": false,
     "task": false
    }
   },
   "source": [
    "#### Question 3"
   ]
  },
  {
   "cell_type": "markdown",
   "metadata": {
    "deletable": false,
    "editable": false,
    "nbgrader": {
     "cell_type": "markdown",
     "checksum": "0c83061a36096f1f881892abcc223f6b",
     "grade": false,
     "grade_id": "cell-f88d668f7301d023",
     "locked": true,
     "schema_version": 3,
     "solution": false,
     "task": false
    }
   },
   "source": [
    "Draw the decision boundary of a 3 Nearest Neighbor model (i.e. 3NN), either with code or on a sheet of paper."
   ]
  },
  {
   "cell_type": "markdown",
   "metadata": {
    "deletable": false,
    "editable": false,
    "nbgrader": {
     "cell_type": "markdown",
     "checksum": "1f59aa5109d6a01d524db2d10ddefe3a",
     "grade": false,
     "grade_id": "cell-f9b2751bbe939e75",
     "locked": true,
     "schema_version": 3,
     "solution": false,
     "task": false
    }
   },
   "source": [
    "*Hint:* The `n_neighbors` parameter provided to the model's constructor `KNeighborsClassifier` sets the number of neighbors to consider for each prediction (i.e. `n_neighbors` this is the '$k$' of kNN)."
   ]
  },
  {
   "cell_type": "code",
   "execution_count": null,
   "metadata": {
    "deletable": false,
    "nbgrader": {
     "cell_type": "code",
     "checksum": "542ecf45afa9a1b6943a1c871a7c0905",
     "grade": true,
     "grade_id": "cell-7962f46912d3165f",
     "locked": false,
     "points": 1,
     "schema_version": 3,
     "solution": true,
     "task": false
    }
   },
   "outputs": [],
   "source": [
    "# YOUR CODE HERE\n",
    "raise NotImplementedError()"
   ]
  },
  {
   "cell_type": "markdown",
   "metadata": {
    "deletable": false,
    "editable": false,
    "nbgrader": {
     "cell_type": "markdown",
     "checksum": "897565472e25d23a11c07791cab1f7e3",
     "grade": false,
     "grade_id": "cell-e1f2846bcfed53d2",
     "locked": true,
     "schema_version": 3,
     "solution": false,
     "task": false
    }
   },
   "source": [
    "#### Question 4"
   ]
  },
  {
   "cell_type": "markdown",
   "metadata": {
    "deletable": false,
    "editable": false,
    "nbgrader": {
     "cell_type": "markdown",
     "checksum": "007c44ee778a407dd5ea1632f1ec8d5a",
     "grade": false,
     "grade_id": "cell-bd980b88e074ded1",
     "locked": true,
     "schema_version": 3,
     "solution": false,
     "task": false
    }
   },
   "source": [
    "How many errors these two classifiers make on the training dataset (i.e. on the provided points)?"
   ]
  },
  {
   "cell_type": "markdown",
   "metadata": {
    "deletable": false,
    "nbgrader": {
     "cell_type": "markdown",
     "checksum": "7e300813b421b05c273612dd20d6a068",
     "grade": true,
     "grade_id": "cell-5f77de6d6df9d638",
     "locked": false,
     "points": 1,
     "schema_version": 3,
     "solution": true,
     "task": false
    }
   },
   "source": [
    "YOUR ANSWER HERE"
   ]
  },
  {
   "cell_type": "markdown",
   "metadata": {
    "deletable": false,
    "nbgrader": {
     "cell_type": "markdown",
     "checksum": "dd2f372f77cfe6d64f7e47d657d0373f",
     "grade": true,
     "grade_id": "cell-a54e6b2c052913b7",
     "locked": false,
     "points": 1,
     "schema_version": 3,
     "solution": true,
     "task": false
    }
   },
   "source": [
    "YOUR ANSWER HERE"
   ]
  },
  {
   "cell_type": "markdown",
   "metadata": {
    "deletable": false,
    "editable": false,
    "nbgrader": {
     "cell_type": "markdown",
     "checksum": "702a6f24fc0c66a6fb169ce724db6f4c",
     "grade": false,
     "grade_id": "cell-dcb87f6e13adb76e",
     "locked": true,
     "schema_version": 3,
     "solution": false,
     "task": false
    }
   },
   "source": [
    "#### Question 5"
   ]
  },
  {
   "cell_type": "markdown",
   "metadata": {
    "deletable": false,
    "editable": false,
    "nbgrader": {
     "cell_type": "markdown",
     "checksum": "24f8a87ef8d1b4616bc513a2f4f421f4",
     "grade": false,
     "grade_id": "cell-814642eaeb38acab",
     "locked": true,
     "schema_version": 3,
     "solution": false,
     "task": false
    }
   },
   "source": [
    "Which label is predicted by these two classifiers for the point $x = \\pmatrix{4 \\\\ 0.5}$?"
   ]
  },
  {
   "cell_type": "markdown",
   "metadata": {
    "deletable": false,
    "nbgrader": {
     "cell_type": "markdown",
     "checksum": "01e9a62bab855a305895161b532590c1",
     "grade": true,
     "grade_id": "cell-c61ad2c56b091082",
     "locked": false,
     "points": 1,
     "schema_version": 3,
     "solution": true,
     "task": false
    }
   },
   "source": [
    "YOUR ANSWER HERE"
   ]
  },
  {
   "cell_type": "markdown",
   "metadata": {
    "deletable": false,
    "editable": false,
    "nbgrader": {
     "cell_type": "markdown",
     "checksum": "9b76223bbb111a33e1139dcdf3d394c9",
     "grade": false,
     "grade_id": "cell-742c1de413386ceb",
     "locked": true,
     "schema_version": 3,
     "solution": false,
     "task": false
    }
   },
   "source": [
    "## k-Nearest Neighbor (kNN) with Scikit Learn"
   ]
  },
  {
   "cell_type": "markdown",
   "metadata": {
    "deletable": false,
    "editable": false,
    "nbgrader": {
     "cell_type": "markdown",
     "checksum": "989cbfe53250b34920afb2dd89647092",
     "grade": false,
     "grade_id": "cell-aa5d831a4dc0138d",
     "locked": true,
     "schema_version": 3,
     "solution": false,
     "task": false
    }
   },
   "source": [
    "### Classification"
   ]
  },
  {
   "cell_type": "markdown",
   "metadata": {
    "deletable": false,
    "editable": false,
    "nbgrader": {
     "cell_type": "markdown",
     "checksum": "27d6239e9b533c0919445b0032169aa2",
     "grade": false,
     "grade_id": "cell-266a8e14dd3d2861",
     "locked": true,
     "schema_version": 3,
     "solution": false,
     "task": false
    }
   },
   "source": [
    "First we regenerate the dataset used throughout Exercise 3."
   ]
  },
  {
   "cell_type": "code",
   "execution_count": null,
   "metadata": {
    "deletable": false,
    "editable": false,
    "nbgrader": {
     "cell_type": "code",
     "checksum": "0153fad27babab9e7c870a7aacfd08c8",
     "grade": false,
     "grade_id": "cell-342c74d86eb54594",
     "locked": true,
     "schema_version": 3,
     "solution": false,
     "task": false
    }
   },
   "outputs": [],
   "source": [
    "df = gen_2d_classification_samples()"
   ]
  },
  {
   "cell_type": "code",
   "execution_count": null,
   "metadata": {
    "deletable": false,
    "editable": false,
    "nbgrader": {
     "cell_type": "code",
     "checksum": "4b29ebbb5eff1ebd4ad871c24a93aff6",
     "grade": false,
     "grade_id": "cell-a7d4a821d8322a09",
     "locked": true,
     "schema_version": 3,
     "solution": false,
     "task": false
    }
   },
   "outputs": [],
   "source": [
    "plot_2d_classification_samples(df)"
   ]
  },
  {
   "cell_type": "markdown",
   "metadata": {
    "deletable": false,
    "editable": false,
    "nbgrader": {
     "cell_type": "markdown",
     "checksum": "8302a0abde46043b4e9a1a6faa0798d8",
     "grade": false,
     "grade_id": "cell-9c820f55c090fd94",
     "locked": true,
     "schema_version": 3,
     "solution": false,
     "task": false
    }
   },
   "source": [
    "Then we instantiate the classifier, train it and plot the decision boundaries:"
   ]
  },
  {
   "cell_type": "code",
   "execution_count": null,
   "metadata": {
    "deletable": false,
    "editable": false,
    "nbgrader": {
     "cell_type": "code",
     "checksum": "399e3c5ce44c9cfeb7a5fd823fa80029",
     "grade": false,
     "grade_id": "cell-a14c2c93459d829b",
     "locked": true,
     "schema_version": 3,
     "solution": false,
     "task": false
    }
   },
   "outputs": [],
   "source": [
    "def learn_knn_and_plot(**kwargs):\n",
    "    \"\"\"\n",
    "    Learns a knn model and plot the points, their class and the decision boundaries\n",
    "\n",
    "    :param kwargs: keyword arguments passed to KNeighborsClassifier\n",
    "    \"\"\"\n",
    "    model = sklearn.neighbors.KNeighborsClassifier(**kwargs)\n",
    "    model.fit(df[['x1', 'x2']], df['y'])\n",
    "    plot_2d_classification_samples(df, model=model)"
   ]
  },
  {
   "cell_type": "code",
   "execution_count": null,
   "metadata": {
    "deletable": false,
    "editable": false,
    "nbgrader": {
     "cell_type": "code",
     "checksum": "0172f3627d38eed12c06fbb0077204c3",
     "grade": false,
     "grade_id": "cell-d897bede604ac50a",
     "locked": true,
     "schema_version": 3,
     "solution": false,
     "task": false
    }
   },
   "outputs": [],
   "source": [
    "learn_knn_and_plot(n_neighbors=5)"
   ]
  },
  {
   "cell_type": "markdown",
   "metadata": {
    "deletable": false,
    "editable": false,
    "nbgrader": {
     "cell_type": "markdown",
     "checksum": "56f70a39fe6964191c1d0b859f7f703a",
     "grade": false,
     "grade_id": "cell-cb6152f4d8230f10",
     "locked": true,
     "schema_version": 3,
     "solution": false,
     "task": false
    }
   },
   "source": [
    "### Exercise 7"
   ]
  },
  {
   "cell_type": "markdown",
   "metadata": {
    "deletable": false,
    "editable": false,
    "nbgrader": {
     "cell_type": "markdown",
     "checksum": "a729c6a733129f97de66e76cc23e07d7",
     "grade": false,
     "grade_id": "cell-3ca3aa0f1440339b",
     "locked": true,
     "schema_version": 3,
     "solution": false,
     "task": false
    }
   },
   "source": [
    "#### Question 1"
   ]
  },
  {
   "cell_type": "markdown",
   "metadata": {
    "deletable": false,
    "editable": false,
    "nbgrader": {
     "cell_type": "markdown",
     "checksum": "b5d1d2a4357ef4d49ddbdcf8d1ed073e",
     "grade": false,
     "grade_id": "cell-6b87f10bd0219699",
     "locked": true,
     "schema_version": 3,
     "solution": false,
     "task": false
    }
   },
   "source": [
    "Change the value of the hyperparameter $k$ in the cell above, and observe what happens, i.e. plot the resulting boundaries with the subsequent cell.\n",
    "\n",
    "What is the influence of the number of neighbors on the boundaries? (Bonus points for the two extreme cases!)"
   ]
  },
  {
   "cell_type": "code",
   "execution_count": null,
   "metadata": {
    "deletable": false,
    "nbgrader": {
     "cell_type": "code",
     "checksum": "c94fd6c022d9497a3500a55028930e34",
     "grade": false,
     "grade_id": "cell-83a85512470f18b1",
     "locked": false,
     "schema_version": 3,
     "solution": true,
     "task": false
    }
   },
   "outputs": [],
   "source": [
    "# learn_knn_and_plot(...)\n",
    "# YOUR CODE HERE\n",
    "raise NotImplementedError()"
   ]
  },
  {
   "cell_type": "markdown",
   "metadata": {
    "deletable": false,
    "nbgrader": {
     "cell_type": "markdown",
     "checksum": "b12a93d03e4a46fa19c357c716c22306",
     "grade": true,
     "grade_id": "cell-198944484a425e52",
     "locked": false,
     "points": 1,
     "schema_version": 3,
     "solution": true,
     "task": false
    }
   },
   "source": [
    "YOUR ANSWER HERE"
   ]
  },
  {
   "cell_type": "markdown",
   "metadata": {
    "deletable": false,
    "editable": false,
    "nbgrader": {
     "cell_type": "markdown",
     "checksum": "071be2eeaa430129ecd66fd96c7c2d43",
     "grade": false,
     "grade_id": "cell-2836b9d6d5c50905",
     "locked": true,
     "schema_version": 3,
     "solution": false,
     "task": false
    }
   },
   "source": [
    "#### Question 2"
   ]
  },
  {
   "cell_type": "markdown",
   "metadata": {
    "deletable": false,
    "editable": false,
    "nbgrader": {
     "cell_type": "markdown",
     "checksum": "3253d549f3b62c55b8685372f193dc96",
     "grade": false,
     "grade_id": "cell-bda19bc6f62e5f0f",
     "locked": true,
     "schema_version": 3,
     "solution": false,
     "task": false
    }
   },
   "source": [
    "When you face a very noisy dataset (wrong labels, misplaced points, ...), should you increase or decrease $k$ ?"
   ]
  },
  {
   "cell_type": "markdown",
   "metadata": {
    "deletable": false,
    "nbgrader": {
     "cell_type": "markdown",
     "checksum": "5a5ed0f579ae03ebf2e9b8cdfd116dbd",
     "grade": true,
     "grade_id": "cell-45c5e32e41c8f545",
     "locked": false,
     "points": 1,
     "schema_version": 3,
     "solution": true,
     "task": false
    }
   },
   "source": [
    "YOUR ANSWER HERE"
   ]
  },
  {
   "cell_type": "markdown",
   "metadata": {
    "deletable": false,
    "editable": false,
    "nbgrader": {
     "cell_type": "markdown",
     "checksum": "0bde2dbe3dde01e23b582d8c8be3a26d",
     "grade": false,
     "grade_id": "cell-82a8ca689254440a",
     "locked": true,
     "schema_version": 3,
     "solution": false,
     "task": false
    }
   },
   "source": [
    "#### Question 3"
   ]
  },
  {
   "cell_type": "markdown",
   "metadata": {
    "deletable": false,
    "editable": false,
    "nbgrader": {
     "cell_type": "markdown",
     "checksum": "cff75f172b942d9ba2d6862d604861aa",
     "grade": false,
     "grade_id": "cell-5f27addc2e91cb95",
     "locked": true,
     "schema_version": 3,
     "solution": false,
     "task": false
    }
   },
   "source": [
    "Is the Voronoi diagram useful for the kNN case (i.e. when $k>1$) ?"
   ]
  },
  {
   "cell_type": "markdown",
   "metadata": {
    "deletable": false,
    "nbgrader": {
     "cell_type": "markdown",
     "checksum": "4079c66d206cd9ab055c29146e661a3e",
     "grade": true,
     "grade_id": "cell-1c3718c15cbacf2b",
     "locked": false,
     "points": 0,
     "schema_version": 3,
     "solution": true,
     "task": false
    }
   },
   "source": [
    "YOUR ANSWER HERE"
   ]
  },
  {
   "cell_type": "markdown",
   "metadata": {
    "deletable": false,
    "editable": false,
    "nbgrader": {
     "cell_type": "markdown",
     "checksum": "c757de5976680d00d6f7842d44b681ba",
     "grade": false,
     "grade_id": "cell-39b17f88a9295510",
     "locked": true,
     "schema_version": 3,
     "solution": false,
     "task": false
    }
   },
   "source": [
    "#### Question 4"
   ]
  },
  {
   "cell_type": "markdown",
   "metadata": {
    "deletable": false,
    "editable": false,
    "nbgrader": {
     "cell_type": "markdown",
     "checksum": "74fdb7fbd74403188a5194d4df6baefd",
     "grade": false,
     "grade_id": "cell-250c83fcd9392137",
     "locked": true,
     "schema_version": 3,
     "solution": false,
     "task": false
    }
   },
   "source": [
    "Plot the decision boundary with $k=2$ and describe what happens in case of equal vote (copy-paste the 3 previous lines of code)."
   ]
  },
  {
   "cell_type": "code",
   "execution_count": null,
   "metadata": {
    "deletable": false,
    "nbgrader": {
     "cell_type": "code",
     "checksum": "12c098534d2743125769ca3aaf3c9a4a",
     "grade": false,
     "grade_id": "cell-89461ef88df42b1a",
     "locked": false,
     "schema_version": 3,
     "solution": true,
     "task": false
    }
   },
   "outputs": [],
   "source": [
    "# learn_knn_and_plot(...)\n",
    "# YOUR CODE HERE\n",
    "raise NotImplementedError()"
   ]
  },
  {
   "cell_type": "markdown",
   "metadata": {
    "deletable": false,
    "nbgrader": {
     "cell_type": "markdown",
     "checksum": "8034aff6f9268141c4c77a95eab409f1",
     "grade": true,
     "grade_id": "cell-d6f4519e0b69a04c",
     "locked": false,
     "points": 1,
     "schema_version": 3,
     "solution": true,
     "task": false
    }
   },
   "source": [
    "YOUR ANSWER HERE"
   ]
  },
  {
   "cell_type": "markdown",
   "metadata": {
    "deletable": false,
    "editable": false,
    "nbgrader": {
     "cell_type": "markdown",
     "checksum": "f5140730580ffb1ad7527592bd6a7be6",
     "grade": false,
     "grade_id": "cell-e406c15c7b35bd28",
     "locked": true,
     "schema_version": 3,
     "solution": false,
     "task": false
    }
   },
   "source": [
    "#### Question 5"
   ]
  },
  {
   "cell_type": "markdown",
   "metadata": {
    "deletable": false,
    "editable": false,
    "nbgrader": {
     "cell_type": "markdown",
     "checksum": "6912f0019388ea2b52ce6c708a2b21b1",
     "grade": false,
     "grade_id": "cell-f54ae0b732531889",
     "locked": true,
     "schema_version": 3,
     "solution": false,
     "task": false
    }
   },
   "source": [
    "Add the `weights = \"distance\"` parameter in `KNeighborsClassifier`'s constructor. What changes can you observe on the decision boundary? Explain how labels are computed with this new parameter."
   ]
  },
  {
   "cell_type": "code",
   "execution_count": null,
   "metadata": {
    "deletable": false,
    "nbgrader": {
     "cell_type": "code",
     "checksum": "0a5cf696d66ca2efd11d46077771ac6d",
     "grade": true,
     "grade_id": "cell-40d043d5d08b28a0",
     "locked": false,
     "points": 0,
     "schema_version": 3,
     "solution": true,
     "task": false
    }
   },
   "outputs": [],
   "source": [
    "# learn_knn_and_plot(...)\n",
    "# YOUR CODE HERE\n",
    "raise NotImplementedError()"
   ]
  },
  {
   "cell_type": "markdown",
   "metadata": {
    "deletable": false,
    "nbgrader": {
     "cell_type": "markdown",
     "checksum": "9afff0cf09bf1d485bd31cb299914a4e",
     "grade": true,
     "grade_id": "cell-97e9173553a38afc",
     "locked": false,
     "points": 1,
     "schema_version": 3,
     "solution": true,
     "task": false
    }
   },
   "source": [
    "YOUR ANSWER HERE"
   ]
  },
  {
   "cell_type": "markdown",
   "metadata": {
    "deletable": false,
    "editable": false,
    "nbgrader": {
     "cell_type": "markdown",
     "checksum": "cb548ee911eec3ad2b656c784f0c7d1f",
     "grade": false,
     "grade_id": "cell-fe06326c2b4b6e24",
     "locked": true,
     "schema_version": 3,
     "solution": false,
     "task": false
    }
   },
   "source": [
    "### Regression"
   ]
  },
  {
   "cell_type": "markdown",
   "metadata": {
    "deletable": false,
    "editable": false,
    "nbgrader": {
     "cell_type": "markdown",
     "checksum": "b1168d50095885c86cd490dc387e5509",
     "grade": false,
     "grade_id": "cell-245c508a9c8609e0",
     "locked": true,
     "schema_version": 3,
     "solution": false,
     "task": false
    }
   },
   "source": [
    "First we regenerate the dataset from Exercise 4 - Regression with 1-NN)."
   ]
  },
  {
   "cell_type": "code",
   "execution_count": null,
   "metadata": {
    "deletable": false,
    "editable": false,
    "nbgrader": {
     "cell_type": "code",
     "checksum": "0881136b881af34d81ab02b272de7539",
     "grade": false,
     "grade_id": "cell-0502bea5c9bcd5fb",
     "locked": true,
     "schema_version": 3,
     "solution": false,
     "task": false
    }
   },
   "outputs": [],
   "source": [
    "df = gen_and_plot_1d_regression_samples()"
   ]
  },
  {
   "cell_type": "markdown",
   "metadata": {
    "deletable": false,
    "editable": false,
    "nbgrader": {
     "cell_type": "markdown",
     "checksum": "99b7e07b31aa955ec93b6b58545e5d96",
     "grade": false,
     "grade_id": "cell-8f1da87c76b82ccc",
     "locked": true,
     "schema_version": 3,
     "solution": false,
     "task": false
    }
   },
   "source": [
    "Then we instantiate the classifier, train it and plot the decision boundaries:"
   ]
  },
  {
   "cell_type": "code",
   "execution_count": null,
   "metadata": {
    "deletable": false,
    "editable": false,
    "nbgrader": {
     "cell_type": "code",
     "checksum": "85e648e967c8fd256a010f1cdb7156df",
     "grade": false,
     "grade_id": "cell-35d779b892b1fd52",
     "locked": true,
     "schema_version": 3,
     "solution": false,
     "task": false
    }
   },
   "outputs": [],
   "source": [
    "def train_and_plot_knn_regressor(**kwargs):\n",
    "    \"\"\"\n",
    "    Instantiate, fits a KNN regressor and plots the training points as well as the predictions\n",
    "\n",
    "    :param kwargs: keyword arguments passed to KNeighborsRegressor constructor\n",
    "    \"\"\"\n",
    "    model = sklearn.neighbors.KNeighborsRegressor(**kwargs)\n",
    "    model.fit(df[['x']], df['y'])\n",
    "\n",
    "    x_pred = np.arange(-10, 10, 1).reshape(-1, 1)\n",
    "    y_pred = model.predict(x_pred)\n",
    "\n",
    "    df_pred = pd.DataFrame(np.array([x_pred.flatten(), y_pred.flatten()]).T, columns=['x', 'y'])\n",
    "\n",
    "    ax = df.plot.scatter(x='x', y='y')\n",
    "    df_pred.plot(x='x', y='y', style='r--', ax=ax);"
   ]
  },
  {
   "cell_type": "code",
   "execution_count": null,
   "metadata": {
    "deletable": false,
    "editable": false,
    "nbgrader": {
     "cell_type": "code",
     "checksum": "9afba532f651fd7490cfc4b162f4cc10",
     "grade": false,
     "grade_id": "cell-490250cefad68a4e",
     "locked": true,
     "schema_version": 3,
     "solution": false,
     "task": false
    }
   },
   "outputs": [],
   "source": [
    "train_and_plot_knn_regressor(n_neighbors=10)"
   ]
  },
  {
   "cell_type": "markdown",
   "metadata": {
    "deletable": false,
    "editable": false,
    "nbgrader": {
     "cell_type": "markdown",
     "checksum": "0c1aef0740c0c61248de775af0734256",
     "grade": false,
     "grade_id": "cell-83b5516abfa46214",
     "locked": true,
     "schema_version": 3,
     "solution": false,
     "task": false
    }
   },
   "source": [
    "### Exercise 8"
   ]
  },
  {
   "cell_type": "markdown",
   "metadata": {
    "deletable": false,
    "editable": false,
    "nbgrader": {
     "cell_type": "markdown",
     "checksum": "fa24e1b442c86c5e3e061c4375b09839",
     "grade": false,
     "grade_id": "cell-01a22a7f46b1071d",
     "locked": true,
     "schema_version": 3,
     "solution": false,
     "task": false
    }
   },
   "source": [
    "*Recall*: The `n_neighbors` parameter provided to the model's constructor `KNeighborsClassifier` sets the number of neighbors to consider for each prediction (i.e. `n_neighbors` this is the '$k$' of kNN)."
   ]
  },
  {
   "cell_type": "markdown",
   "metadata": {
    "deletable": false,
    "editable": false,
    "nbgrader": {
     "cell_type": "markdown",
     "checksum": "988546a01d88020e26bae4d4343d60eb",
     "grade": false,
     "grade_id": "cell-ce5687a394c06767",
     "locked": true,
     "schema_version": 3,
     "solution": false,
     "task": false
    }
   },
   "source": [
    "#### Question 1"
   ]
  },
  {
   "cell_type": "markdown",
   "metadata": {
    "deletable": false,
    "editable": false,
    "nbgrader": {
     "cell_type": "markdown",
     "checksum": "62b855278ec9334432ce0e2ceb3a4156",
     "grade": false,
     "grade_id": "cell-3427a047b3fbf79a",
     "locked": true,
     "schema_version": 3,
     "solution": false,
     "task": false
    }
   },
   "source": [
    "Change the value of this parameter and observe what happens.\n",
    "\n",
    "What is the influence of the number of neighbors on the decision function (again, bonus points for extreme cases)?"
   ]
  },
  {
   "cell_type": "code",
   "execution_count": null,
   "metadata": {
    "deletable": false,
    "nbgrader": {
     "cell_type": "code",
     "checksum": "2851befb23243e8de8beb38141363446",
     "grade": false,
     "grade_id": "cell-f47ed384889fa9ef",
     "locked": false,
     "schema_version": 3,
     "solution": true,
     "task": false
    }
   },
   "outputs": [],
   "source": [
    "# train_and_plot_knn_regressor(...)\n",
    "# YOUR CODE HERE\n",
    "raise NotImplementedError()"
   ]
  },
  {
   "cell_type": "markdown",
   "metadata": {
    "deletable": false,
    "nbgrader": {
     "cell_type": "markdown",
     "checksum": "db12360e6fe9d3d48bb11064086c8525",
     "grade": true,
     "grade_id": "cell-7eb494f1473544ad",
     "locked": false,
     "points": 1,
     "schema_version": 3,
     "solution": true,
     "task": false
    }
   },
   "source": [
    "YOUR ANSWER HERE"
   ]
  },
  {
   "cell_type": "markdown",
   "metadata": {
    "deletable": false,
    "editable": false,
    "nbgrader": {
     "cell_type": "markdown",
     "checksum": "24ab9596a18da6a5674e5f3f0ab88e4c",
     "grade": false,
     "grade_id": "cell-1f3a90351bc17a28",
     "locked": true,
     "schema_version": 3,
     "solution": false,
     "task": false
    }
   },
   "source": [
    "#### Question 2"
   ]
  },
  {
   "cell_type": "markdown",
   "metadata": {
    "deletable": false,
    "editable": false,
    "nbgrader": {
     "cell_type": "markdown",
     "checksum": "e900b41f1d4bcff332d993090d910516",
     "grade": false,
     "grade_id": "cell-78b9ebed5aa19c8d",
     "locked": true,
     "schema_version": 3,
     "solution": false,
     "task": false
    }
   },
   "source": [
    "When you face a very noised dataset (wrong labels, misplaced points, ...), should you increase or decrease $k$ ?"
   ]
  },
  {
   "cell_type": "markdown",
   "metadata": {
    "deletable": false,
    "nbgrader": {
     "cell_type": "markdown",
     "checksum": "442a3b9695b854a610ce8b84fd04b23f",
     "grade": true,
     "grade_id": "cell-623e932720b2164c",
     "locked": false,
     "points": 1,
     "schema_version": 3,
     "solution": true,
     "task": false
    }
   },
   "source": [
    "YOUR ANSWER HERE"
   ]
  },
  {
   "cell_type": "markdown",
   "metadata": {
    "deletable": false,
    "editable": false,
    "nbgrader": {
     "cell_type": "markdown",
     "checksum": "dfd211a72e77af0b04ef5acac77e1b17",
     "grade": false,
     "grade_id": "cell-c539d5681bd187c2",
     "locked": true,
     "schema_version": 3,
     "solution": false,
     "task": false
    }
   },
   "source": [
    "## Logistic Regression (Gradient Descent)"
   ]
  },
  {
   "cell_type": "markdown",
   "metadata": {
    "deletable": false,
    "editable": false,
    "nbgrader": {
     "cell_type": "markdown",
     "checksum": "4ce97e3996645b4395f39e40b9848272",
     "grade": false,
     "grade_id": "cell-f817d4a402721058",
     "locked": true,
     "schema_version": 3,
     "solution": false,
     "task": false
    }
   },
   "source": [
    "$k$-NN is a **non-parametric**, **classification** (with arbitrary number of classes) and **regression** algorithm.\n",
    "\n",
    "\"Natively\", logistic regression is a **parametric binary classification algorithm**, so we generate a dataframe `df` containing a label `y` with only 2 classes (`0` and `1`)."
   ]
  },
  {
   "cell_type": "code",
   "execution_count": null,
   "metadata": {
    "deletable": false,
    "editable": false,
    "nbgrader": {
     "cell_type": "code",
     "checksum": "896198b14c4e733c9d4ee3ae22a9adad",
     "grade": false,
     "grade_id": "cell-cedbc22e4dce74e0",
     "locked": true,
     "schema_version": 3,
     "solution": false,
     "task": false
    }
   },
   "outputs": [],
   "source": [
    "df = gen_2d_classification_samples(n_samples = 100, nclass = 2)"
   ]
  },
  {
   "cell_type": "code",
   "execution_count": null,
   "metadata": {
    "deletable": false,
    "editable": false,
    "nbgrader": {
     "cell_type": "code",
     "checksum": "ab667fd9e8cae00f021dd90d81bc861b",
     "grade": false,
     "grade_id": "cell-e3d6b53fa9768bb3",
     "locked": true,
     "schema_version": 3,
     "solution": false,
     "task": false
    }
   },
   "outputs": [],
   "source": [
    "plot_2d_classification_samples(df)"
   ]
  },
  {
   "cell_type": "markdown",
   "metadata": {
    "deletable": false,
    "editable": false,
    "nbgrader": {
     "cell_type": "markdown",
     "checksum": "0ab496a9ed58bb4dc81985598c3ac889",
     "grade": false,
     "grade_id": "cell-40b68107968c993d",
     "locked": true,
     "schema_version": 3,
     "solution": false,
     "task": false
    }
   },
   "source": [
    "Logistic regression is very similar to linear regression in so far as it is a **parametric model** which aims at finding a parameter $\\theta^\\star$ such as $f_{\\boldsymbol{\\theta}}: \\boldsymbol{x} \\mapsto y$ provides a good \"link\" between input vectors $\\boldsymbol{x} \\in \\mathbb{R}^p$ and output values $y \\in \\{0,1\\}$ in a *learning set* $\\mathcal{D} = \\{(\\boldsymbol{x}^{(i)}, y^{(i)})\\}_{1 \\leq i \\leq n}$ of $n$ examples:\n",
    "\n",
    "$$\n",
    "\\theta^\\star = \\arg\\!\\min E(\\theta, \\mathcal{D}),\n",
    "$$\n",
    "\n",
    "where $E(\\theta, \\mathcal{D}) = - \\sum_{i=1}^n \\ln p_{\\theta}(y^{(i)} | \\boldsymbol{x}^{(i)})$.\n",
    "\n",
    "This is called the log loss (machine learning community), or the opposite of the loglikelihood (statistics community).\n",
    "\n",
    "Fortunately, logistic regression is a rather simple model which states:\n",
    "\n",
    "$$\n",
    "p_{\\theta}(1 | \\boldsymbol{x}^{(i)}) = \\frac{1}{1+\\exp{(-\\theta^T \\boldsymbol{x}^{(i)})}}\n",
    "$$\n",
    "\n",
    "The loss function $E(\\theta, \\mathcal{D})$ is convex, which means $\\theta^\\star$ exists, is unique, and can be obtained by minimizing $E$."
   ]
  },
  {
   "cell_type": "markdown",
   "metadata": {
    "deletable": false,
    "editable": false,
    "nbgrader": {
     "cell_type": "markdown",
     "checksum": "f69480d0d3cd1da3bce3d61b170ec375",
     "grade": false,
     "grade_id": "cell-c301c179faa98ecd",
     "locked": true,
     "schema_version": 3,
     "solution": false,
     "task": false
    }
   },
   "source": [
    "### Exercise 9\n",
    "\n",
    "Complete the following `gradient_descent` function implemented in the last lab to work for logistic regression. \n",
    "\n",
    "**Hint**: only the gradient needs to be changed."
   ]
  },
  {
   "cell_type": "code",
   "execution_count": null,
   "metadata": {
    "deletable": false,
    "editable": false,
    "nbgrader": {
     "cell_type": "code",
     "checksum": "9fa86921a082163988a6f52c240f7758",
     "grade": false,
     "grade_id": "cell-f97708920edc4e00",
     "locked": true,
     "schema_version": 3,
     "solution": false,
     "task": false
    }
   },
   "outputs": [],
   "source": [
    "X = np.array([np.ones((df.shape[0])), df.x1, df.x2])\n",
    "y = np.array(df.y) - 1"
   ]
  },
  {
   "cell_type": "code",
   "execution_count": null,
   "metadata": {
    "deletable": false,
    "nbgrader": {
     "cell_type": "code",
     "checksum": "2d4a6294225acfa786e10620010b8d77",
     "grade": false,
     "grade_id": "cell-826e6ccd75478439",
     "locked": false,
     "schema_version": 3,
     "solution": true,
     "task": false
    }
   },
   "outputs": [],
   "source": [
    "def gradient_descent(X, y, eta=0.001, max_iteration=10000, initial_theta=None):\n",
    "\n",
    "    if initial_theta is None:\n",
    "        # The initial solution is selected randomly\n",
    "        theta = np.random.normal(loc=0, scale=10, size=[3, 1])\n",
    "    else:\n",
    "        theta = initial_theta\n",
    "\n",
    "    grad_list = []      # Keep the gradient of all iterations\n",
    "    theta_list = []     # Keep the solution of all iterations\n",
    "\n",
    "    for i in range(max_iteration):\n",
    "        # Perform the gradient descent here\n",
    "        # YOUR CODE HERE\n",
    "        raise NotImplementedError()\n",
    "\n",
    "    return grad_list, theta_list"
   ]
  },
  {
   "cell_type": "markdown",
   "metadata": {
    "deletable": false,
    "editable": false,
    "nbgrader": {
     "cell_type": "markdown",
     "checksum": "10415c77074d4b1d831ce043d11b9943",
     "grade": false,
     "grade_id": "cell-33f9a354f6a7a96d",
     "locked": true,
     "schema_version": 3,
     "solution": false,
     "task": false
    }
   },
   "source": [
    "(You don't have to fill in anything in the following cell; it's a general comment about the solution of the previous cell which will be provided in the solutions of this lab session.)"
   ]
  },
  {
   "cell_type": "markdown",
   "metadata": {
    "deletable": false,
    "nbgrader": {
     "cell_type": "markdown",
     "checksum": "7d6b7223945ed9143324023b853d0fa5",
     "grade": true,
     "grade_id": "cell-7533859a60567f8c",
     "locked": false,
     "points": 1,
     "schema_version": 3,
     "solution": true,
     "task": false
    }
   },
   "source": [
    "YOUR ANSWER HERE"
   ]
  },
  {
   "cell_type": "code",
   "execution_count": null,
   "metadata": {
    "deletable": false,
    "editable": false,
    "nbgrader": {
     "cell_type": "code",
     "checksum": "8f5a42e9f7323a315cad22c569980b0c",
     "grade": true,
     "grade_id": "cell-00e6aaad8d91fb86",
     "locked": true,
     "points": 1,
     "schema_version": 3,
     "solution": false,
     "task": false
    }
   },
   "outputs": [],
   "source": [
    "grad_list, theta_list = gradient_descent(X, y, eta = 0.1)"
   ]
  },
  {
   "cell_type": "markdown",
   "metadata": {
    "deletable": false,
    "editable": false,
    "nbgrader": {
     "cell_type": "markdown",
     "checksum": "f1e9deeece534c6e814540d7f7261971",
     "grade": false,
     "grade_id": "cell-58020eb3f120a67a",
     "locked": true,
     "schema_version": 3,
     "solution": false,
     "task": false
    }
   },
   "source": [
    "Let's see if it has converged by plotting the parameters w.r.t. the iteration number:"
   ]
  },
  {
   "cell_type": "code",
   "execution_count": null,
   "metadata": {
    "deletable": false,
    "editable": false,
    "nbgrader": {
     "cell_type": "code",
     "checksum": "ec8dddf7a58b053732bc993a24560164",
     "grade": false,
     "grade_id": "cell-4a914191992a8326",
     "locked": true,
     "schema_version": 3,
     "solution": false,
     "task": false
    }
   },
   "outputs": [],
   "source": [
    "plt.plot([theta[0] for theta in theta_list]);\n",
    "plt.plot([theta[1] for theta in theta_list]);\n",
    "plt.plot([theta[2] for theta in theta_list]);"
   ]
  },
  {
   "cell_type": "markdown",
   "metadata": {
    "deletable": false,
    "editable": false,
    "nbgrader": {
     "cell_type": "markdown",
     "checksum": "cee8b0d54870f1f949a2de47dcf05ffd",
     "grade": false,
     "grade_id": "cell-5e3051ce7de44c3a",
     "locked": true,
     "schema_version": 3,
     "solution": false,
     "task": false
    }
   },
   "source": [
    "Let's see the decision boundary, i.e. the half-spaces where each label is predicted."
   ]
  },
  {
   "cell_type": "code",
   "execution_count": null,
   "metadata": {
    "deletable": false,
    "editable": false,
    "nbgrader": {
     "cell_type": "code",
     "checksum": "bbf78e1f53ee4b6b2b11b5a0d7980d26",
     "grade": false,
     "grade_id": "cell-02f4f6e31a17faad",
     "locked": true,
     "schema_version": 3,
     "solution": false,
     "task": false
    }
   },
   "outputs": [],
   "source": [
    "x_min, x_max = np.array((df.x1, df.x2))[0, :].min() - .5, np.array((df.x1, df.x2))[0, :].max() + .5\n",
    "y_min, y_max = np.array((df.x1, df.x2))[1, :].min() - .5, np.array((df.x1, df.x2))[1, :].max() + .5\n",
    "h = .02  # step size in the mesh\n",
    "xx, yy = np.meshgrid(np.arange(x_min, x_max, h), np.arange(y_min, y_max, h))\n",
    "Z = 1/(1+np.exp(-np.dot(np.c_[np.ones((len(xx.ravel()))), xx.ravel(), yy.ravel()], theta_list[9999])))\n",
    "plt.pcolormesh(xx, yy, (Z.reshape(xx.shape) > 0.5)*1, cmap=plt.cm.Paired)\n",
    "plt.scatter(df.x1, df.x2, c=y);"
   ]
  },
  {
   "cell_type": "markdown",
   "metadata": {
    "deletable": false,
    "editable": false,
    "nbgrader": {
     "cell_type": "markdown",
     "checksum": "e35794c8a5dc7a5cdf82f083b5c8efff",
     "grade": false,
     "grade_id": "cell-4ec063e0844c5c5f",
     "locked": true,
     "schema_version": 3,
     "solution": false,
     "task": false
    }
   },
   "source": [
    "## Logistic Regression (scikit-learn)"
   ]
  },
  {
   "cell_type": "markdown",
   "metadata": {
    "deletable": false,
    "editable": false,
    "nbgrader": {
     "cell_type": "markdown",
     "checksum": "f4c6bb9f5449e49fd7338032ab548606",
     "grade": false,
     "grade_id": "cell-819ce233e39cb9c0",
     "locked": true,
     "schema_version": 3,
     "solution": false,
     "task": false
    }
   },
   "source": [
    "### Exercise 10\n",
    "\n",
    "Let's do the same using scikit-learn!\n",
    "\n",
    "Similar to the previous lab, logistic regression belongs to the linear model module, and provides among others the `fit` and `predict` methods. Use the `fit` method to compare the coefficients obtained with scikit-learn and your gradient descent.\n",
    "\n",
    "**Beware of the `C` parameter**, which corresponds to L2 regularization (see [docs](https://scikit-learn.org/stable/modules/generated/sklearn.linear_model.LogisticRegression.html)) - this will be the subject of subsequent lectures; set it to an arbitrarily high value, e.g. `1e9`."
   ]
  },
  {
   "cell_type": "code",
   "execution_count": null,
   "metadata": {
    "deletable": false,
    "nbgrader": {
     "cell_type": "code",
     "checksum": "baa06f411a1d209e35471807a7edeb4e",
     "grade": false,
     "grade_id": "cell-f5bd213d69a982d8",
     "locked": false,
     "schema_version": 3,
     "solution": true,
     "task": false
    }
   },
   "outputs": [],
   "source": [
    "# model = sklearn.linear_model.LogisticRegression(...)\n",
    "# model.fit(...)\n",
    "\n",
    "# YOUR CODE HERE\n",
    "raise NotImplementedError()"
   ]
  },
  {
   "cell_type": "markdown",
   "metadata": {
    "deletable": false,
    "editable": false,
    "nbgrader": {
     "cell_type": "markdown",
     "checksum": "be9a0cc7606b8a2d8c8b0f63c58ae83e",
     "grade": false,
     "grade_id": "cell-3ff39a810b648cea",
     "locked": true,
     "schema_version": 3,
     "solution": false,
     "task": false
    }
   },
   "source": [
    "Let's see if we came up with the same estimates:"
   ]
  },
  {
   "cell_type": "code",
   "execution_count": null,
   "metadata": {
    "deletable": false,
    "editable": false,
    "nbgrader": {
     "cell_type": "code",
     "checksum": "a519e90055d076264c03a67017fa464e",
     "grade": false,
     "grade_id": "cell-a159ad94f5ba1a8c",
     "locked": true,
     "schema_version": 3,
     "solution": false,
     "task": false
    }
   },
   "outputs": [],
   "source": [
    "print(\"Intercept\")\n",
    "print(\"=========\")\n",
    "print(\"sklearn:\\t\\t\", model.intercept_[0])\n",
    "print(\"gradient descent: \\t\", theta_list[9999][0])\n",
    "print(\"\\n\")\n",
    "\n",
    "print(\"theta_1\")\n",
    "print(\"=========\")\n",
    "print(\"sklearn:\\t\\t\", model.coef_[0][0])\n",
    "print(\"gradient descent:\\t\", theta_list[9999][1])\n",
    "print(\"\\n\")\n",
    "\n",
    "print(\"theta_2\")\n",
    "print(\"=========\")\n",
    "print(\"sklearn:\\t\\t\", model.coef_[0][1])\n",
    "print(\"gradient descent:\\t\", theta_list[9999][2])"
   ]
  },
  {
   "cell_type": "code",
   "execution_count": null,
   "metadata": {
    "deletable": false,
    "editable": false,
    "nbgrader": {
     "cell_type": "code",
     "checksum": "40e65a09d8bcc2b4ea216b1677f9c42b",
     "grade": true,
     "grade_id": "cell-1ff57bcb5ef04db0",
     "locked": true,
     "points": 1,
     "schema_version": 3,
     "solution": false,
     "task": false
    }
   },
   "outputs": [],
   "source": []
  },
  {
   "cell_type": "markdown",
   "metadata": {
    "deletable": false,
    "editable": false,
    "nbgrader": {
     "cell_type": "markdown",
     "checksum": "dd6b48a766a08a4125e127eab7645254",
     "grade": false,
     "grade_id": "cell-d6db5b77a464b6fa",
     "locked": true,
     "schema_version": 3,
     "solution": false,
     "task": false
    }
   },
   "source": [
    "## Bonus"
   ]
  },
  {
   "cell_type": "markdown",
   "metadata": {
    "deletable": false,
    "editable": false,
    "nbgrader": {
     "cell_type": "markdown",
     "checksum": "d21684ec1e32c9563c30b5a41a3ce707",
     "grade": false,
     "grade_id": "cell-d00e5307bdd62024",
     "locked": true,
     "schema_version": 3,
     "solution": false,
     "task": false
    }
   },
   "source": [
    "### Exercise 11\n",
    "\n",
    "Solve the Titanic problem with the k Nearest Neighbors method (see [`lab_session_01`](https://htmlpreview.github.io/?https://github.com/adimajo/CSE204-2021/blob/master/lab_session_01/lab_session_01.html)). Reuse the code of the first lab session:\n",
    "* read the data with `read_csv`;\n",
    "* select the columns useful for prediction;\n",
    "* drop the missing values;\n",
    "* map the categorical columns to numerical values;\n",
    "* split into a training and a test subset;\n",
    "* instantiate a k-NN classifier named `knn_sklearn`;\n",
    "* fit the model;\n",
    "* compute an accuracy score."
   ]
  },
  {
   "cell_type": "code",
   "execution_count": null,
   "metadata": {
    "deletable": false,
    "nbgrader": {
     "cell_type": "code",
     "checksum": "cc925ee2fca2b4700483bebe2b1b7394",
     "grade": true,
     "grade_id": "cell-c5fa6ac1da40588a",
     "locked": false,
     "points": 2,
     "schema_version": 3,
     "solution": true,
     "task": false
    }
   },
   "outputs": [],
   "source": [
    "# YOUR CODE HERE\n",
    "raise NotImplementedError()"
   ]
  },
  {
   "cell_type": "markdown",
   "metadata": {
    "deletable": false,
    "editable": false,
    "nbgrader": {
     "cell_type": "markdown",
     "checksum": "2aea9e8a67c9459cb14303e6f3d9be5c",
     "grade": false,
     "grade_id": "cell-20a4cf8bfa142bc0",
     "locked": true,
     "schema_version": 3,
     "solution": false,
     "task": false
    }
   },
   "source": [
    "### Exercise 12\n",
    "\n",
    "Write your own implementation for the k Nearest Neighbor algorithm.\n",
    "Write a `knn()` function that takes two arguments:\n",
    "- `xtrain`: the observed dataset;\n",
    "- `ytrain`: the observed labels;\n",
    "- `xpred`: a list of examples to predict;\n",
    "- `n_neighbors`: the number of nearest neighbors to use.\n",
    "\n",
    "This function should return the sequence of predicted labels."
   ]
  },
  {
   "cell_type": "code",
   "execution_count": null,
   "metadata": {
    "deletable": false,
    "nbgrader": {
     "cell_type": "code",
     "checksum": "20a0427834b0cb75a74b2a12af518e51",
     "grade": false,
     "grade_id": "cell-6020f515b3dff121",
     "locked": false,
     "schema_version": 3,
     "solution": true,
     "task": false
    }
   },
   "outputs": [],
   "source": [
    "from math import sqrt\n",
    "\n",
    "\n",
    "def knn(xtrain, ytrain, xpred, n_neighbors=5):\n",
    "    \"\"\"\n",
    "    Predicts the y values of xpred given xtrain, ytrain, and n_neighbors-nn classification\n",
    "\n",
    "    :param pandas.DataFrame xtrain: the training set's features (you can use numpy arrays as well)\n",
    "    :param pandas.DataFrame ytrain: the training set's labels (you can use numpy arrays as well)\n",
    "    :param pandas.DataFrame xpred: the test set's features (you can use numpy arrays as well)\n",
    "    :param int n_neighbors: number of nearest neighbors to use\n",
    "    \"\"\"\n",
    "    # So as not to mess up with the original dataframes\n",
    "    xtrain_cpy = xtrain.copy()\n",
    "    ytrain_cpy = ytrain.copy()\n",
    "    xpred_cpy = xpred.copy()\n",
    "    # Store the distances in a matrix\n",
    "    distances = np.zeros((xtrain_cpy.shape[0], xpred_cpy.shape[0]))\n",
    "    # Store the predictions in a vector\n",
    "    ypred = np.zeros(xpred_cpy.shape[0])\n",
    "    # You might want to reset the index (to have to correct row numbers)\n",
    "    xtrain_cpy.reset_index(inplace=True, drop=True)\n",
    "    xpred_cpy.reset_index(inplace=True, drop=True)\n",
    "    \n",
    "    # Compute distances of each row x in xtrain to each row x' in xpred and put it in `distances`\n",
    "    # YOUR CODE HERE\n",
    "    raise NotImplementedError()\n",
    "\n",
    "    # Average the labels of the `n_neighbors` closest points in xtrain of each row x in xpred\n",
    "    # YOUR CODE HERE\n",
    "    raise NotImplementedError()\n",
    "\n",
    "    return(ypred)"
   ]
  },
  {
   "cell_type": "code",
   "execution_count": null,
   "metadata": {
    "deletable": false,
    "editable": false,
    "nbgrader": {
     "cell_type": "code",
     "checksum": "18213008283563618b1929b7cfb39cf5",
     "grade": true,
     "grade_id": "cell-e5ea1393e549f5fe",
     "locked": true,
     "points": 1,
     "schema_version": 3,
     "solution": false,
     "task": false
    }
   },
   "outputs": [],
   "source": [
    "# It is assumed you defined X_train, Y_train, X_test in Exercise 11.\n",
    "your_predictions = knn(X_train, Y_train, X_test)"
   ]
  },
  {
   "cell_type": "code",
   "execution_count": null,
   "metadata": {
    "deletable": false,
    "editable": false,
    "nbgrader": {
     "cell_type": "code",
     "checksum": "1917c51fdc8f52ec0636a8d6a59b8502",
     "grade": true,
     "grade_id": "cell-b99ef79fe1b398a3",
     "locked": true,
     "points": 1,
     "schema_version": 3,
     "solution": false,
     "task": false
    }
   },
   "outputs": [],
   "source": [
    "# It is assumed you \"trained\" knn_sklearn in Exercise 11.\n",
    "sklearn_predictions = knn_sklearn.predict(X_test)"
   ]
  },
  {
   "cell_type": "markdown",
   "metadata": {
    "deletable": false,
    "editable": false,
    "nbgrader": {
     "cell_type": "markdown",
     "checksum": "ec3362624ec53de8d5a4bef321f5bbfe",
     "grade": false,
     "grade_id": "cell-8d27bcdb4c09a815",
     "locked": true,
     "schema_version": 3,
     "solution": false,
     "task": false
    }
   },
   "source": [
    "Are the two predictions the same?"
   ]
  },
  {
   "cell_type": "code",
   "execution_count": null,
   "metadata": {
    "deletable": false,
    "editable": false,
    "nbgrader": {
     "cell_type": "code",
     "checksum": "ee4b7712f5242404cc28bc11fe09f879",
     "grade": true,
     "grade_id": "cell-d92f3bd4a07ef5a7",
     "locked": true,
     "points": 1,
     "schema_version": 3,
     "solution": false,
     "task": false
    }
   },
   "outputs": [],
   "source": [
    "assert (your_predictions == sklearn_predictions).all()"
   ]
  }
 ],
 "metadata": {
  "kernelspec": {
   "display_name": "CSE204",
   "language": "python",
   "name": "cse204"
  },
  "language_info": {
   "codemirror_mode": {
    "name": "ipython",
    "version": 3
   },
   "file_extension": ".py",
   "mimetype": "text/x-python",
   "name": "python",
   "nbconvert_exporter": "python",
   "pygments_lexer": "ipython3",
   "version": "3.8.12"
  },
  "toc-autonumbering": true
 },
 "nbformat": 4,
 "nbformat_minor": 4
}
