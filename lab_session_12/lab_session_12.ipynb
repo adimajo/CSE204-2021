{
 "cells": [
  {
   "cell_type": "markdown",
   "metadata": {},
   "source": [
    "Before you turn this problem in, make sure everything runs as expected. First, **restart the kernel** (in the menubar, select Kernel$\\rightarrow$Restart) and then **run all cells** (in the menubar, select Cell$\\rightarrow$Run All).\n",
    "\n",
    "Make sure you fill in any place that says `YOUR CODE HERE` or \"YOUR ANSWER HERE\", as well as your name and collaborators below:"
   ]
  },
  {
   "cell_type": "code",
   "execution_count": null,
   "metadata": {},
   "outputs": [],
   "source": [
    "NAME = \"\"\n",
    "COLLABORATORS = \"\""
   ]
  },
  {
   "cell_type": "markdown",
   "metadata": {},
   "source": [
    "---"
   ]
  },
  {
   "cell_type": "markdown",
   "metadata": {
    "colab_type": "text",
    "deletable": false,
    "editable": false,
    "id": "yw6trru89_zZ",
    "nbgrader": {
     "cell_type": "markdown",
     "checksum": "36dd0cdcaed44c5c16d57313e711ac85",
     "grade": false,
     "grade_id": "cell-a474f0130611ac2d",
     "locked": true,
     "schema_version": 3,
     "solution": false,
     "task": false
    }
   },
   "source": [
    "# CSE204 - Introduction to Machine Learning - Lab Session 12 - Exam\n",
    "\n",
    "<img src=\"https://raw.githubusercontent.com/adimajo/CSE204-2021/master/data/logo.jpg\" style=\"float: left; width: 15%\" />\n",
    "\n",
    "[CSE204-2021](https://moodle.polytechnique.fr/course/view.php?id=12838) Lab session #12 - Exam\n",
    "\n",
    "Adrien Ehrhardt\n",
    "\n",
    "Groupe B"
   ]
  },
  {
   "cell_type": "markdown",
   "metadata": {
    "deletable": false,
    "editable": false,
    "nbgrader": {
     "cell_type": "markdown",
     "checksum": "799543c22b47169361c50f63b26550fc",
     "grade": false,
     "grade_id": "cell-bb26551f0cb5c24e",
     "locked": true,
     "schema_version": 3,
     "solution": false,
     "task": false
    }
   },
   "source": [
    "## Quiz"
   ]
  },
  {
   "cell_type": "markdown",
   "metadata": {
    "deletable": false,
    "editable": false,
    "nbgrader": {
     "cell_type": "markdown",
     "checksum": "fdba5da8c99f9ed03062a98e584f360c",
     "grade": false,
     "grade_id": "cell-d17efce607ddc61d",
     "locked": true,
     "schema_version": 3,
     "solution": false,
     "task": false
    }
   },
   "source": [
    "The following function `impute_missing` pertains to the moodle quiz question on Missing Value Imputation (12 points). It is separate from the 'main' lab exercises which follow. Complete the function by replacing `# TODO` tags with your code, according to the instructions given."
   ]
  },
  {
   "cell_type": "code",
   "execution_count": null,
   "metadata": {
    "deletable": false,
    "editable": false,
    "nbgrader": {
     "cell_type": "code",
     "checksum": "bb892acc2f933b2de511407f07f8c5fa",
     "grade": false,
     "grade_id": "cell-23f2c1af6114d4f5",
     "locked": true,
     "schema_version": 3,
     "solution": false,
     "task": false
    }
   },
   "outputs": [],
   "source": [
    "import numpy as np\n",
    "from sklearn.decomposition import PCA"
   ]
  },
  {
   "cell_type": "code",
   "execution_count": null,
   "metadata": {
    "deletable": false,
    "nbgrader": {
     "cell_type": "code",
     "checksum": "e022ae163eca5684694dba68366b44fa",
     "grade": false,
     "grade_id": "cell-ece201af36a2bfc0",
     "locked": false,
     "schema_version": 3,
     "solution": true,
     "task": false
    }
   },
   "outputs": [],
   "source": [
    "def impute_missing(X: np.ndarray, random_number: float = 2.5) -> float:\n",
    "    \"\"\"\n",
    "    Perform PCA missing data imputation\n",
    "\n",
    "    :param numpy.ndarray X: array with one missing value\n",
    "    :param float random_number: initialize missing value to this random value\n",
    "    :return: imputed value\n",
    "    :rtype: float\n",
    "    \"\"\"\n",
    "    # Identify the row and column of the missing value\n",
    "    i, j = np.argwhere(np.isnan(X))[0]\n",
    "\n",
    "    # TODO: Impute 'random_number' to replace the missing value\n",
    "    # YOUR CODE HERE\n",
    "    raise NotImplementedError()\n",
    "\n",
    "    # TODO: Carry out PCA by completing the code below\n",
    "    # TODO: Reconstruct X from the main component\n",
    "    # TODO: Impute the value\n",
    "    pca = PCA(n_components=2).fit(X)\n",
    "    U = pca.components_.T\n",
    "    Lambda = pca.explained_variance_\n",
    "    # YOUR CODE HERE\n",
    "    raise NotImplementedError()\n",
    "\n",
    "    return X[i, j]"
   ]
  },
  {
   "cell_type": "code",
   "execution_count": null,
   "metadata": {
    "deletable": false,
    "editable": false,
    "nbgrader": {
     "cell_type": "code",
     "checksum": "9b8afae684f273bf5a49362d6a9526d9",
     "grade": false,
     "grade_id": "cell-6516012d1c66f625",
     "locked": true,
     "schema_version": 3,
     "solution": false,
     "task": false
    }
   },
   "outputs": [],
   "source": [
    "# Data \n",
    "X = np.array([\n",
    "    [-5,-1.5],\n",
    "    [-3,-3],\n",
    "    [-1,-0.5],\n",
    "    [-1,4],\n",
    "    [np.nan,2],\n",
    "    [4,4],\n",
    "    [8,6.5],\n",
    "    [9,7],\n",
    "    [9,-3.5],\n",
    "])\n",
    "\n",
    "\n",
    "print(impute_missing(X))"
   ]
  },
  {
   "cell_type": "markdown",
   "metadata": {
    "deletable": false,
    "editable": false,
    "nbgrader": {
     "cell_type": "markdown",
     "checksum": "532ab6b3247143bb23c9e487a6247334",
     "grade": false,
     "grade_id": "cell-a5ae1c6d33edd6b8",
     "locked": true,
     "schema_version": 3,
     "solution": false,
     "task": false
    }
   },
   "source": [
    "## Overall presentation"
   ]
  },
  {
   "cell_type": "markdown",
   "metadata": {
    "deletable": false,
    "editable": false,
    "nbgrader": {
     "cell_type": "markdown",
     "checksum": "547ebc43765e98d729545034e48c368b",
     "grade": false,
     "grade_id": "cell-2e7d7c15417b6cfb",
     "locked": true,
     "schema_version": 3,
     "solution": false,
     "task": false
    }
   },
   "source": [
    "Emphasis is put on the quiz, which will be worth $\\approx$ 50 % of this exam's grade.\n",
    "\n",
    "This lab is composed of 3 exercises, granting up to 3, 3 and 5 points.\n",
    "\n",
    "There are examples of automatic tests that are run against your code. **They are not exhaustive nor sufficient** (we will run other - hidden - tests), **but they are necessary**: they have to pass, otherwise you can be sure *not* to get the points.\n",
    "\n",
    "You **cannot** Google anything. The exam is open book w.r.t. the lectures. Some help and hints are provided for each question (e.g. which function to use and how), and you can also use the `help(...)` function and consult the documentation linked in this notebook.\n",
    "\n",
    "- **Do not** delete any pre-existing cell (you can create and delete your own cells for testing).\n",
    "- **Do not** change the type (Markdown / Code / ...) of any pre-existing cell.\n",
    "- Run the notebook with the **CSE204** kernel - if you didn't install it beforehand (come on, it's the $12^{th}$ lab!), proceed at your own risk.\n",
    "- **Do not** rename the file when uploading your work on Moodle.\n",
    "- **Do not** edit the notebook's or a cell's metadata."
   ]
  },
  {
   "cell_type": "markdown",
   "metadata": {
    "deletable": false,
    "editable": false,
    "nbgrader": {
     "cell_type": "markdown",
     "checksum": "3b818c88a94b465164de465ad9685c3a",
     "grade": false,
     "grade_id": "cell-2369821571c3dd70",
     "locked": true,
     "schema_version": 3,
     "solution": false,
     "task": false
    }
   },
   "source": [
    "## Imports"
   ]
  },
  {
   "cell_type": "code",
   "execution_count": null,
   "metadata": {
    "deletable": false,
    "editable": false,
    "nbgrader": {
     "cell_type": "code",
     "checksum": "999efb0cce5511917ec22c29ec59f609",
     "grade": false,
     "grade_id": "cell-0bc9dfa21277e476",
     "locked": true,
     "schema_version": 3,
     "solution": false,
     "task": false
    }
   },
   "outputs": [],
   "source": [
    "import os\n",
    "import gc\n",
    "import json\n",
    "from copy import deepcopy\n",
    "import itertools\n",
    "import pickle\n",
    "import numpy as np\n",
    "import pandas as pd\n",
    "import sklearn as sk\n",
    "from sklearn.tree import DecisionTreeClassifier\n",
    "import tensorflow as tf\n",
    "import tensorflow.keras.datasets.mnist as mnist\n",
    "from tensorflow.keras.layers import Dense, Input, Conv2D, Activation, Dropout, MaxPooling2D,\\\n",
    "    BatchNormalization, Flatten, UpSampling2D, Reshape\n",
    "from tensorflow.keras import Model\n",
    "from tensorflow.keras.optimizers import SGD\n",
    "from tensorflow.keras.preprocessing import image\n",
    "import matplotlib.pyplot as plt"
   ]
  },
  {
   "cell_type": "markdown",
   "metadata": {
    "deletable": false,
    "editable": false,
    "nbgrader": {
     "cell_type": "markdown",
     "checksum": "e82b342a8f0748dcb6cc7ce86c10dd5d",
     "grade": false,
     "grade_id": "cell-3518fb9008a3444d",
     "locked": true,
     "schema_version": 3,
     "solution": false,
     "task": false
    }
   },
   "source": [
    "## Introduction\n",
    "\n",
    "In this lab, you will get hands-on experience with Unsupervised Learning, namely dimension reduction using PCA and Undercomplete Autoencoders, as well as Supervised Learning, namely multi-label classification.\n",
    "\n",
    "The goal of dimension reduction is to find a suitable transformation which converts a high-dimensional space into a smaller feature space, such that the important information is not lost, but the visualization and interpretability are easier.\n",
    "\n",
    "The goal of supervised multi-label classification is to predict the membership of a sample to **possibly several** categories."
   ]
  },
  {
   "cell_type": "markdown",
   "metadata": {
    "deletable": false,
    "editable": false,
    "nbgrader": {
     "cell_type": "markdown",
     "checksum": "61098f539f1b976ffe0c45c2b5286038",
     "grade": false,
     "grade_id": "cell-a3468f57a4c1bd49",
     "locked": true,
     "schema_version": 3,
     "solution": false,
     "task": false
    }
   },
   "source": [
    "## Dataset"
   ]
  },
  {
   "cell_type": "markdown",
   "metadata": {
    "deletable": false,
    "editable": false,
    "nbgrader": {
     "cell_type": "markdown",
     "checksum": "5a479cd6affc6f7c88ee26aaefe09a15",
     "grade": false,
     "grade_id": "cell-e9f506008bb3bfca",
     "locked": true,
     "schema_version": 3,
     "solution": false,
     "task": false
    }
   },
   "source": [
    "* Get the data\n",
    "\n",
    "*If* the following cell does not work, *e.g.* on Windows, copy / paste the link to the dataset in your browser and place the downloaded artifact in the same directory as this notebook."
   ]
  },
  {
   "cell_type": "code",
   "execution_count": null,
   "metadata": {
    "deletable": false,
    "editable": false,
    "nbgrader": {
     "cell_type": "code",
     "checksum": "24afa8ebb4aba96bc933b57664fef2a0",
     "grade": false,
     "grade_id": "cell-79a693a58dd82497",
     "locked": true,
     "schema_version": 3,
     "solution": false,
     "task": false
    }
   },
   "outputs": [],
   "source": [
    "%%bash\n",
    "\n",
    "if ! [ -f Movie_Poster_Dataset.zip ]; then\n",
    "    curl -O https://www.cs.ccu.edu.tw/~wtchu/projects/MoviePoster/Movie_Poster_Dataset.zip\n",
    "fi"
   ]
  },
  {
   "cell_type": "code",
   "execution_count": null,
   "metadata": {
    "deletable": false,
    "editable": false,
    "nbgrader": {
     "cell_type": "code",
     "checksum": "44192e5e6e58e98f14bceb2363c25cbc",
     "grade": false,
     "grade_id": "cell-00eb7029f6328b2a",
     "locked": true,
     "schema_version": 3,
     "solution": false,
     "task": false
    }
   },
   "outputs": [],
   "source": [
    "%%bash\n",
    "\n",
    "if ! [ -f Movie_Poster_Metadata.zip ]; then\n",
    "    curl -O https://www.cs.ccu.edu.tw/~wtchu/projects/MoviePoster/Movie_Poster_Metadata.zip\n",
    "fi"
   ]
  },
  {
   "cell_type": "markdown",
   "metadata": {
    "deletable": false,
    "editable": false,
    "nbgrader": {
     "cell_type": "markdown",
     "checksum": "0f183b72e4aaad388971d8da30787716",
     "grade": false,
     "grade_id": "cell-523023c420d65d04",
     "locked": true,
     "schema_version": 3,
     "solution": false,
     "task": false
    }
   },
   "source": [
    "* Unzip the data\n",
    "\n",
    "*If* the following cell does not work, *e.g.* on Windows, unzip the directory using your built-in tools (try double-clicking the zip file)."
   ]
  },
  {
   "cell_type": "code",
   "execution_count": null,
   "metadata": {},
   "outputs": [],
   "source": [
    "%%bash\n",
    "\n",
    "if ! [ -r Movie_Poster_Dataset ]; then\n",
    "    unzip -o Movie_Poster_Dataset.zip\n",
    "fi"
   ]
  },
  {
   "cell_type": "code",
   "execution_count": null,
   "metadata": {},
   "outputs": [],
   "source": [
    "%%bash\n",
    "\n",
    "if ! [ -r groundtruth ]; then\n",
    "    unzip -o Movie_Poster_Metadata.zip\n",
    "fi"
   ]
  },
  {
   "cell_type": "markdown",
   "metadata": {
    "deletable": false,
    "editable": false,
    "nbgrader": {
     "cell_type": "markdown",
     "checksum": "f555d696ed767aee7fcb53ff6329ffa2",
     "grade": false,
     "grade_id": "cell-0be0f13521fcc309",
     "locked": true,
     "schema_version": 3,
     "solution": false,
     "task": false
    }
   },
   "source": [
    "You should now have folders named `Movie_Poster_Dataset` and `groundtruth` in your working directory containing years of pictures of movie posters and associated metadata (in particular their genre(s))."
   ]
  },
  {
   "cell_type": "markdown",
   "metadata": {
    "deletable": false,
    "editable": false,
    "nbgrader": {
     "cell_type": "markdown",
     "checksum": "943fd62a92e6dab8bb1c864ea20239d6",
     "grade": false,
     "grade_id": "cell-552addd393d63fde",
     "locked": true,
     "schema_version": 3,
     "solution": false,
     "task": false
    }
   },
   "source": [
    "* List id's and genres from `groundtruth` to obtain `y` (the categories to predict)"
   ]
  },
  {
   "cell_type": "code",
   "execution_count": null,
   "metadata": {
    "deletable": false,
    "editable": false,
    "nbgrader": {
     "cell_type": "code",
     "checksum": "d45f5924974d8ffe702f29592e7b094c",
     "grade": false,
     "grade_id": "cell-750521ce5b4af7bf",
     "locked": true,
     "schema_version": 3,
     "solution": false,
     "task": false
    }
   },
   "outputs": [],
   "source": [
    "files = []\n",
    "for year in range(1980, 2016):  # loop through years\n",
    "    encoding = 'utf-8' if year in [1980, 1981] else 'utf-16'\n",
    "    with open(f'groundtruth/{year}.txt', 'r', encoding=encoding) as f:  # open metadata file\n",
    "        file = '[' + f.read() + ']'\n",
    "        file = file.replace('}', '},')\n",
    "        file = file.replace('ObjectId(', '')\n",
    "        file = file.replace('),', ',')\n",
    "        file = file.replace(',\\n]', ']')\n",
    "        data = json.loads(file)  # read metadata file\n",
    "        files.append(pd.DataFrame(data)[['imdbID', 'Genre']])  # keep only interesting information"
   ]
  },
  {
   "cell_type": "code",
   "execution_count": null,
   "metadata": {
    "deletable": false,
    "editable": false,
    "nbgrader": {
     "cell_type": "code",
     "checksum": "be3607197085b8a94ab8237b8c2ecb9d",
     "grade": false,
     "grade_id": "cell-523bf92ecd57d0a8",
     "locked": true,
     "schema_version": 3,
     "solution": false,
     "task": false
    }
   },
   "outputs": [],
   "source": [
    "genres = pd.concat(files)  # concatenate all years in a single pandas DataFrame"
   ]
  },
  {
   "cell_type": "code",
   "execution_count": null,
   "metadata": {
    "deletable": false,
    "editable": false,
    "nbgrader": {
     "cell_type": "code",
     "checksum": "35c9aa022a8275307e9ede0741958cc4",
     "grade": false,
     "grade_id": "cell-7370afb137706f7a",
     "locked": true,
     "schema_version": 3,
     "solution": false,
     "task": false
    }
   },
   "outputs": [],
   "source": [
    "# List all genres in the dataset\n",
    "possible_genres = np.unique(list(itertools.chain.from_iterable(\n",
    "    genres.Genre.str.split(', ').to_list())))"
   ]
  },
  {
   "cell_type": "code",
   "execution_count": null,
   "metadata": {
    "deletable": false,
    "editable": false,
    "nbgrader": {
     "cell_type": "code",
     "checksum": "5468cb7bad2be24d63b638ac54f0404d",
     "grade": false,
     "grade_id": "cell-fa52df96134bf734",
     "locked": true,
     "schema_version": 3,
     "solution": false,
     "task": false
    }
   },
   "outputs": [],
   "source": [
    "possible_genres"
   ]
  },
  {
   "cell_type": "code",
   "execution_count": null,
   "metadata": {
    "deletable": false,
    "editable": false,
    "nbgrader": {
     "cell_type": "code",
     "checksum": "a32df4268fd23d80b43a9a95cd98acaf",
     "grade": false,
     "grade_id": "cell-8723f88917c71f96",
     "locked": true,
     "schema_version": 3,
     "solution": false,
     "task": false
    }
   },
   "outputs": [],
   "source": [
    "genres.set_index('imdbID', inplace=True)  # set _id as the DataFrame's index"
   ]
  },
  {
   "cell_type": "code",
   "execution_count": null,
   "metadata": {
    "deletable": false,
    "editable": false,
    "nbgrader": {
     "cell_type": "code",
     "checksum": "027e1a2cece1ba349f7f144902ed91f8",
     "grade": false,
     "grade_id": "cell-0c4358b2b452cad7",
     "locked": true,
     "schema_version": 3,
     "solution": false,
     "task": false
    }
   },
   "outputs": [],
   "source": [
    "# Create one boolean column for each genre and each movie\n",
    "for genre in possible_genres:\n",
    "    genres[genre] = genres.Genre.str.contains(genre) * 1"
   ]
  },
  {
   "cell_type": "code",
   "execution_count": null,
   "metadata": {
    "deletable": false,
    "editable": false,
    "nbgrader": {
     "cell_type": "code",
     "checksum": "2f39ab52a7abfd29967aaa281a7f7901",
     "grade": false,
     "grade_id": "cell-2284e0f2e3fa8285",
     "locked": true,
     "schema_version": 3,
     "solution": false,
     "task": false
    }
   },
   "outputs": [],
   "source": [
    "genres.drop(columns=\"Genre\", inplace=True)\n",
    "genres = genres[~genres.index.duplicated(keep='first')]\n",
    "genres"
   ]
  },
  {
   "cell_type": "markdown",
   "metadata": {
    "deletable": false,
    "editable": false,
    "nbgrader": {
     "cell_type": "markdown",
     "checksum": "44405c972dd1f9e18e3f819ed8b8740e",
     "grade": false,
     "grade_id": "cell-3093ff689a5ff093",
     "locked": true,
     "schema_version": 3,
     "solution": false,
     "task": false
    }
   },
   "source": [
    "* Load images in an array\n",
    "\n",
    "Beware of the weird double-loop (to go easy on the memory)."
   ]
  },
  {
   "cell_type": "code",
   "execution_count": null,
   "metadata": {
    "deletable": false,
    "editable": false,
    "nbgrader": {
     "cell_type": "code",
     "checksum": "17b7af279a9514964e7781ed86750395",
     "grade": false,
     "grade_id": "cell-82aa3eecb63c5e76",
     "locked": true,
     "schema_version": 3,
     "solution": false,
     "task": false
    }
   },
   "outputs": [],
   "source": [
    "def train_test_split(subset: str = \"train\", max_size=4000):\n",
    "    if subset == \"train\":\n",
    "        start = 0\n",
    "    else:\n",
    "        start = 20\n",
    "    images_loop = []\n",
    "    images_ids = []\n",
    "    increment_size = 3\n",
    "    images = np.zeros((max_size, 200, 200, 3))\n",
    "    compteur = 0\n",
    "    for year in range(1980 + start, 1980 + start + 15):\n",
    "        if year > 2005:\n",
    "            continue\n",
    "        print(f'Loading posters from year {year}')\n",
    "        for filename in os.listdir(f'Movie_Poster_Dataset/{year}'):\n",
    "            img = image.load_img(f'Movie_Poster_Dataset/{year}/{filename}',\n",
    "                                 target_size=(200, 200, 3))\n",
    "            img = image.img_to_array(img)\n",
    "            img = img / 255\n",
    "            images[compteur, :, :, :] = img\n",
    "            images_ids.append(filename.replace('.jpg', ''))\n",
    "            compteur += 1\n",
    "    return images[:compteur, :, :, :], np.array(images_ids)"
   ]
  },
  {
   "cell_type": "code",
   "execution_count": null,
   "metadata": {
    "deletable": false,
    "editable": false,
    "nbgrader": {
     "cell_type": "code",
     "checksum": "e1281ee4a6c029c2dffadc50aea6e1fd",
     "grade": false,
     "grade_id": "cell-5e228a3ae387a0dc",
     "locked": true,
     "schema_version": 3,
     "solution": false,
     "task": false
    }
   },
   "outputs": [],
   "source": [
    "# Do not run this several times due to memory leaks\n",
    "gc.collect()\n",
    "X_train, indices_train = train_test_split()"
   ]
  },
  {
   "cell_type": "markdown",
   "metadata": {
    "deletable": false,
    "editable": false,
    "nbgrader": {
     "cell_type": "markdown",
     "checksum": "93bd8262f3e9ca5519c48b3af760333c",
     "grade": false,
     "grade_id": "cell-da778d4e77957249",
     "locked": true,
     "schema_version": 3,
     "solution": false,
     "task": false
    }
   },
   "source": [
    "First poster:"
   ]
  },
  {
   "cell_type": "code",
   "execution_count": null,
   "metadata": {
    "deletable": false,
    "editable": false,
    "nbgrader": {
     "cell_type": "code",
     "checksum": "89a2c85696ff6fbacd4c06e4f1df2331",
     "grade": false,
     "grade_id": "cell-5123c87b918ca94a",
     "locked": true,
     "schema_version": 3,
     "solution": false,
     "task": false
    }
   },
   "outputs": [],
   "source": [
    "plt.imshow(X_train[0, :, :, :])\n",
    "plt.axis('off');"
   ]
  },
  {
   "cell_type": "markdown",
   "metadata": {
    "deletable": false,
    "editable": false,
    "nbgrader": {
     "cell_type": "markdown",
     "checksum": "8cb1af7708e506fa8900aa8988b6cb4d",
     "grade": false,
     "grade_id": "cell-2555ae058c67a6bc",
     "locked": true,
     "schema_version": 3,
     "solution": false,
     "task": false
    }
   },
   "source": [
    "Get categories:"
   ]
  },
  {
   "cell_type": "code",
   "execution_count": null,
   "metadata": {
    "deletable": false,
    "editable": false,
    "nbgrader": {
     "cell_type": "code",
     "checksum": "2ac4fb631428dce55c5f3957d46454be",
     "grade": false,
     "grade_id": "cell-2f950d461ac222ae",
     "locked": true,
     "schema_version": 3,
     "solution": false,
     "task": false
    }
   },
   "outputs": [],
   "source": [
    "y_train = genres.loc[genres.index.isin(indices_train)].values\n",
    "y_train"
   ]
  },
  {
   "cell_type": "code",
   "execution_count": null,
   "metadata": {
    "deletable": false,
    "editable": false,
    "nbgrader": {
     "cell_type": "code",
     "checksum": "e92fa4dcd276585ef923ad39a7f2888f",
     "grade": false,
     "grade_id": "cell-7cf5c3327261f996",
     "locked": true,
     "schema_version": 3,
     "solution": false,
     "task": false
    }
   },
   "outputs": [],
   "source": [
    "X_train.shape, indices_train.shape, y_train.shape"
   ]
  },
  {
   "cell_type": "code",
   "execution_count": null,
   "metadata": {
    "deletable": false,
    "editable": false,
    "nbgrader": {
     "cell_type": "code",
     "checksum": "9a9c972745d3a17f2f992deb94c9558c",
     "grade": false,
     "grade_id": "cell-2189ae42b6442f9e",
     "locked": true,
     "schema_version": 3,
     "solution": false,
     "task": false
    }
   },
   "outputs": [],
   "source": [
    "X_test, indices_test = train_test_split(\"test\")"
   ]
  },
  {
   "cell_type": "code",
   "execution_count": null,
   "metadata": {
    "deletable": false,
    "editable": false,
    "nbgrader": {
     "cell_type": "code",
     "checksum": "d1c35a1749907b04df7e502364e62114",
     "grade": false,
     "grade_id": "cell-bc2c8b91c6e7a036",
     "locked": true,
     "schema_version": 3,
     "solution": false,
     "task": false
    }
   },
   "outputs": [],
   "source": [
    "y_test = genres.loc[genres.index.isin(indices_test)].values\n",
    "y_test"
   ]
  },
  {
   "cell_type": "code",
   "execution_count": null,
   "metadata": {
    "deletable": false,
    "editable": false,
    "nbgrader": {
     "cell_type": "code",
     "checksum": "dfb622c05896a91c6098a09e40c5912b",
     "grade": false,
     "grade_id": "cell-c1057440d6c4b47a",
     "locked": true,
     "schema_version": 3,
     "solution": false,
     "task": false
    }
   },
   "outputs": [],
   "source": [
    "X_test.shape, indices_test.shape, y_test.shape"
   ]
  },
  {
   "cell_type": "code",
   "execution_count": null,
   "metadata": {
    "deletable": false,
    "editable": false,
    "nbgrader": {
     "cell_type": "code",
     "checksum": "cfb7da056a748d80d4d1fb26ef5a4119",
     "grade": false,
     "grade_id": "cell-38533b5d741bbf9b",
     "locked": true,
     "schema_version": 3,
     "solution": false,
     "task": false
    }
   },
   "outputs": [],
   "source": [
    "X_train_reshaped = X_train.reshape(X_train.shape[0], np.prod(X_train.shape[1:]))\n",
    "X_train_reshaped.shape"
   ]
  },
  {
   "cell_type": "code",
   "execution_count": null,
   "metadata": {
    "deletable": false,
    "editable": false,
    "nbgrader": {
     "cell_type": "code",
     "checksum": "4259cc23be3b814b24ef27e5edac140f",
     "grade": false,
     "grade_id": "cell-26ab4d2b94ce8412",
     "locked": true,
     "schema_version": 3,
     "solution": false,
     "task": false
    }
   },
   "outputs": [],
   "source": [
    "X_test_reshaped = X_test.reshape(X_test.shape[0], np.prod(X_test.shape[1:]))\n",
    "X_test_reshaped.shape"
   ]
  },
  {
   "cell_type": "markdown",
   "metadata": {
    "deletable": false,
    "editable": false,
    "nbgrader": {
     "cell_type": "markdown",
     "checksum": "905e39478dcb2381562c6f0f5338613d",
     "grade": false,
     "grade_id": "cell-5b562a282b98a550",
     "locked": true,
     "schema_version": 3,
     "solution": false,
     "task": false
    }
   },
   "source": [
    "## Exercise 1: PCA (3 points)"
   ]
  },
  {
   "cell_type": "markdown",
   "metadata": {
    "deletable": false,
    "editable": false,
    "nbgrader": {
     "cell_type": "markdown",
     "checksum": "e63f0fc14f4d5f4a558fbbacae941766",
     "grade": false,
     "grade_id": "cell-e2a848e33dd63099",
     "locked": true,
     "schema_version": 3,
     "solution": false,
     "task": false
    }
   },
   "source": [
    "Complete the following function."
   ]
  },
  {
   "cell_type": "markdown",
   "metadata": {},
   "source": [
    "Recall that:\n",
    "\n",
    "The Singular Value Decomposition of a matrix $X \\in R^{n\\times p}$ is given as\n",
    "\n",
    "$$ X = U \\Sigma W^T, $$\n",
    "\n",
    "where $\\Sigma \\in R^{n\\times p}$ is a rectangular diagonal matrix of positive values known as the singular values of $X$ (often denoted by $\\sigma(X)$), and $U \\in R^{n\\times n}$ and $W \\in R^{p\\times p}$ are orthonormal matrices, which columns are the left and right (respectively) singular vectors of the matrix $X$.\n",
    "\n",
    "We can reduce the dimensionality of our data by truncating the transformed variables to include only a subset of those variables with the highest variance. For example, if we keep the first `n_components` $\\leq p$ variables, the reduced transformation reads\n",
    "\n",
    "$$ T_{n_{components}} = X W_{n_{components}}. $$\n",
    "\n",
    "We can then decode to reconstruct the images from the lower-dimensional space. Recall that based on the PCA transformation, we can compute the reconstructed images with\n",
    "\n",
    "$$ \\hat{X} = X W_{n_{components}} W_{n_{components}}^T $$\n",
    "\n",
    "<!-- See [lab_session_10](https://adimajo.github.io/CSE204-2021/lab_session_10/lab_session_10.html). -->"
   ]
  },
  {
   "cell_type": "code",
   "execution_count": null,
   "metadata": {
    "deletable": false,
    "nbgrader": {
     "cell_type": "code",
     "checksum": "1113615b59364118d91b870b205a8391",
     "grade": false,
     "grade_id": "cell-456e8eb29ea0d79b",
     "locked": false,
     "schema_version": 3,
     "solution": true,
     "task": false
    }
   },
   "outputs": [],
   "source": [
    "def transform_PCA(X_train, X_test, n_components: int = 3):\n",
    "    \"\"\"\n",
    "    Learns principal components analysis on X_train, returns the projections of X_train and X_test \n",
    "    on n_components first principal components and W_n_components.\n",
    "    :param numpy.ndarray X_train: training set of size n x p\n",
    "    :param numpy.ndarray X_test: testing set of size m x p\n",
    "    :param int n_components: number of components to retain in the PCA decomposition\n",
    "    :return: projection of X_train, X_test and W_n_components from SVD\n",
    "    \"\"\"\n",
    "    # YOUR CODE HERE\n",
    "    raise NotImplementedError()\n",
    "    return X_train_transformed, X_test_transformed, W_n_components"
   ]
  },
  {
   "cell_type": "code",
   "execution_count": null,
   "metadata": {
    "deletable": false,
    "editable": false,
    "nbgrader": {
     "cell_type": "code",
     "checksum": "8c09fc44c73e4c4b16638efc2caf2ffe",
     "grade": true,
     "grade_id": "cell-4b382e18f6b12e0c",
     "locked": true,
     "points": 2,
     "schema_version": 3,
     "solution": false,
     "task": false
    }
   },
   "outputs": [],
   "source": [
    "X_train_PCA_transformed, X_test_PCA_transformed, W_n_components = transform_PCA(X_train_reshaped, X_test_reshaped)\n",
    "assert X_test_PCA_transformed.shape[1] == 3"
   ]
  },
  {
   "cell_type": "markdown",
   "metadata": {
    "deletable": false,
    "editable": false,
    "nbgrader": {
     "cell_type": "markdown",
     "checksum": "4d7290b2a2858bb1a23a6d3ffa7f94c9",
     "grade": false,
     "grade_id": "cell-e74ec808a87a7040",
     "locked": true,
     "schema_version": 3,
     "solution": false,
     "task": false
    }
   },
   "source": [
    "#### 2D representation"
   ]
  },
  {
   "cell_type": "code",
   "execution_count": null,
   "metadata": {
    "deletable": false,
    "editable": false,
    "nbgrader": {
     "cell_type": "code",
     "checksum": "8ff38c995067d5c4c312783c82e7c953",
     "grade": false,
     "grade_id": "cell-09611e83ece4c7ce",
     "locked": true,
     "schema_version": 3,
     "solution": false,
     "task": false
    }
   },
   "outputs": [],
   "source": [
    "indices = np.random.randint(0, X_test_PCA_transformed.shape[0], 1000)\n",
    "plt.scatter(X_test_PCA_transformed[indices, 0],\n",
    "            X_test_PCA_transformed[indices, 1],\n",
    "            c=np.argmax(y_train[indices, :], axis=1), cmap='rainbow')\n",
    "plt.colorbar();"
   ]
  },
  {
   "cell_type": "markdown",
   "metadata": {
    "deletable": false,
    "editable": false,
    "nbgrader": {
     "cell_type": "markdown",
     "checksum": "c6862d968441e122fc2fac521391aa95",
     "grade": false,
     "grade_id": "cell-496bb19351f4bfdd",
     "locked": true,
     "schema_version": 3,
     "solution": false,
     "task": false
    }
   },
   "source": [
    "#### Reconstruction"
   ]
  },
  {
   "cell_type": "markdown",
   "metadata": {
    "deletable": false,
    "editable": false,
    "nbgrader": {
     "cell_type": "markdown",
     "checksum": "1045b17372d2d3dc302269efd58156e4",
     "grade": false,
     "grade_id": "cell-e4d34a4d7a59346e",
     "locked": true,
     "schema_version": 3,
     "solution": false,
     "task": false
    }
   },
   "source": [
    "Complete the following function:"
   ]
  },
  {
   "cell_type": "code",
   "execution_count": null,
   "metadata": {
    "deletable": false,
    "nbgrader": {
     "cell_type": "code",
     "checksum": "eb622c4b68ca10021be4256d9e451a4f",
     "grade": false,
     "grade_id": "cell-5ab8fe0b1decf378",
     "locked": false,
     "schema_version": 3,
     "solution": true,
     "task": false
    }
   },
   "outputs": [],
   "source": [
    "def reconstruct_image(X_transformed: np.ndarray, W: np.ndarray):\n",
    "    \"\"\"\n",
    "    Reconstruct an image from a projection onto n_components\n",
    "    \"\"\"\n",
    "    # YOUR CODE HERE\n",
    "    raise NotImplementedError()"
   ]
  },
  {
   "cell_type": "code",
   "execution_count": null,
   "metadata": {
    "deletable": false,
    "editable": false,
    "nbgrader": {
     "cell_type": "code",
     "checksum": "bc40e2163feb2e17e2ce9c8652004fdb",
     "grade": true,
     "grade_id": "cell-4e82eb56e66fad88",
     "locked": true,
     "points": 1,
     "schema_version": 3,
     "solution": false,
     "task": false
    }
   },
   "outputs": [],
   "source": [
    "new_data = reconstruct_image(X_test_PCA_transformed[:5, :], W_n_components)\n",
    "assert new_data.shape == (5, 200 * 200 * 3)"
   ]
  },
  {
   "cell_type": "code",
   "execution_count": null,
   "metadata": {
    "deletable": false,
    "editable": false,
    "nbgrader": {
     "cell_type": "code",
     "checksum": "ada69176def33bbe389e743bda4d2b41",
     "grade": false,
     "grade_id": "cell-df476bd88e0d1460",
     "locked": true,
     "schema_version": 3,
     "solution": false,
     "task": false
    }
   },
   "outputs": [],
   "source": [
    "fig, ax = plt.subplots(2, 5)\n",
    "for i in range(5):\n",
    "    ax[0, i].imshow(X_test[i, :])\n",
    "    ax[0, i].set_axis_off()\n",
    "    ax[1, i].imshow(new_data[i, :].reshape(200, 200, 3))\n",
    "    ax[1, i].set_axis_off()"
   ]
  },
  {
   "cell_type": "markdown",
   "metadata": {
    "deletable": false,
    "editable": false,
    "nbgrader": {
     "cell_type": "markdown",
     "checksum": "07b07c1208171a4f9aee71f2972d6e55",
     "grade": false,
     "grade_id": "cell-a6a10b9da49866a5",
     "locked": true,
     "schema_version": 3,
     "solution": false,
     "task": false
    }
   },
   "source": [
    "## Exercise 2: Convolutional Autoencoders (3 points)"
   ]
  },
  {
   "cell_type": "markdown",
   "metadata": {
    "deletable": false,
    "editable": false,
    "nbgrader": {
     "cell_type": "markdown",
     "checksum": "e5c7a3cd61a0bc1b354e7969be6f850b",
     "grade": false,
     "grade_id": "cell-d912b9625a34d3d5",
     "locked": true,
     "schema_version": 3,
     "solution": false,
     "task": false
    }
   },
   "source": [
    "Complete the following function by adding:\n",
    "* An encoder with:\n",
    "    * An [`Input`](https://keras.io/api/layers/core_layers/input/) layer of `shape` `input_size`;\n",
    "    * A [`Conv2D`](https://keras.io/api/layers/convolution_layers/convolution2d/) layer of 16 3x3 filters for each channel, with `same` padding and `relu` activation;\n",
    "    * A [`MaxPooling2D`](https://keras.io/api/layers/pooling_layers/max_pooling2d/) layer of 4x4 `pool_size` with `same padding`;\n",
    "    * A [`Conv2D`](https://keras.io/api/layers/convolution_layers/convolution2d/) layer of 2 3x3 filters for each channel, with `same` padding and `relu` activation;\n",
    "    * A [`MaxPooling2D`](https://keras.io/api/layers/pooling_layers/max_pooling2d/) layer of 4x4 `pool_size` with `same padding`;\n",
    "    * A [`Flatten`](https://keras.io/api/layers/reshaping_layers/flatten/) layer;\n",
    "    * A [`Dense`](https://keras.io/api/layers/core_layers/dense/) layer with `code_size` nodes;\n",
    "* A decoder with:\n",
    "    * A [`Dense`](https://keras.io/api/layers/core_layers/dense/) layer with 338 nodes;\n",
    "    * A [`Reshape`](https://keras.io/api/layers/reshaping_layers/reshape/) layer with `target_shape` of `(13, 13, 2)`;\n",
    "    * A [`Conv2D`](https://keras.io/api/layers/convolution_layers/convolution2d/) layer of 2 3x3 filters for each channel, with `same` padding and `relu` activation;\n",
    "    * An [`UpSampling2D`](https://keras.io/api/layers/reshaping_layers/up_sampling2d/) layer with `size` 4x4;\n",
    "    * A [`Conv2D`](https://keras.io/api/layers/convolution_layers/convolution2d/) layer of 16 3x3 filters for each channel, with `relu` activation;\n",
    "    * An [`UpSampling2D`](https://keras.io/api/layers/reshaping_layers/up_sampling2d/) layer with `size` 4x4;\n",
    "    * A [`Conv2D`](https://keras.io/api/layers/convolution_layers/convolution2d/) layer of 1 3x3 filters for each channel, with `same` padding and `sigmoid` activation.\n",
    "* [Compile](https://keras.io/api/models/model_training_apis/) the resulting autoencoder with optimizer `Adam` and `mean_square_error` loss;\n",
    "* Return the autoencoder and the encoder."
   ]
  },
  {
   "cell_type": "code",
   "execution_count": null,
   "metadata": {
    "deletable": false,
    "nbgrader": {
     "cell_type": "code",
     "checksum": "75c47a9e4e9f6a6e26530d209cba8fca",
     "grade": false,
     "grade_id": "cell-2bbb7a153d63b27c",
     "locked": false,
     "schema_version": 3,
     "solution": true,
     "task": false
    }
   },
   "outputs": [],
   "source": [
    "def convolutional_autoencoder(input_size, code_size: int):\n",
    "    \"\"\"\n",
    "    Instanciate and compiles an autoencoder, returns both the autoencoder and just the encoder\n",
    "\n",
    "    :param tuple input_size: shape of the input samples\n",
    "    :param int code_size: size of the new representation space\n",
    "    :return: autoencoder, encoder\n",
    "    \"\"\"\n",
    "    # YOUR CODE HERE\n",
    "    raise NotImplementedError()\n",
    "    return autoencoder, encoder"
   ]
  },
  {
   "cell_type": "code",
   "execution_count": null,
   "metadata": {
    "deletable": false,
    "editable": false,
    "nbgrader": {
     "cell_type": "code",
     "checksum": "920c72be384c108d8512d3cfd0006d08",
     "grade": true,
     "grade_id": "cell-f7616640d90e8942",
     "locked": true,
     "points": 3,
     "schema_version": 3,
     "solution": false,
     "task": false
    }
   },
   "outputs": [],
   "source": [
    "cnn_autoencoder, cnn_encoder = convolutional_autoencoder(X_train.shape[1:], 3)"
   ]
  },
  {
   "cell_type": "markdown",
   "metadata": {
    "deletable": false,
    "editable": false,
    "nbgrader": {
     "cell_type": "markdown",
     "checksum": "5925b467d9fe772e19d846dc8f726d39",
     "grade": false,
     "grade_id": "cell-721a7e1aec1d2e1c",
     "locked": true,
     "schema_version": 3,
     "solution": false,
     "task": false
    }
   },
   "source": [
    "The following cell trains the convolutional autoencoder; it is quite long to run. If you're confident about your code, you might want to skip this and go to the next section, coming back here when necessary / when you're done. You **can** also train on fewer examples / less epochs (modify the cell below) to speed things up and debug your code."
   ]
  },
  {
   "cell_type": "code",
   "execution_count": null,
   "metadata": {},
   "outputs": [],
   "source": [
    "history = cnn_autoencoder.fit(X_train, X_train, epochs=4)\n",
    "plt.plot(history.history['loss']);"
   ]
  },
  {
   "cell_type": "code",
   "execution_count": null,
   "metadata": {
    "deletable": false,
    "editable": false,
    "nbgrader": {
     "cell_type": "code",
     "checksum": "ee4cb0fd5dce9deee190d989edb61f0d",
     "grade": false,
     "grade_id": "cell-0e7650aa479a34e9",
     "locked": true,
     "schema_version": 3,
     "solution": false,
     "task": false
    }
   },
   "outputs": [],
   "source": [
    "X_train_transformed_autoencoder = cnn_encoder.predict(X_train)\n",
    "X_test_transformed_autoencoder = cnn_encoder.predict(X_test)\n",
    "indices = np.random.randint(0, X_test_transformed_autoencoder.shape[0], 1000)\n",
    "plt.scatter(X_test_transformed_autoencoder[indices, 0],\n",
    "            X_test_transformed_autoencoder[indices, 1],\n",
    "            c=np.argmax(y_train[indices, :], axis=1), cmap='rainbow')\n",
    "plt.colorbar();"
   ]
  },
  {
   "cell_type": "code",
   "execution_count": null,
   "metadata": {
    "deletable": false,
    "editable": false,
    "nbgrader": {
     "cell_type": "code",
     "checksum": "a0a858cadf3579eeab782fe904df5e25",
     "grade": false,
     "grade_id": "cell-ca5bc9753da345ac",
     "locked": true,
     "schema_version": 3,
     "solution": false,
     "task": false
    }
   },
   "outputs": [],
   "source": [
    "fig, ax = plt.subplots(2, 5)\n",
    "new_data = cnn_autoencoder.predict(X_test[:6, :])\n",
    "\n",
    "for i in range(5):\n",
    "    ax[0, i].imshow(X_test[i, :])\n",
    "    ax[1, i].imshow(new_data[i, :])\n",
    "    ax[0, i].set_axis_off()\n",
    "    ax[1, i].set_axis_off()"
   ]
  },
  {
   "cell_type": "markdown",
   "metadata": {
    "deletable": false,
    "editable": false,
    "nbgrader": {
     "cell_type": "markdown",
     "checksum": "9587e48a3565e45b1f8f06b93bfceb94",
     "grade": false,
     "grade_id": "cell-3eb1ec6bd9bc24c9",
     "locked": true,
     "schema_version": 3,
     "solution": false,
     "task": false
    }
   },
   "source": [
    "## Exercise 3: Classification (5 points)"
   ]
  },
  {
   "cell_type": "markdown",
   "metadata": {
    "deletable": false,
    "editable": false,
    "nbgrader": {
     "cell_type": "markdown",
     "checksum": "fc7d6a2d0d02ec665a76ff65ad474b0d",
     "grade": false,
     "grade_id": "cell-44ad36eeaaf9f53e",
     "locked": true,
     "schema_version": 3,
     "solution": false,
     "task": false
    }
   },
   "source": [
    "### Using reduced representation and tree-based methods"
   ]
  },
  {
   "cell_type": "markdown",
   "metadata": {
    "deletable": false,
    "editable": false,
    "nbgrader": {
     "cell_type": "markdown",
     "checksum": "59c1aaf36bbf1265718eedffa849e674",
     "grade": false,
     "grade_id": "cell-14d42f19835573f5",
     "locked": true,
     "schema_version": 3,
     "solution": false,
     "task": false
    }
   },
   "source": [
    "To predict the genres of each movie given its poster, we will use a binary classification model, such as a decision tree, **for each label**. "
   ]
  },
  {
   "cell_type": "markdown",
   "metadata": {
    "deletable": false,
    "editable": false,
    "nbgrader": {
     "cell_type": "markdown",
     "checksum": "fec89ec5aa3f5d987c0abd2439ac4852",
     "grade": false,
     "grade_id": "cell-ada31d90cf906ca5",
     "locked": true,
     "schema_version": 3,
     "solution": false,
     "task": false
    }
   },
   "source": [
    "Complete the following function.\n",
    "\n",
    "*Hint*\n",
    "* it should return *e.g.* `{'Action': DecisionTreeClassifier(model_kwargs), ...}`;\n",
    "* you can use `**model_kwargs` to \"unpack\" a dictionary."
   ]
  },
  {
   "cell_type": "code",
   "execution_count": null,
   "metadata": {
    "deletable": false,
    "nbgrader": {
     "cell_type": "code",
     "checksum": "714cfb86d4db724ff17f1794d4837d19",
     "grade": false,
     "grade_id": "cell-ec1df19cbd747af6",
     "locked": false,
     "schema_version": 3,
     "solution": true,
     "task": false
    }
   },
   "outputs": [],
   "source": [
    "def dict_of_binary_models(labels, model, model_kwargs):\n",
    "    \"\"\"\n",
    "    Constructs a dict with key label and instanciate and object of class model as value.\n",
    "\n",
    "    :param list labels: list of labels of genres\n",
    "    :param model: a model Class from sklearn\n",
    "    :param dict model_args: a dictionary of arguments to pass to the model instanciation\n",
    "    :return: a dict which key is the label and which value is a new instance of model\n",
    "    \"\"\"\n",
    "    # YOUR CODE HERE\n",
    "    raise NotImplementedError()"
   ]
  },
  {
   "cell_type": "code",
   "execution_count": null,
   "metadata": {
    "deletable": false,
    "editable": false,
    "nbgrader": {
     "cell_type": "code",
     "checksum": "290819d7a9a799254fd1c30caae0843d",
     "grade": false,
     "grade_id": "cell-344efdf9fcb91876",
     "locked": true,
     "schema_version": 3,
     "solution": false,
     "task": false
    }
   },
   "outputs": [],
   "source": [
    "dict_of_models = dict_of_binary_models(genres.columns.to_list(),\n",
    "                                       DecisionTreeClassifier,\n",
    "                                       {'max_depth': 5})"
   ]
  },
  {
   "cell_type": "code",
   "execution_count": null,
   "metadata": {
    "deletable": false,
    "editable": false,
    "nbgrader": {
     "cell_type": "code",
     "checksum": "721fe82ed0e37af3420fc73f9a90840b",
     "grade": true,
     "grade_id": "cell-7307fe5c3f23b0d3",
     "locked": true,
     "points": 0.5,
     "schema_version": 3,
     "solution": false,
     "task": false
    }
   },
   "outputs": [],
   "source": [
    "[print(key, ':', value) for key, value in dict_of_models.items()]\n",
    "assert len(dict_of_models) == len(genres.columns.to_list())"
   ]
  },
  {
   "cell_type": "markdown",
   "metadata": {
    "deletable": false,
    "editable": false,
    "nbgrader": {
     "cell_type": "markdown",
     "checksum": "8a2a2b9a9f310e80eacbdcdb8c4a0a9a",
     "grade": false,
     "grade_id": "cell-207bd71ab81b896f",
     "locked": true,
     "schema_version": 3,
     "solution": false,
     "task": false
    }
   },
   "source": [
    "Complete the following function which calls `fit` of each model in the dictionary with the appropriate data."
   ]
  },
  {
   "cell_type": "code",
   "execution_count": null,
   "metadata": {
    "deletable": false,
    "nbgrader": {
     "cell_type": "code",
     "checksum": "33d575e629449c59505d59937f34a00e",
     "grade": false,
     "grade_id": "cell-e8fb02ea2ec6e251",
     "locked": false,
     "schema_version": 3,
     "solution": true,
     "task": false
    }
   },
   "outputs": [],
   "source": [
    "# YOUR CODE HERE\n",
    "raise NotImplementedError()"
   ]
  },
  {
   "cell_type": "code",
   "execution_count": null,
   "metadata": {
    "deletable": false,
    "editable": false,
    "nbgrader": {
     "cell_type": "code",
     "checksum": "393f75fdff4158175544a365be35eaaf",
     "grade": false,
     "grade_id": "cell-eb6fe13c09596c6c",
     "locked": true,
     "schema_version": 3,
     "solution": false,
     "task": false
    }
   },
   "outputs": [],
   "source": [
    "train_binary_models(dict_of_models, X_train_PCA_transformed, y_train)"
   ]
  },
  {
   "cell_type": "code",
   "execution_count": null,
   "metadata": {
    "deletable": false,
    "editable": false,
    "nbgrader": {
     "cell_type": "code",
     "checksum": "3be70366535c401db5d10a49a19fb3a2",
     "grade": true,
     "grade_id": "cell-50736020c2dd2446",
     "locked": true,
     "points": 0.5,
     "schema_version": 3,
     "solution": false,
     "task": false
    }
   },
   "outputs": [],
   "source": [
    "for label in dict_of_models.keys():\n",
    "    assert hasattr(dict_of_models[label], \"classes_\")"
   ]
  },
  {
   "cell_type": "markdown",
   "metadata": {
    "deletable": false,
    "editable": false,
    "nbgrader": {
     "cell_type": "markdown",
     "checksum": "91632f76e9c3bb7ab7e32eec2ca28009",
     "grade": false,
     "grade_id": "cell-fd0290175286c1ed",
     "locked": true,
     "schema_version": 3,
     "solution": false,
     "task": false
    }
   },
   "source": [
    "Complete the following function which predicts each label on `X_test`."
   ]
  },
  {
   "cell_type": "code",
   "execution_count": null,
   "metadata": {
    "deletable": false,
    "nbgrader": {
     "cell_type": "code",
     "checksum": "5c099a0302cdb6c2defe26fb4c8996c0",
     "grade": false,
     "grade_id": "cell-2e961057a1a9ecdf",
     "locked": false,
     "schema_version": 3,
     "solution": true,
     "task": false
    }
   },
   "outputs": [],
   "source": [
    "def pred_binary_models(dict_of_models: dict, X_test: np.ndarray):\n",
    "    \"\"\"\n",
    "    Applies predict method for each classifier on X_test\n",
    "\n",
    "    :param dict dict_of_models: a dictionary (key: class labels, values: sklearn trained models)\n",
    "    :param numpy.ndarray X_test: testing dataset\n",
    "    :returns: a dictionary (key: class labels, values: np.ndarray of binary class prediction)\n",
    "    \"\"\"\n",
    "    # YOUR CODE HERE\n",
    "    raise NotImplementedError()"
   ]
  },
  {
   "cell_type": "code",
   "execution_count": null,
   "metadata": {
    "deletable": false,
    "editable": false,
    "nbgrader": {
     "cell_type": "code",
     "checksum": "1b8f28a2df220af2fc7cfb9d9215aac0",
     "grade": false,
     "grade_id": "cell-7aa3b2999372432b",
     "locked": true,
     "schema_version": 3,
     "solution": false,
     "task": false
    }
   },
   "outputs": [],
   "source": [
    "dict_of_predictions = pred_binary_models(dict_of_models, X_test_PCA_transformed)"
   ]
  },
  {
   "cell_type": "code",
   "execution_count": null,
   "metadata": {
    "deletable": false,
    "editable": false,
    "nbgrader": {
     "cell_type": "code",
     "checksum": "8fcbebdecb61f29eac025696976168fa",
     "grade": true,
     "grade_id": "cell-fa556d52fe3c3744",
     "locked": true,
     "points": 0.5,
     "schema_version": 3,
     "solution": false,
     "task": false
    }
   },
   "outputs": [],
   "source": [
    "[print(key, ':', value) for key, value in dict_of_predictions.items()];"
   ]
  },
  {
   "cell_type": "markdown",
   "metadata": {
    "deletable": false,
    "editable": false,
    "nbgrader": {
     "cell_type": "markdown",
     "checksum": "09b6c4d1b8ce901965e10337fdebff00",
     "grade": false,
     "grade_id": "cell-9d4125a4df67494d",
     "locked": true,
     "schema_version": 3,
     "solution": false,
     "task": false
    }
   },
   "source": [
    "Complete the following function which computes the error rate for each label."
   ]
  },
  {
   "cell_type": "code",
   "execution_count": null,
   "metadata": {
    "deletable": false,
    "nbgrader": {
     "cell_type": "code",
     "checksum": "ec0399c2f5393499b96410cca478ea20",
     "grade": false,
     "grade_id": "cell-2fe6a7bece24e410",
     "locked": false,
     "schema_version": 3,
     "solution": true,
     "task": false
    }
   },
   "outputs": [],
   "source": [
    "# YOUR CODE HERE\n",
    "raise NotImplementedError()"
   ]
  },
  {
   "cell_type": "code",
   "execution_count": null,
   "metadata": {},
   "outputs": [],
   "source": [
    "dict_of_error_rate_pca = dict_of_error_rate(dict_of_predictions, y_test)"
   ]
  },
  {
   "cell_type": "code",
   "execution_count": null,
   "metadata": {
    "deletable": false,
    "editable": false,
    "nbgrader": {
     "cell_type": "code",
     "checksum": "85e23f51034b237b23d4abd1ff256f81",
     "grade": true,
     "grade_id": "cell-f912729d50bd7763",
     "locked": true,
     "points": 0.5,
     "schema_version": 3,
     "solution": false,
     "task": false
    }
   },
   "outputs": [],
   "source": [
    "[print(key, ':', value) for key, value in dict_of_error_rate_pca.items()];"
   ]
  },
  {
   "cell_type": "markdown",
   "metadata": {
    "deletable": false,
    "editable": false,
    "nbgrader": {
     "cell_type": "markdown",
     "checksum": "42ac42551310a0b108f98a0f903f9ad4",
     "grade": false,
     "grade_id": "cell-c2696266abac25e9",
     "locked": true,
     "schema_version": 3,
     "solution": false,
     "task": false
    }
   },
   "source": [
    "Let's rerun the whole thing with the convolutional autoencoder approach:"
   ]
  },
  {
   "cell_type": "code",
   "execution_count": null,
   "metadata": {
    "deletable": false,
    "editable": false,
    "nbgrader": {
     "cell_type": "code",
     "checksum": "7cb4ea20767e7fe6c90aa121972fc8b4",
     "grade": true,
     "grade_id": "cell-bd3cce8d625ae4b4",
     "locked": true,
     "points": 1,
     "schema_version": 3,
     "solution": false,
     "task": false
    }
   },
   "outputs": [],
   "source": [
    "dict_of_models = dict_of_binary_models(genres.columns.to_list(),\n",
    "                                       DecisionTreeClassifier,\n",
    "                                       {'max_depth': 5})\n",
    "train_binary_models(dict_of_models, X_train_transformed_autoencoder, y_train)\n",
    "for label in dict_of_models.keys():\n",
    "    assert hasattr(dict_of_models[label], \"classes_\")\n",
    "dict_of_predictions = pred_binary_models(dict_of_models, X_test_transformed_autoencoder)\n",
    "[print(key, ':', value) for key, value in dict_of_predictions.items()];\n",
    "print('\\n')\n",
    "dict_of_error_rate_autoencoder = dict_of_error_rate(dict_of_predictions, y_test)\n",
    "[print(key, ':', value) for key, value in dict_of_error_rate_autoencoder.items()];"
   ]
  },
  {
   "cell_type": "code",
   "execution_count": null,
   "metadata": {
    "deletable": false,
    "editable": false,
    "nbgrader": {
     "cell_type": "code",
     "checksum": "092fe563902587edb92cb2d6594a6c27",
     "grade": false,
     "grade_id": "cell-147565bd10c97ef6",
     "locked": true,
     "schema_version": 3,
     "solution": false,
     "task": false
    }
   },
   "outputs": [],
   "source": [
    "error_rates = pd.DataFrame([dict_of_error_rate_pca, dict_of_error_rate_autoencoder],\n",
    "                           index=['PCA', 'Autoencoder']).T\n",
    "error_rates"
   ]
  },
  {
   "cell_type": "markdown",
   "metadata": {
    "deletable": false,
    "editable": false,
    "nbgrader": {
     "cell_type": "markdown",
     "checksum": "e305fc695866b2957eb581910fb9d681",
     "grade": false,
     "grade_id": "cell-3aab05139b74b07e",
     "locked": true,
     "schema_version": 3,
     "solution": false,
     "task": false
    }
   },
   "source": [
    "### Using CNNs"
   ]
  },
  {
   "cell_type": "markdown",
   "metadata": {
    "deletable": false,
    "editable": false,
    "nbgrader": {
     "cell_type": "markdown",
     "checksum": "4d1ee60280ca770631a28342c8c800ec",
     "grade": false,
     "grade_id": "cell-55a70ffc57f1b423",
     "locked": true,
     "schema_version": 3,
     "solution": false,
     "task": false
    }
   },
   "source": [
    "If the goal is first and foremost to predict the probable genre, why not use directly a CNN with a classification layer!\n",
    "\n",
    "Complete the following function by adding:\n",
    "* A [`Conv2D`](https://keras.io/api/layers/convolution_layers/convolution2d/) layer of 32 3x3 filters for each channel, with `same` padding and `relu` activation;\n",
    "* A [`Conv2D`](https://keras.io/api/layers/convolution_layers/convolution2d/) layer of 32 3x3 filters for each channel, with `same` padding and `relu` activation;\n",
    "* A [`MaxPooling2D`](https://keras.io/api/layers/pooling_layers/max_pooling2d/) layer of 4x4 `pool_size` with `same padding`;\n",
    "* A [`Conv2D`](https://keras.io/api/layers/convolution_layers/convolution2d/) layer of 32 3x3 filters for each channel, with `same` padding and `relu` activation;\n",
    "* A [`Conv2D`](https://keras.io/api/layers/convolution_layers/convolution2d/) layer of 32 3x3 filters for each channel, with `same` padding and `relu` activation;\n",
    "* A [`MaxPooling2D`](https://keras.io/api/layers/pooling_layers/max_pooling2d/) layer of 4x4 `pool_size` with `same padding`;\n",
    "* A [`Flatten`](https://keras.io/api/layers/reshaping_layers/flatten/) layer;\n",
    "* A [`Dense`](https://keras.io/api/layers/core_layers/dense/) layer with 512 nodes and `relu` activation;\n",
    "* A [`Dense`](https://keras.io/api/layers/core_layers/dense/) layer with `num_classes` nodes and `sigmoid` activation;\n",
    "* [Compile](https://keras.io/api/models/model_training_apis/) the resulting model with optimizer `SGD` and `binary_crossentropy` loss;\n",
    "* Return the resulting model."
   ]
  },
  {
   "cell_type": "code",
   "execution_count": null,
   "metadata": {
    "deletable": false,
    "nbgrader": {
     "cell_type": "code",
     "checksum": "3ee92100f9152a740c0f39463686d80e",
     "grade": false,
     "grade_id": "cell-2267390acc1a088f",
     "locked": false,
     "schema_version": 3,
     "solution": true,
     "task": false
    }
   },
   "outputs": [],
   "source": [
    "def cnn_model(input_shape: tuple, num_classes: int):\n",
    "    \"\"\"\n",
    "    Returns a compiled keras Conv2D model\n",
    "    \n",
    "    :param tuple input_shape: shape of ONE example as passed to the first layer\n",
    "    :param int num_classes: number of output classes as passed to the last layer\n",
    "    \"\"\"\n",
    "    model = tf.keras.models.Sequential()\n",
    "    # model.add(...)\n",
    "    # YOUR CODE HERE\n",
    "    raise NotImplementedError()\n",
    "    # model.compile(...)\n",
    "    # YOUR CODE HERE\n",
    "    raise NotImplementedError()\n",
    "    return model"
   ]
  },
  {
   "cell_type": "code",
   "execution_count": null,
   "metadata": {
    "deletable": false,
    "editable": false,
    "nbgrader": {
     "cell_type": "code",
     "checksum": "77c4f652245ee0473eb1f8cd56bcb6f8",
     "grade": false,
     "grade_id": "cell-e9f8d05e95745747",
     "locked": true,
     "schema_version": 3,
     "solution": false,
     "task": false
    }
   },
   "outputs": [],
   "source": [
    "model = cnn_model(X_train.shape[1:], y_train.shape[1])"
   ]
  },
  {
   "cell_type": "code",
   "execution_count": null,
   "metadata": {
    "deletable": false,
    "editable": false,
    "nbgrader": {
     "cell_type": "code",
     "checksum": "1356924b1b553d333398d4b55c0b7ffd",
     "grade": true,
     "grade_id": "cell-8110d15c6a54ee3a",
     "locked": true,
     "points": 1,
     "schema_version": 3,
     "solution": false,
     "task": false
    }
   },
   "outputs": [],
   "source": []
  },
  {
   "cell_type": "markdown",
   "metadata": {
    "deletable": false,
    "editable": false,
    "nbgrader": {
     "cell_type": "markdown",
     "checksum": "40440542191b0c36097ecbb79bde7ed3",
     "grade": false,
     "grade_id": "cell-801d45f9ee640528",
     "locked": true,
     "schema_version": 3,
     "solution": false,
     "task": false
    }
   },
   "source": [
    "The following cell trains the convolutional autoencoder; it is quite long to run. If you're confident about your code, you might want to skip this and go to the next section, coming back here when necessary / when you're done. You **can** also train on fewer examples / less epochs (modify the cell below) to speed things up and debug your code."
   ]
  },
  {
   "cell_type": "code",
   "execution_count": null,
   "metadata": {},
   "outputs": [],
   "source": [
    "early_stopping = tf.keras.callbacks.EarlyStopping(\n",
    "    monitor='val_accuracy', min_delta=0, patience=2, mode='auto')\n",
    "\n",
    "history = model.fit(X_train, y_train, batch_size=32, epochs=5, \n",
    "    validation_data=(X_test, y_test), shuffle=True, callbacks=[early_stopping])\n",
    "\n",
    "plt.plot(history.history['loss']);"
   ]
  },
  {
   "cell_type": "code",
   "execution_count": null,
   "metadata": {
    "deletable": false,
    "editable": false,
    "nbgrader": {
     "cell_type": "code",
     "checksum": "522416bdd9686891dec055a5db253efa",
     "grade": true,
     "grade_id": "cell-619acfb4fe8fe6b4",
     "locked": true,
     "points": 1,
     "schema_version": 3,
     "solution": false,
     "task": false
    }
   },
   "outputs": [],
   "source": [
    "# Predict probabilities for each class on X_test\n",
    "predictions_cnn = model.predict(X_test)"
   ]
  },
  {
   "cell_type": "code",
   "execution_count": null,
   "metadata": {
    "deletable": false,
    "editable": false,
    "nbgrader": {
     "cell_type": "code",
     "checksum": "179375a4422582ab99010514da07ccbb",
     "grade": false,
     "grade_id": "cell-c5545a37d2705a88",
     "locked": true,
     "schema_version": 3,
     "solution": false,
     "task": false
    }
   },
   "outputs": [],
   "source": [
    "# Convert probabilities into decisions (class membership) with 0.5 threshold\n",
    "cnn_decisions = (predictions_cnn > 0.5) * 1"
   ]
  },
  {
   "cell_type": "code",
   "execution_count": null,
   "metadata": {
    "deletable": false,
    "editable": false,
    "nbgrader": {
     "cell_type": "code",
     "checksum": "f56d8f9aa49947d84b4b064430df79e0",
     "grade": false,
     "grade_id": "cell-55bc2d644f7874ae",
     "locked": true,
     "schema_version": 3,
     "solution": false,
     "task": false
    }
   },
   "outputs": [],
   "source": [
    "# Compute error rates per class\n",
    "error_rates_cnn = np.sum(np.abs(y_test - cnn_decisions), axis=0) / y_test.shape[0]"
   ]
  },
  {
   "cell_type": "code",
   "execution_count": null,
   "metadata": {
    "deletable": false,
    "editable": false,
    "nbgrader": {
     "cell_type": "code",
     "checksum": "3a1385411680fbba4ea8febde0f1654b",
     "grade": false,
     "grade_id": "cell-713cc5c5659d16fa",
     "locked": true,
     "schema_version": 3,
     "solution": false,
     "task": false
    }
   },
   "outputs": [],
   "source": [
    "# Add to PCA and Autoencoder error rates and display\n",
    "error_rates['CNN'] = error_rates_cnn\n",
    "error_rates"
   ]
  }
 ],
 "metadata": {
  "colab": {
   "name": "Copie de Lab10.ipynb",
   "provenance": [
    {
     "file_id": "https://github.com/jbscoggi/teaching/blob/master/Polytechnique/CSE204/Lab10.ipynb",
     "timestamp": 1576227388467
    }
   ]
  },
  "kernelspec": {
   "display_name": "CSE204",
   "language": "python",
   "name": "cse204"
  },
  "language_info": {
   "codemirror_mode": {
    "name": "ipython",
    "version": 3
   },
   "file_extension": ".py",
   "mimetype": "text/x-python",
   "name": "python",
   "nbconvert_exporter": "python",
   "pygments_lexer": "ipython3",
   "version": "3.8.12"
  }
 },
 "nbformat": 4,
 "nbformat_minor": 4
}
